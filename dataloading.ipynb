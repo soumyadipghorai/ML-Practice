{
 "cells": [
  {
   "cell_type": "code",
   "execution_count": 11,
   "metadata": {},
   "outputs": [
    {
     "name": "stdout",
     "output_type": "stream",
     "text": [
      "vote --> 0 candidate --> -1 i --> 0---->vote --> 1 candidate --> 1 i --> 0\n",
      "vote --> 1 candidate --> 1 i --> 1---->vote --> 0 candidate --> 1 i --> 1\n",
      "vote --> 0 candidate --> 1 i --> 2---->vote --> 1 candidate --> 0 i --> 2\n",
      "vote --> 1 candidate --> 0 i --> 3---->vote --> 0 candidate --> 0 i --> 3\n",
      "vote --> 0 candidate --> 0 i --> 4---->vote --> 1 candidate --> 1 i --> 4\n",
      "vote --> 1 candidate --> 1 i --> 5---->vote --> 0 candidate --> 1 i --> 5\n",
      "vote --> 0 candidate --> 1 i --> 6---->vote --> 1 candidate --> 1 i --> 6\n",
      "vote --> 1 candidate --> 1 i --> 7---->vote --> 2 candidate --> 1 i --> 7\n",
      "vote --> 2 candidate --> 1 i --> 8---->vote --> 3 candidate --> 1 i --> 8\n",
      "vote --> 3 candidate --> 1 i --> 9---->vote --> 4 candidate --> 1 i --> 9\n",
      "vote --> 4 candidate --> 1 i --> 10---->vote --> 3 candidate --> 1 i --> 10\n",
      "vote --> 3 candidate --> 1 i --> 11---->vote --> 2 candidate --> 1 i --> 11\n",
      "vote --> 2 candidate --> 1 i --> 12---->vote --> 1 candidate --> 1 i --> 12\n",
      " The majority element is : 1\n"
     ]
    }
   ],
   "source": [
    "# Boyer-Moore Majority Voting Algorithm\n",
    "# Function to find majority element\n",
    "def findMajority(arr, n):\n",
    "    candidate = -1\n",
    "    votes = 0\n",
    "     \n",
    "    # Finding majority candidate\n",
    "    for i in range (n):\n",
    "        print('vote -->', votes, 'candidate -->', candidate,'i -->', i, end = '---->')\n",
    "        if (votes == 0):\n",
    "            candidate = arr[i]\n",
    "            votes = 1\n",
    "        else:\n",
    "            if (arr[i] == candidate):\n",
    "                votes += 1\n",
    "            else:\n",
    "                votes -= 1\n",
    "        print('vote -->', votes, 'candidate -->', candidate,'i -->', i)\n",
    "    count = 0\n",
    "     \n",
    "    # Checking if majority candidate occurs more than n/2\n",
    "    # times\n",
    "    for i in range (n):\n",
    "        if (arr[i] == candidate):\n",
    "            count += 1\n",
    "             \n",
    "    if (count > n // 2):\n",
    "        return candidate\n",
    "    else:\n",
    "        return -1\n",
    " \n",
    "# Driver Code \n",
    " \n",
    "arr = [1, 0, 0, 1, 1, 2, 1, 1, 1, 1, 2, 3, 4 ]\n",
    "n = len(arr)\n",
    "majority = findMajority(arr, n)\n",
    "print(\" The majority element is :\" ,majority)\n",
    "     \n",
    "# This code is contributed by shivanisinghss2110  "
   ]
  },
  {
   "cell_type": "markdown",
   "metadata": {},
   "source": [
    "## loaders"
   ]
  },
  {
   "cell_type": "markdown",
   "metadata": {},
   "source": [
    "### Iris"
   ]
  },
  {
   "cell_type": "code",
   "execution_count": 4,
   "metadata": {},
   "outputs": [],
   "source": [
    "from sklearn.datasets import load_iris \n",
    "\n",
    "data = load_iris()"
   ]
  },
  {
   "cell_type": "code",
   "execution_count": 5,
   "metadata": {},
   "outputs": [
    {
     "data": {
      "text/plain": [
       "sklearn.utils.Bunch"
      ]
     },
     "execution_count": 5,
     "metadata": {},
     "output_type": "execute_result"
    }
   ],
   "source": [
    "type(data)"
   ]
  },
  {
   "cell_type": "code",
   "execution_count": 6,
   "metadata": {},
   "outputs": [
    {
     "data": {
      "text/plain": [
       "['sepal length (cm)',\n",
       " 'sepal width (cm)',\n",
       " 'petal length (cm)',\n",
       " 'petal width (cm)']"
      ]
     },
     "execution_count": 6,
     "metadata": {},
     "output_type": "execute_result"
    }
   ],
   "source": [
    "data.feature_names"
   ]
  },
  {
   "cell_type": "code",
   "execution_count": 7,
   "metadata": {},
   "outputs": [
    {
     "data": {
      "text/plain": [
       "array(['setosa', 'versicolor', 'virginica'], dtype='<U10')"
      ]
     },
     "execution_count": 7,
     "metadata": {},
     "output_type": "execute_result"
    }
   ],
   "source": [
    "data.target_names"
   ]
  },
  {
   "cell_type": "code",
   "execution_count": 9,
   "metadata": {},
   "outputs": [
    {
     "data": {
      "text/plain": [
       "'.. _iris_dataset:\\n\\nIris plants dataset\\n--------------------\\n\\n**Data Set Characteristics:**\\n\\n    :Number of Instances: 150 (50 in each of three classes)\\n    :Number of Attributes: 4 numeric, predictive attributes and the class\\n    :Attribute Information:\\n        - sepal length in cm\\n        - sepal width in cm\\n        - petal length in cm\\n        - petal width in cm\\n        - class:\\n                - Iris-Setosa\\n                - Iris-Versicolour\\n                - Iris-Virginica\\n                \\n    :Summary Statistics:\\n\\n    ============== ==== ==== ======= ===== ====================\\n                    Min  Max   Mean    SD   Class Correlation\\n    ============== ==== ==== ======= ===== ====================\\n    sepal length:   4.3  7.9   5.84   0.83    0.7826\\n    sepal width:    2.0  4.4   3.05   0.43   -0.4194\\n    petal length:   1.0  6.9   3.76   1.76    0.9490  (high!)\\n    petal width:    0.1  2.5   1.20   0.76    0.9565  (high!)\\n    ============== ==== ==== ======= ===== ====================\\n\\n    :Missing Attribute Values: None\\n    :Class Distribution: 33.3% for each of 3 classes.\\n    :Creator: R.A. Fisher\\n    :Donor: Michael Marshall (MARSHALL%PLU@io.arc.nasa.gov)\\n    :Date: July, 1988\\n\\nThe famous Iris database, first used by Sir R.A. Fisher. The dataset is taken\\nfrom Fisher\\'s paper. Note that it\\'s the same as in R, but not as in the UCI\\nMachine Learning Repository, which has two wrong data points.\\n\\nThis is perhaps the best known database to be found in the\\npattern recognition literature.  Fisher\\'s paper is a classic in the field and\\nis referenced frequently to this day.  (See Duda & Hart, for example.)  The\\ndata set contains 3 classes of 50 instances each, where each class refers to a\\ntype of iris plant.  One class is linearly separable from the other 2; the\\nlatter are NOT linearly separable from each other.\\n\\n.. topic:: References\\n\\n   - Fisher, R.A. \"The use of multiple measurements in taxonomic problems\"\\n     Annual Eugenics, 7, Part II, 179-188 (1936); also in \"Contributions to\\n     Mathematical Statistics\" (John Wiley, NY, 1950).\\n   - Duda, R.O., & Hart, P.E. (1973) Pattern Classification and Scene Analysis.\\n     (Q327.D83) John Wiley & Sons.  ISBN 0-471-22361-1.  See page 218.\\n   - Dasarathy, B.V. (1980) \"Nosing Around the Neighborhood: A New System\\n     Structure and Classification Rule for Recognition in Partially Exposed\\n     Environments\".  IEEE Transactions on Pattern Analysis and Machine\\n     Intelligence, Vol. PAMI-2, No. 1, 67-71.\\n   - Gates, G.W. (1972) \"The Reduced Nearest Neighbor Rule\".  IEEE Transactions\\n     on Information Theory, May 1972, 431-433.\\n   - See also: 1988 MLC Proceedings, 54-64.  Cheeseman et al\"s AUTOCLASS II\\n     conceptual clustering system finds 3 classes in the data.\\n   - Many, many more ...'"
      ]
     },
     "execution_count": 9,
     "metadata": {},
     "output_type": "execute_result"
    }
   ],
   "source": [
    "data.DESCR # description"
   ]
  },
  {
   "cell_type": "code",
   "execution_count": 10,
   "metadata": {},
   "outputs": [
    {
     "data": {
      "text/plain": [
       "'iris.csv'"
      ]
     },
     "execution_count": 10,
     "metadata": {},
     "output_type": "execute_result"
    }
   ],
   "source": [
    "data.filename"
   ]
  },
  {
   "cell_type": "code",
   "execution_count": 11,
   "metadata": {},
   "outputs": [
    {
     "data": {
      "text/plain": [
       "array([[5.1, 3.5, 1.4, 0.2],\n",
       "       [4.9, 3. , 1.4, 0.2],\n",
       "       [4.7, 3.2, 1.3, 0.2],\n",
       "       [4.6, 3.1, 1.5, 0.2],\n",
       "       [5. , 3.6, 1.4, 0.2]])"
      ]
     },
     "execution_count": 11,
     "metadata": {},
     "output_type": "execute_result"
    }
   ],
   "source": [
    "data.data[:5]"
   ]
  },
  {
   "cell_type": "code",
   "execution_count": 13,
   "metadata": {},
   "outputs": [
    {
     "data": {
      "text/plain": [
       "(150, 4)"
      ]
     },
     "execution_count": 13,
     "metadata": {},
     "output_type": "execute_result"
    }
   ],
   "source": [
    "data.data.shape"
   ]
  },
  {
   "cell_type": "code",
   "execution_count": 14,
   "metadata": {},
   "outputs": [
    {
     "data": {
      "text/plain": [
       "array([0, 0, 0, 0, 0, 0, 0, 0, 0, 0, 0, 0, 0, 0, 0, 0, 0, 0, 0, 0, 0, 0,\n",
       "       0, 0, 0, 0, 0, 0, 0, 0, 0, 0, 0, 0, 0, 0, 0, 0, 0, 0, 0, 0, 0, 0,\n",
       "       0, 0, 0, 0, 0, 0, 1, 1, 1, 1, 1, 1, 1, 1, 1, 1, 1, 1, 1, 1, 1, 1,\n",
       "       1, 1, 1, 1, 1, 1, 1, 1, 1, 1, 1, 1, 1, 1, 1, 1, 1, 1, 1, 1, 1, 1,\n",
       "       1, 1, 1, 1, 1, 1, 1, 1, 1, 1, 1, 1, 2, 2, 2, 2, 2, 2, 2, 2, 2, 2,\n",
       "       2, 2, 2, 2, 2, 2, 2, 2, 2, 2, 2, 2, 2, 2, 2, 2, 2, 2, 2, 2, 2, 2,\n",
       "       2, 2, 2, 2, 2, 2, 2, 2, 2, 2, 2, 2, 2, 2, 2, 2, 2, 2])"
      ]
     },
     "execution_count": 14,
     "metadata": {},
     "output_type": "execute_result"
    }
   ],
   "source": [
    "data.target"
   ]
  },
  {
   "cell_type": "code",
   "execution_count": 15,
   "metadata": {},
   "outputs": [
    {
     "name": "stdout",
     "output_type": "stream",
     "text": [
      "\u001b[1;31mSignature:\u001b[0m \u001b[0mload_iris\u001b[0m\u001b[1;33m(\u001b[0m\u001b[1;33m*\u001b[0m\u001b[1;33m,\u001b[0m \u001b[0mreturn_X_y\u001b[0m\u001b[1;33m=\u001b[0m\u001b[1;32mFalse\u001b[0m\u001b[1;33m,\u001b[0m \u001b[0mas_frame\u001b[0m\u001b[1;33m=\u001b[0m\u001b[1;32mFalse\u001b[0m\u001b[1;33m)\u001b[0m\u001b[1;33m\u001b[0m\u001b[1;33m\u001b[0m\u001b[0m\n",
      "\u001b[1;31mDocstring:\u001b[0m\n",
      "Load and return the iris dataset (classification).\n",
      "\n",
      "The iris dataset is a classic and very easy multi-class classification\n",
      "dataset.\n",
      "\n",
      "=================   ==============\n",
      "Classes                          3\n",
      "Samples per class               50\n",
      "Samples total                  150\n",
      "Dimensionality                   4\n",
      "Features            real, positive\n",
      "=================   ==============\n",
      "\n",
      "Read more in the :ref:`User Guide <iris_dataset>`.\n",
      "\n",
      "Parameters\n",
      "----------\n",
      "return_X_y : bool, default=False\n",
      "    If True, returns ``(data, target)`` instead of a Bunch object. See\n",
      "    below for more information about the `data` and `target` object.\n",
      "\n",
      "    .. versionadded:: 0.18\n",
      "\n",
      "as_frame : bool, default=False\n",
      "    If True, the data is a pandas DataFrame including columns with\n",
      "    appropriate dtypes (numeric). The target is\n",
      "    a pandas DataFrame or Series depending on the number of target columns.\n",
      "    If `return_X_y` is True, then (`data`, `target`) will be pandas\n",
      "    DataFrames or Series as described below.\n",
      "\n",
      "    .. versionadded:: 0.23\n",
      "\n",
      "Returns\n",
      "-------\n",
      "data : :class:`~sklearn.utils.Bunch`\n",
      "    Dictionary-like object, with the following attributes.\n",
      "\n",
      "    data : {ndarray, dataframe} of shape (150, 4)\n",
      "        The data matrix. If `as_frame=True`, `data` will be a pandas\n",
      "        DataFrame.\n",
      "    target: {ndarray, Series} of shape (150,)\n",
      "        The classification target. If `as_frame=True`, `target` will be\n",
      "        a pandas Series.\n",
      "    feature_names: list\n",
      "        The names of the dataset columns.\n",
      "    target_names: list\n",
      "        The names of target classes.\n",
      "    frame: DataFrame of shape (150, 5)\n",
      "        Only present when `as_frame=True`. DataFrame with `data` and\n",
      "        `target`.\n",
      "\n",
      "        .. versionadded:: 0.23\n",
      "    DESCR: str\n",
      "        The full description of the dataset.\n",
      "    filename: str\n",
      "        The path to the location of the data.\n",
      "\n",
      "        .. versionadded:: 0.20\n",
      "\n",
      "(data, target) : tuple if ``return_X_y`` is True\n",
      "    A tuple of two ndarray. The first containing a 2D array of shape\n",
      "    (n_samples, n_features) with each row representing one sample and\n",
      "    each column representing the features. The second ndarray of shape\n",
      "    (n_samples,) containing the target samples.\n",
      "\n",
      "    .. versionadded:: 0.18\n",
      "\n",
      "Notes\n",
      "-----\n",
      "    .. versionchanged:: 0.20\n",
      "        Fixed two wrong data points according to Fisher's paper.\n",
      "        The new version is the same as in R, but not as in the UCI\n",
      "        Machine Learning Repository.\n",
      "\n",
      "Examples\n",
      "--------\n",
      "Let's say you are interested in the samples 10, 25, and 50, and want to\n",
      "know their class name.\n",
      "\n",
      ">>> from sklearn.datasets import load_iris\n",
      ">>> data = load_iris()\n",
      ">>> data.target[[10, 25, 50]]\n",
      "array([0, 0, 1])\n",
      ">>> list(data.target_names)\n",
      "['setosa', 'versicolor', 'virginica']\n",
      "\u001b[1;31mFile:\u001b[0m      c:\\users\\computer\\appdata\\local\\programs\\python\\python310\\lib\\site-packages\\sklearn\\datasets\\_base.py\n",
      "\u001b[1;31mType:\u001b[0m      function\n"
     ]
    }
   ],
   "source": [
    "?load_iris"
   ]
  },
  {
   "cell_type": "code",
   "execution_count": 17,
   "metadata": {},
   "outputs": [
    {
     "name": "stdout",
     "output_type": "stream",
     "text": [
      "shape of feature matrix  (150, 4)\n",
      "shape of label vector  (150,)\n"
     ]
    }
   ],
   "source": [
    "feature_matrix, label_vector = load_iris(return_X_y=True)\n",
    "print('shape of feature matrix ', feature_matrix.shape)\n",
    "print('shape of label vector ', label_vector.shape)"
   ]
  },
  {
   "cell_type": "markdown",
   "metadata": {},
   "source": [
    "### diabetes "
   ]
  },
  {
   "cell_type": "code",
   "execution_count": 18,
   "metadata": {},
   "outputs": [],
   "source": [
    "from sklearn.datasets import load_wine \n",
    "\n",
    "data = load_wine()"
   ]
  },
  {
   "cell_type": "code",
   "execution_count": 19,
   "metadata": {},
   "outputs": [
    {
     "data": {
      "text/plain": [
       "'.. _wine_dataset:\\n\\nWine recognition dataset\\n------------------------\\n\\n**Data Set Characteristics:**\\n\\n    :Number of Instances: 178 (50 in each of three classes)\\n    :Number of Attributes: 13 numeric, predictive attributes and the class\\n    :Attribute Information:\\n \\t\\t- Alcohol\\n \\t\\t- Malic acid\\n \\t\\t- Ash\\n\\t\\t- Alcalinity of ash  \\n \\t\\t- Magnesium\\n\\t\\t- Total phenols\\n \\t\\t- Flavanoids\\n \\t\\t- Nonflavanoid phenols\\n \\t\\t- Proanthocyanins\\n\\t\\t- Color intensity\\n \\t\\t- Hue\\n \\t\\t- OD280/OD315 of diluted wines\\n \\t\\t- Proline\\n\\n    - class:\\n            - class_0\\n            - class_1\\n            - class_2\\n\\t\\t\\n    :Summary Statistics:\\n    \\n    ============================= ==== ===== ======= =====\\n                                   Min   Max   Mean     SD\\n    ============================= ==== ===== ======= =====\\n    Alcohol:                      11.0  14.8    13.0   0.8\\n    Malic Acid:                   0.74  5.80    2.34  1.12\\n    Ash:                          1.36  3.23    2.36  0.27\\n    Alcalinity of Ash:            10.6  30.0    19.5   3.3\\n    Magnesium:                    70.0 162.0    99.7  14.3\\n    Total Phenols:                0.98  3.88    2.29  0.63\\n    Flavanoids:                   0.34  5.08    2.03  1.00\\n    Nonflavanoid Phenols:         0.13  0.66    0.36  0.12\\n    Proanthocyanins:              0.41  3.58    1.59  0.57\\n    Colour Intensity:              1.3  13.0     5.1   2.3\\n    Hue:                          0.48  1.71    0.96  0.23\\n    OD280/OD315 of diluted wines: 1.27  4.00    2.61  0.71\\n    Proline:                       278  1680     746   315\\n    ============================= ==== ===== ======= =====\\n\\n    :Missing Attribute Values: None\\n    :Class Distribution: class_0 (59), class_1 (71), class_2 (48)\\n    :Creator: R.A. Fisher\\n    :Donor: Michael Marshall (MARSHALL%PLU@io.arc.nasa.gov)\\n    :Date: July, 1988\\n\\nThis is a copy of UCI ML Wine recognition datasets.\\nhttps://archive.ics.uci.edu/ml/machine-learning-databases/wine/wine.data\\n\\nThe data is the results of a chemical analysis of wines grown in the same\\nregion in Italy by three different cultivators. There are thirteen different\\nmeasurements taken for different constituents found in the three types of\\nwine.\\n\\nOriginal Owners: \\n\\nForina, M. et al, PARVUS - \\nAn Extendible Package for Data Exploration, Classification and Correlation. \\nInstitute of Pharmaceutical and Food Analysis and Technologies,\\nVia Brigata Salerno, 16147 Genoa, Italy.\\n\\nCitation:\\n\\nLichman, M. (2013). UCI Machine Learning Repository\\n[https://archive.ics.uci.edu/ml]. Irvine, CA: University of California,\\nSchool of Information and Computer Science. \\n\\n.. topic:: References\\n\\n  (1) S. Aeberhard, D. Coomans and O. de Vel, \\n  Comparison of Classifiers in High Dimensional Settings, \\n  Tech. Rep. no. 92-02, (1992), Dept. of Computer Science and Dept. of  \\n  Mathematics and Statistics, James Cook University of North Queensland. \\n  (Also submitted to Technometrics). \\n\\n  The data was used with many others for comparing various \\n  classifiers. The classes are separable, though only RDA \\n  has achieved 100% correct classification. \\n  (RDA : 100%, QDA 99.4%, LDA 98.9%, 1NN 96.1% (z-transformed data)) \\n  (All results using the leave-one-out technique) \\n\\n  (2) S. Aeberhard, D. Coomans and O. de Vel, \\n  \"THE CLASSIFICATION PERFORMANCE OF RDA\" \\n  Tech. Rep. no. 92-01, (1992), Dept. of Computer Science and Dept. of \\n  Mathematics and Statistics, James Cook University of North Queensland. \\n  (Also submitted to Journal of Chemometrics).\\n'"
      ]
     },
     "execution_count": 19,
     "metadata": {},
     "output_type": "execute_result"
    }
   ],
   "source": [
    "data.DESCR"
   ]
  },
  {
   "cell_type": "code",
   "execution_count": 21,
   "metadata": {},
   "outputs": [
    {
     "data": {
      "text/plain": [
       "(178, 13)"
      ]
     },
     "execution_count": 21,
     "metadata": {},
     "output_type": "execute_result"
    }
   ],
   "source": [
    "data.data.shape"
   ]
  },
  {
   "cell_type": "code",
   "execution_count": 22,
   "metadata": {},
   "outputs": [
    {
     "data": {
      "text/plain": [
       "array([[1.423e+01, 1.710e+00, 2.430e+00, 1.560e+01, 1.270e+02, 2.800e+00,\n",
       "        3.060e+00, 2.800e-01, 2.290e+00, 5.640e+00, 1.040e+00, 3.920e+00,\n",
       "        1.065e+03],\n",
       "       [1.320e+01, 1.780e+00, 2.140e+00, 1.120e+01, 1.000e+02, 2.650e+00,\n",
       "        2.760e+00, 2.600e-01, 1.280e+00, 4.380e+00, 1.050e+00, 3.400e+00,\n",
       "        1.050e+03],\n",
       "       [1.316e+01, 2.360e+00, 2.670e+00, 1.860e+01, 1.010e+02, 2.800e+00,\n",
       "        3.240e+00, 3.000e-01, 2.810e+00, 5.680e+00, 1.030e+00, 3.170e+00,\n",
       "        1.185e+03],\n",
       "       [1.437e+01, 1.950e+00, 2.500e+00, 1.680e+01, 1.130e+02, 3.850e+00,\n",
       "        3.490e+00, 2.400e-01, 2.180e+00, 7.800e+00, 8.600e-01, 3.450e+00,\n",
       "        1.480e+03],\n",
       "       [1.324e+01, 2.590e+00, 2.870e+00, 2.100e+01, 1.180e+02, 2.800e+00,\n",
       "        2.690e+00, 3.900e-01, 1.820e+00, 4.320e+00, 1.040e+00, 2.930e+00,\n",
       "        7.350e+02]])"
      ]
     },
     "execution_count": 22,
     "metadata": {},
     "output_type": "execute_result"
    }
   ],
   "source": [
    "data.data[:5]"
   ]
  },
  {
   "cell_type": "code",
   "execution_count": 23,
   "metadata": {},
   "outputs": [
    {
     "data": {
      "text/plain": [
       "['alcohol',\n",
       " 'malic_acid',\n",
       " 'ash',\n",
       " 'alcalinity_of_ash',\n",
       " 'magnesium',\n",
       " 'total_phenols',\n",
       " 'flavanoids',\n",
       " 'nonflavanoid_phenols',\n",
       " 'proanthocyanins',\n",
       " 'color_intensity',\n",
       " 'hue',\n",
       " 'od280/od315_of_diluted_wines',\n",
       " 'proline']"
      ]
     },
     "execution_count": 23,
     "metadata": {},
     "output_type": "execute_result"
    }
   ],
   "source": [
    "data.feature_names"
   ]
  },
  {
   "cell_type": "code",
   "execution_count": 24,
   "metadata": {},
   "outputs": [
    {
     "data": {
      "text/plain": [
       "array(['class_0', 'class_1', 'class_2'], dtype='<U7')"
      ]
     },
     "execution_count": 24,
     "metadata": {},
     "output_type": "execute_result"
    }
   ],
   "source": [
    "data.target_names"
   ]
  },
  {
   "cell_type": "markdown",
   "metadata": {},
   "source": [
    "## Fetchers"
   ]
  },
  {
   "cell_type": "code",
   "execution_count": 25,
   "metadata": {},
   "outputs": [],
   "source": [
    "from sklearn.datasets import fetch_california_housing"
   ]
  },
  {
   "cell_type": "code",
   "execution_count": 26,
   "metadata": {},
   "outputs": [],
   "source": [
    "data = fetch_california_housing()"
   ]
  },
  {
   "cell_type": "code",
   "execution_count": 27,
   "metadata": {},
   "outputs": [
    {
     "data": {
      "text/plain": [
       "'.. _california_housing_dataset:\\n\\nCalifornia Housing dataset\\n--------------------------\\n\\n**Data Set Characteristics:**\\n\\n    :Number of Instances: 20640\\n\\n    :Number of Attributes: 8 numeric, predictive attributes and the target\\n\\n    :Attribute Information:\\n        - MedInc        median income in block group\\n        - HouseAge      median house age in block group\\n        - AveRooms      average number of rooms per household\\n        - AveBedrms     average number of bedrooms per household\\n        - Population    block group population\\n        - AveOccup      average number of household members\\n        - Latitude      block group latitude\\n        - Longitude     block group longitude\\n\\n    :Missing Attribute Values: None\\n\\nThis dataset was obtained from the StatLib repository.\\nhttps://www.dcc.fc.up.pt/~ltorgo/Regression/cal_housing.html\\n\\nThe target variable is the median house value for California districts,\\nexpressed in hundreds of thousands of dollars ($100,000).\\n\\nThis dataset was derived from the 1990 U.S. census, using one row per census\\nblock group. A block group is the smallest geographical unit for which the U.S.\\nCensus Bureau publishes sample data (a block group typically has a population\\nof 600 to 3,000 people).\\n\\nAn household is a group of people residing within a home. Since the average\\nnumber of rooms and bedrooms in this dataset are provided per household, these\\ncolumns may take surpinsingly large values for block groups with few households\\nand many empty houses, such as vacation resorts.\\n\\nIt can be downloaded/loaded using the\\n:func:`sklearn.datasets.fetch_california_housing` function.\\n\\n.. topic:: References\\n\\n    - Pace, R. Kelley and Ronald Barry, Sparse Spatial Autoregressions,\\n      Statistics and Probability Letters, 33 (1997) 291-297\\n'"
      ]
     },
     "execution_count": 27,
     "metadata": {},
     "output_type": "execute_result"
    }
   ],
   "source": [
    "data.DESCR"
   ]
  },
  {
   "cell_type": "code",
   "execution_count": 28,
   "metadata": {},
   "outputs": [
    {
     "data": {
      "text/plain": [
       "array([[ 8.32520000e+00,  4.10000000e+01,  6.98412698e+00,\n",
       "         1.02380952e+00,  3.22000000e+02,  2.55555556e+00,\n",
       "         3.78800000e+01, -1.22230000e+02],\n",
       "       [ 8.30140000e+00,  2.10000000e+01,  6.23813708e+00,\n",
       "         9.71880492e-01,  2.40100000e+03,  2.10984183e+00,\n",
       "         3.78600000e+01, -1.22220000e+02],\n",
       "       [ 7.25740000e+00,  5.20000000e+01,  8.28813559e+00,\n",
       "         1.07344633e+00,  4.96000000e+02,  2.80225989e+00,\n",
       "         3.78500000e+01, -1.22240000e+02],\n",
       "       [ 5.64310000e+00,  5.20000000e+01,  5.81735160e+00,\n",
       "         1.07305936e+00,  5.58000000e+02,  2.54794521e+00,\n",
       "         3.78500000e+01, -1.22250000e+02],\n",
       "       [ 3.84620000e+00,  5.20000000e+01,  6.28185328e+00,\n",
       "         1.08108108e+00,  5.65000000e+02,  2.18146718e+00,\n",
       "         3.78500000e+01, -1.22250000e+02]])"
      ]
     },
     "execution_count": 28,
     "metadata": {},
     "output_type": "execute_result"
    }
   ],
   "source": [
    "data.data[:5]"
   ]
  },
  {
   "cell_type": "code",
   "execution_count": 29,
   "metadata": {},
   "outputs": [
    {
     "data": {
      "text/plain": [
       "['MedInc',\n",
       " 'HouseAge',\n",
       " 'AveRooms',\n",
       " 'AveBedrms',\n",
       " 'Population',\n",
       " 'AveOccup',\n",
       " 'Latitude',\n",
       " 'Longitude']"
      ]
     },
     "execution_count": 29,
     "metadata": {},
     "output_type": "execute_result"
    }
   ],
   "source": [
    "data.feature_names"
   ]
  },
  {
   "cell_type": "code",
   "execution_count": 30,
   "metadata": {},
   "outputs": [
    {
     "data": {
      "text/plain": [
       "array([4.526, 3.585, 3.521, ..., 0.923, 0.847, 0.894])"
      ]
     },
     "execution_count": 30,
     "metadata": {},
     "output_type": "execute_result"
    }
   ],
   "source": [
    "data.target"
   ]
  },
  {
   "cell_type": "code",
   "execution_count": 31,
   "metadata": {},
   "outputs": [
    {
     "data": {
      "text/plain": [
       "['MedHouseVal']"
      ]
     },
     "execution_count": 31,
     "metadata": {},
     "output_type": "execute_result"
    }
   ],
   "source": [
    "data.target_names"
   ]
  },
  {
   "cell_type": "markdown",
   "metadata": {},
   "source": [
    "### fetch_openml "
   ]
  },
  {
   "cell_type": "code",
   "execution_count": 32,
   "metadata": {},
   "outputs": [],
   "source": [
    "from sklearn.datasets import fetch_openml"
   ]
  },
  {
   "cell_type": "code",
   "execution_count": 33,
   "metadata": {},
   "outputs": [
    {
     "name": "stderr",
     "output_type": "stream",
     "text": [
      "\n",
      "KeyboardInterrupt\n",
      "\n"
     ]
    }
   ],
   "source": [
    "X, y = fetch_openml('mnist_784', version=1, return_X_y= True)\n",
    "print(X.shape)\n",
    "print(y.shape)"
   ]
  },
  {
   "cell_type": "markdown",
   "metadata": {},
   "source": [
    "## generators"
   ]
  },
  {
   "cell_type": "code",
   "execution_count": 34,
   "metadata": {},
   "outputs": [],
   "source": [
    "from sklearn.datasets import make_regression"
   ]
  },
  {
   "cell_type": "code",
   "execution_count": 35,
   "metadata": {},
   "outputs": [],
   "source": [
    "X, y = make_regression(n_samples = 100, n_features = 5, n_targets = 1, shuffle = True, random_state = 42)"
   ]
  },
  {
   "cell_type": "code",
   "execution_count": 36,
   "metadata": {},
   "outputs": [
    {
     "data": {
      "text/plain": [
       "(100, 5)"
      ]
     },
     "execution_count": 36,
     "metadata": {},
     "output_type": "execute_result"
    }
   ],
   "source": [
    "X.shape"
   ]
  },
  {
   "cell_type": "code",
   "execution_count": 40,
   "metadata": {},
   "outputs": [
    {
     "data": {
      "text/plain": [
       "array([[ 0.88163976, -1.42225371,  1.68714164, -0.64657288, -1.081548  ],\n",
       "       [ 1.30547881, -0.2176812 ,  0.81350964,  1.09877685,  0.82541635],\n",
       "       [ 0.13074058, -1.24778318, -0.44004449,  1.6324113 , -1.43014138],\n",
       "       [ 0.58685709,  0.79103195, -1.40185106, -0.90938745,  1.40279431],\n",
       "       [ 0.35701549, -0.20812225,  0.8496021 , -0.49300093, -0.58936476],\n",
       "       [ 1.52312408, -0.00797264, -0.8612842 ,  1.47994414,  0.07736831],\n",
       "       [ 0.77463405, -0.48423407,  0.44381943,  1.26691115, -0.70766947],\n",
       "       [-1.75873949,  1.36863156,  1.05842449, -0.96492346,  0.68605146],\n",
       "       [-0.45006547, -1.59442766,  0.04698059, -0.59937502,  0.0052437 ],\n",
       "       [ 3.85273149, -0.93782504,  0.51504769,  0.51503527,  0.51378595],\n",
       "       [-1.23086432,  1.54993441,  0.81351722, -0.78325329, -0.32206152],\n",
       "       [ 0.17318093, -0.44651495, -1.24573878,  0.85639879,  0.21409374],\n",
       "       [-0.82723094, -1.00252936,  0.32271856, -0.01851314, -0.28865864],\n",
       "       [-0.25256815, -0.92693047, -1.02438764, -0.05952536, -3.24126734],\n",
       "       [ 0.65655361, -0.71435142, -1.1913035 ,  1.86577451,  0.47383292],\n",
       "       [-1.98756891,  0.8219025 ,  0.09176078,  0.08704707, -0.29900735],\n",
       "       [ 1.50235705, -1.18325851,  0.71754226, -2.03923218, -0.26940683],\n",
       "       [-0.02090159, -0.82899501,  0.61037027, -0.56018104,  0.74729361],\n",
       "       [ 0.82254491, -0.60170661, -1.05771093,  1.85227818, -0.01349722],\n",
       "       [-1.20029641, -0.79252074,  0.86575519, -0.11473644,  0.50498728],\n",
       "       [ 2.72016917,  0.82718325, -0.26465683,  0.01300189,  1.45353408],\n",
       "       [ 0.51326743, -0.50175704, -0.5297602 ,  0.91540212,  0.32875111],\n",
       "       [ 0.97511973, -0.01224677, -0.67716171, -0.89725437,  0.07580456],\n",
       "       [-0.57690366,  0.15039379,  0.95042384,  0.34175598,  1.87617084],\n",
       "       [-1.4123037 , -0.56228753, -0.90802408, -1.01283112,  0.31424733],\n",
       "       [-0.31526924,  0.57089051,  0.65139125,  1.13556564,  0.95400176],\n",
       "       [-0.91942423, -1.55066343,  0.47359243,  0.06856297, -1.06230371],\n",
       "       [ 0.64537595,  2.06074792,  0.97157095,  1.75534084, -0.24896415],\n",
       "       [ 0.69014399,  0.51934651,  0.40171172,  1.53273891, -0.10876015],\n",
       "       [ 0.85243333,  0.63391902, -0.66178646, -2.02514259,  0.18645431],\n",
       "       [-0.16128571, -1.41537074, -0.80227727, -0.42064532, -0.34271452],\n",
       "       [-0.77300978, -0.40122047,  0.0976761 ,  0.22409248,  0.0125924 ],\n",
       "       [-0.01901621,  0.31090757, -0.15993853,  1.47535622,  0.85765962],\n",
       "       [ 0.67959775,  1.0889506 , -0.71530371,  0.06428002, -1.07774478],\n",
       "       [-0.53025762, -0.0626791 ,  0.50404652,  0.95514232, -0.98572605],\n",
       "       [-0.57581824, -0.2209696 , -0.53050115,  0.6141667 ,  0.75750771],\n",
       "       [ 0.25988279,  0.22745993,  0.18463386,  1.30714275, -1.60748323],\n",
       "       [-0.07444592,  0.40405086,  0.25755039,  1.8861859 ,  0.17457781],\n",
       "       [ 0.62962884, -0.6929096 ,  0.81286212,  0.89959988,  0.30729952],\n",
       "       [-1.37766937,  0.35778736,  1.05380205,  0.56078453,  1.08305124],\n",
       "       [-1.19787789, -0.79287283, -0.55364931, -0.10703036, -1.03524232],\n",
       "       [ 0.51443883,  0.62284993,  0.12029563, -1.06762043, -0.14237949],\n",
       "       [-0.75373616,  0.41278093, -0.24538812,  0.82206016,  1.89679298],\n",
       "       [-0.3853136 ,  0.46210347,  0.06980208,  0.1990597 , -0.60021688],\n",
       "       [-0.98150865,  1.44127329,  0.01023306, -1.43586215,  1.16316375],\n",
       "       [ 1.11957491, -0.24903604,  3.07888081,  0.57655696,  0.31125015],\n",
       "       [-0.75635075, -0.12791759,  0.20346364, -0.95554044, -1.60644632],\n",
       "       [-0.47103831, -0.8222204 , -0.50694318,  0.24368721,  0.24496657],\n",
       "       [ 0.29307247,  0.25049285,  0.2322537 ,  0.34644821, -0.68002472],\n",
       "       [ 0.29698467,  0.78182287,  0.52194157, -1.23695071, -1.32045661],\n",
       "       [ 0.2766908 , -0.88951443,  0.34115197, -0.81581028, -0.07710171],\n",
       "       [-0.75913266, -0.83972184, -0.52575502, -0.59939265, -2.12389572],\n",
       "       [ 0.75193303,  0.30154734,  1.14282281, -0.03471177, -1.16867804],\n",
       "       [-2.6197451 ,  0.36139561,  1.56464366,  1.53803657, -0.03582604],\n",
       "       [ 1.64496771, -0.2750517 ,  1.36687427, -2.30192116, -1.51519106],\n",
       "       [-0.62269952, -1.9520878 ,  0.28099187, -0.1517851 ,  0.58831721],\n",
       "       [-0.8084936 , -0.21967189, -0.51827022,  0.35711257,  1.47789404],\n",
       "       [-1.47852199,  0.73846658, -0.3011037 ,  0.17136828, -0.11564828],\n",
       "       [-0.80829829, -0.76734756,  2.18980293,  0.87232064,  0.18334201],\n",
       "       [ 1.23781631, -0.46917565, -0.11453985, -1.71313453,  1.35387237],\n",
       "       [ 0.33231401,  0.71161488,  1.27767682, -1.12464209, -1.53411417],\n",
       "       [-1.00601738,  0.09699596,  2.09238728,  0.59515703, -0.81822068],\n",
       "       [-1.1429703 ,  0.38531738,  0.05820872, -0.88385744,  0.15372511],\n",
       "       [ 0.81252582, -0.47917424, -1.19620662, -0.18565898, -1.10633497],\n",
       "       [ 0.54256004, -0.23413696, -0.46947439,  1.57921282,  0.76743473],\n",
       "       [-1.05921352,  0.66967255, -0.51386692,  0.36659825, -0.93987979],\n",
       "       [-0.0555477 ,  0.07409478, -1.70338244,  1.62861555, -1.38010146],\n",
       "       [-0.19236096, -1.91877122,  2.46324211, -0.02651388,  0.06023021],\n",
       "       [-1.3044695 ,  0.38406545, -0.08912004, -0.03269475, -2.0674421 ],\n",
       "       [-1.76304016, -0.71984421,  0.34361829, -0.46063877,  1.05712223],\n",
       "       [ 0.40498171, -0.33450124,  1.76545424, -0.47494531, -0.65332923],\n",
       "       [-0.29169375,  0.11092259, -0.60063869, -1.15099358,  0.37569802],\n",
       "       [ 0.96337613, -0.97468167, -0.82068232,  0.7870846 ,  1.15859558],\n",
       "       [-1.72491783, -0.46341769, -1.91328024, -0.46572975,  0.24196227],\n",
       "       [ 1.03099952,  0.32408397,  0.61167629, -0.38508228, -0.676922  ],\n",
       "       [-0.22346279,  0.62566735,  0.48247242, -0.85715756, -1.0708925 ],\n",
       "       [-1.51484722,  0.71400049, -0.84679372,  0.47323762, -0.07282891],\n",
       "       [-0.13014305,  0.02100384,  0.32416635,  0.68195297, -0.31026676],\n",
       "       [-0.64511975,  1.35624003,  0.36163603, -0.07201012,  1.0035329 ],\n",
       "       [-0.23415337,  0.49671415,  1.52302986, -0.1382643 ,  0.64768854],\n",
       "       [ 2.14394409, -0.73036663, -0.65160035,  0.21645859,  0.04557184],\n",
       "       [ 0.97554513,  0.93128012,  0.33126343, -0.83921752, -0.30921238],\n",
       "       [-0.23458713, -1.46351495,  0.00511346,  0.29612028,  0.26105527],\n",
       "       [ 0.06751848, -0.74848654,  1.17929718,  1.55115198,  0.11567463],\n",
       "       [-0.39210815,  0.09707755, -0.32766215,  0.96864499, -0.70205309],\n",
       "       [-0.56372455, -0.14705738,  0.41293145, -0.8254972 , -0.32138584],\n",
       "       [-0.11232805,  1.96472513,  0.21397991,  0.03526355, -0.69972551],\n",
       "       [-0.21344715,  0.23204994, -0.71844422, -1.44808434, -1.40746377],\n",
       "       [-0.54438272,  1.46564877, -1.42474819, -0.2257763 ,  0.0675282 ],\n",
       "       [ 0.08187414,  0.75896922, -0.48536355, -0.77282521, -0.23681861],\n",
       "       [-0.47193187,  2.31465857, -1.61271587, -1.86726519,  0.68626019],\n",
       "       [-1.38279973,  0.53891004, -0.87561825, -1.03724615, -0.19033868],\n",
       "       [-0.50347565,  2.19045563,  0.09965137, -0.99053633, -0.56629773],\n",
       "       [ 0.19686124, -1.22084365, -1.32818605,  0.2088636 , -1.95967012],\n",
       "       [ 2.15318246,  0.02451017,  0.95927083,  0.49799829,  1.45114361],\n",
       "       [ 1.17944012, -0.89841467,  1.83145877,  0.49191917, -1.32023321],\n",
       "       [ 0.62834551, -1.21418861,  0.62411982,  1.15811087,  0.79166269],\n",
       "       [ 2.13303337,  0.11351735, -1.2378155 ,  0.66213067,  1.58601682],\n",
       "       [-0.20219265,  0.11732738,  0.54709738,  1.2776649 , -0.59157139],\n",
       "       [-1.51936997, -1.26088395,  1.03246526,  0.91786195,  2.1221562 ]])"
      ]
     },
     "execution_count": 40,
     "metadata": {},
     "output_type": "execute_result"
    }
   ],
   "source": [
    "X"
   ]
  },
  {
   "cell_type": "code",
   "execution_count": 37,
   "metadata": {},
   "outputs": [
    {
     "data": {
      "text/plain": [
       "(100,)"
      ]
     },
     "execution_count": 37,
     "metadata": {},
     "output_type": "execute_result"
    }
   ],
   "source": [
    "y.shape"
   ]
  },
  {
   "cell_type": "markdown",
   "metadata": {},
   "source": [
    "multiple regression"
   ]
  },
  {
   "cell_type": "code",
   "execution_count": 38,
   "metadata": {},
   "outputs": [],
   "source": [
    "X, y = make_regression(n_samples = 100, n_features = 5, n_targets = 5, shuffle = True, random_state = 42)"
   ]
  },
  {
   "cell_type": "code",
   "execution_count": 39,
   "metadata": {},
   "outputs": [
    {
     "name": "stdout",
     "output_type": "stream",
     "text": [
      "(100, 5) (100, 5)\n"
     ]
    }
   ],
   "source": [
    "print(X.shape, y.shape)"
   ]
  },
  {
   "cell_type": "code",
   "execution_count": 49,
   "metadata": {},
   "outputs": [
    {
     "name": "stdout",
     "output_type": "stream",
     "text": [
      "(100, 10) (100,)\n"
     ]
    }
   ],
   "source": [
    "from sklearn.datasets import make_classification\n",
    "X, y = make_classification(n_samples = 100, n_features = 10, n_classes = 2, n_clusters_per_class = 1, random_state = 42)\n",
    "print(X.shape, y.shape)"
   ]
  },
  {
   "cell_type": "code",
   "execution_count": 50,
   "metadata": {},
   "outputs": [
    {
     "name": "stdout",
     "output_type": "stream",
     "text": [
      "[[ 0.11422765 -1.71016839 -0.06822216 -0.14928517  0.30780177  0.15030176\n",
      "  -0.05694562 -0.22595246 -0.36361221 -0.13818757]\n",
      " [ 0.70775194 -1.57022472 -0.23503183 -0.63604713  0.62180996 -0.56246678\n",
      "   0.97255445 -0.77719676  0.63240774 -0.47809669]\n",
      " [ 0.63859246  0.04739867  0.33273433  1.1046981  -0.65183611 -1.66152006\n",
      "  -1.2110162   1.09821151 -0.0660798   0.68024225]\n",
      " [-0.23894805 -0.97755524  0.0379061   0.19896733  0.50091719 -0.90756366\n",
      "   0.75539123  0.12437227 -0.57677133  0.07871283]\n",
      " [-0.59239392 -0.05023811  0.17573204 -1.43949185  0.27045683 -0.86399077\n",
      "  -0.83095012  0.60046915  0.04852163  0.32557953]\n",
      " [-1.51936997  0.77463405  0.13348891 -1.48739641  0.44381943 -0.48423407\n",
      "  -0.70766947  0.46010921  1.26691115  0.24075543]\n",
      " [-0.92693047 -1.24778318  0.36158864 -0.96090774 -0.25256815 -0.05952536\n",
      "  -1.02438764  1.21530116 -3.24126734  0.70323896]\n",
      " [-0.24574306  0.69620636 -0.25972294 -0.73473514 -0.23093453 -0.27272357\n",
      "  -0.05429487 -0.85852241 -2.69688664 -0.52885351]\n",
      " [ 0.07580456 -0.32138584  0.32024809 -0.9609536  -0.8254972  -0.67716171\n",
      "  -0.14705738  1.07746664  0.97511973  0.62100717]\n",
      " [-0.47193187  0.67959775  0.39492144 -0.59340317 -0.71530371  1.0889506\n",
      "  -1.07774478  1.32272135  0.06428002  0.77566157]\n",
      " [ 1.16316375 -0.60021688  0.48279757 -0.57301231  0.1990597   0.01023306\n",
      "   0.46210347  1.61550606 -0.98150865  0.95079667]\n",
      " [-0.11232805 -0.57581824  0.36819047 -0.73168763 -0.53050115 -0.2209696\n",
      "   0.75750771  1.2349949   0.6141667   0.72018786]\n",
      " [ 0.32692737  0.77086519  0.21592651  0.8387787   0.23561456 -0.21910053\n",
      "  -2.21113531  0.7114472   0.82940558  0.44347006]\n",
      " [ 0.09933231  0.57059867  0.37371252  1.1968407  -0.66262376  0.75138712\n",
      "   0.54336019  1.23390668 -1.66940528  0.76328692]\n",
      " [ 1.14927333  1.81244856  0.37366631  1.23933572 -0.62696706 -0.70317643\n",
      "   1.77080064  1.23332293 -0.03498849  0.76390265]\n",
      " [ 0.74729361 -0.59157139  0.42710175 -0.70808284  1.2776649   0.61037027\n",
      "   0.11732738  1.43117438 -0.02090159  0.83776212]\n",
      " [-1.34818542  0.34758171  0.37379895  1.20275034  0.01843393  0.74326409\n",
      "  -0.18398334  1.23413512  0.17086544  0.76355726]\n",
      " [-0.01851314  1.53273891  0.38465335 -0.76408578  0.51934651 -0.28865864\n",
      "  -0.82723094  1.29021194  0.32271856  0.75239487]\n",
      " [ 0.95400176 -0.23681861  0.18646621 -1.17278867 -0.77282521  0.65139125\n",
      "   0.75896922  0.63356167 -0.31526924  0.35137231]\n",
      " [ 1.05842449  0.71754226 -0.12689702 -2.2632312  -0.26940683 -1.75873949\n",
      "  -2.03923218 -0.40020814 -1.18325851 -0.29010126]\n",
      " [-0.98960482  1.52955032  0.67263096  2.10036638 -1.69246463 -0.12578692\n",
      "   1.09419152  2.22140553  0.05572491  1.37291551]\n",
      " [-1.08105654  0.02975614  0.17533232  0.56599415  0.02831838  1.05315285\n",
      "   0.6815007   0.57885884 -0.03955515  0.35818106]\n",
      " [ 1.68714164 -0.8612842   0.43125328 -0.74322936  0.07736831  0.88163976\n",
      "   1.47994414  1.44537152 -0.00797264  0.84543471]\n",
      " [-0.10876015  0.0125924   0.13761056 -1.43862044  0.22409248  0.40171172\n",
      "  -0.40122047  0.47335819  0.69014399  0.24976612]\n",
      " [-1.47858625  2.27069286  0.96108788  2.97121283  0.63278187  1.14375404\n",
      "  -0.41528791  3.17435468  0.33849641  1.96119076]\n",
      " [-0.79047446 -0.51121568  0.14796724  0.59970882  1.59318663  0.47146836\n",
      "   1.34542005  0.48727907  1.8820245   0.30431027]\n",
      " [ 1.15811087 -0.89725437  0.36610873 -0.75717844 -0.01224677  0.79166269\n",
      "   0.62834551  1.22831184  0.62411982  0.71562256]\n",
      " [-0.73036663  0.63391902  0.17167183 -1.33745666  2.14394409  0.21645859\n",
      "  -0.65160035  0.58590018  0.04557184  0.31920247]\n",
      " [ 0.41293145 -0.50694318  0.20528648 -1.38029525  0.24496657 -0.56372455\n",
      "   0.24368721  0.69840909 -0.8222204   0.38535241]\n",
      " [ 0.37114587  0.25442084  0.34223623  1.10236134  1.16778206 -0.60398519\n",
      "  -0.15567724  1.12991576  0.08658979  0.69910369]\n",
      " [ 1.84895609  0.05921843  0.47531223  1.5409666   2.5733598   1.12656503\n",
      "  -1.10652591  1.56917436 -0.26888869  0.97111081]\n",
      " [-0.86041337 -1.12970685 -0.06420736 -0.20665158  0.83569211 -0.38455554\n",
      "  -0.57689187 -0.21198653  1.00629281 -0.13115697]\n",
      " [ 0.89959988 -0.56018104 -0.00782632 -1.7576143  -0.82899501  0.30729952\n",
      "   0.62962884 -0.00832267  0.81286212 -0.04483635]\n",
      " [ 2.15318246 -0.80829829  0.23250874 -1.24378397  2.18980293 -0.76734756\n",
      "   0.18334201  0.78779153  0.87232064  0.44177384]\n",
      " [-0.2750517  -0.24903604  0.16792924 -1.35297943  1.64496771 -2.30192116\n",
      "   1.36687427  0.57357881 -1.51519106  0.31149952]\n",
      " [ 0.86960592 -1.2446547   0.22180469  0.69041433 -0.7737892   1.35563786\n",
      "   1.87679581  0.73254597  0.4134349   0.45269177]\n",
      " [ 2.44575198  0.22388402  0.0752363   0.27894398  0.48100923  0.12922118\n",
      "   0.72576662  0.24802757  0.10939479  0.15429864]\n",
      " [ 0.01392929 -0.54685894  0.4366785   1.40932861 -0.57366201 -0.02412509\n",
      "  -0.14436041  1.44169528  0.19808476  0.89207183]\n",
      " [-0.26987494 -0.92216532  0.02873973  0.09090508  0.75698862 -0.97876372\n",
      "   0.37730049  0.094903   -0.44429326  0.05868038]\n",
      " [ 0.18676676 -1.35168461  0.20613852  0.75783672 -0.92323325 -0.75538293\n",
      "  -1.4066611   0.67963113 -0.6115178   0.42265275]\n",
      " [-0.85835778 -0.0960599   0.4395513   1.38591822  2.56008454  0.70030988\n",
      "   0.12200981  1.45151031 -0.57563783  0.89739633]\n",
      " [ 1.55115198  1.75534084  0.14947977 -1.28981425  2.06074792  0.11567463\n",
      "   0.06751848  0.51142713  1.17929718  0.27585332]\n",
      " [ 0.31090757 -1.00252936  0.55883568 -0.36915809 -0.01901621  1.47535622\n",
      "  -0.15993853  1.8669662   0.85765962  1.10543976]\n",
      " [ 0.71161488 -0.74848654  0.42167752 -0.67621395  0.33231401 -1.12464209\n",
      "   1.27767682  1.41276704 -1.53411417  0.82750341]\n",
      " [ 0.72167206  0.71299843  0.2433263   0.74491926 -1.22212781 -1.12905177\n",
      "   0.48937456  0.80375081 -0.52452027  0.49640833]\n",
      " [-0.72713718 -1.33534436  0.43325528  1.35245182  0.177701   -0.24751864\n",
      "   0.6206721   1.43085689 -0.07443343  0.88431552]\n",
      " [ 0.54709738  0.81350964  0.54998479 -0.33281274  0.82541635 -0.20219265\n",
      "   1.09877685  1.83708868 -0.2176812   1.0884396 ]\n",
      " [ 0.21101747  1.10330188  0.06833436  0.29482153 -0.0376347  -0.09671311\n",
      "   0.39913611  0.22485502 -0.54491909  0.1408343 ]\n",
      " [ 0.92617755 -0.48712538  0.32676782 -0.932062   -0.65064257  1.90941664\n",
      "   0.56296924  1.09891218 -1.39856757  0.63445677]\n",
      " [-1.40751169  1.27155509  0.77204964  2.50225822  0.93567839 -0.77781669\n",
      "   1.75227044  2.54881729 -1.11057585  1.57736304]\n",
      " [-1.60644632 -1.081548    0.25163289 -1.18455216 -0.64657288  0.20346364\n",
      "  -1.42225371  0.85095512 -0.75635075  0.4808003 ]\n",
      " [-1.2899609  -1.50314295  0.54733489  1.73476635 -0.25959135 -1.29507877\n",
      "   1.66902153  1.8073481  -0.3357847   1.11759927]\n",
      " [ 0.93828381 -0.30917212  0.02802832  0.19690952 -0.43449623 -0.51604473\n",
      "  -0.46227529  0.09145925  0.09612078  0.05903056]\n",
      " [-0.03275327  1.50399299  0.23327328  0.74976134 -0.25497722 -0.54342477\n",
      "   0.10643023  0.77018374 -0.71284578  0.47649238]\n",
      " [ 0.07156624 -0.5100164   0.19576007  0.69203257  1.03753994 -0.47765745\n",
      "   0.33366211  0.64569333  0.47897983  0.40091303]\n",
      " [ 0.06980208 -1.2378155   0.21629495 -1.24567514  1.58601682 -0.3853136\n",
      "   0.66213067  0.73375167  0.11351735  0.40949128]\n",
      " [-0.83972184  0.15039379  0.21590818 -1.14361722 -0.75913266 -0.59939265\n",
      "  -0.52575502  0.7314302  -2.12389572  0.41042148]\n",
      " [-1.55662917  1.69645637  0.93183417  2.90114736 -2.08192941  0.60600995\n",
      "   1.75479418  3.07752729 -1.28042935  1.90183505]\n",
      " [-0.20812225 -0.6929096   0.25958791 -1.15469945  0.35701549 -0.49300093\n",
      "   0.8496021   0.87717639 -0.58936476  0.49712085]\n",
      " [-0.48536355 -1.61271587  0.29736414 -1.02646717  0.68626019  0.08187414\n",
      "  -1.86726519  1.00183089  2.31465857  0.57439745]\n",
      " [-0.24896415  0.68605146  0.09744105 -1.45380914 -0.96492346  0.97157095\n",
      "   1.36863156  0.33958117  0.64537595  0.16961149]\n",
      " [ 1.30547881 -0.13014305  0.56682051 -0.36699918  0.32416635  0.02100384\n",
      "  -0.31026676  1.8935669   0.68195297  1.12135845]\n",
      " [-0.1580079   0.07331797  0.04709393  0.14096222  0.82317058 -0.42688107\n",
      "  -1.65485667  0.15559223 -1.01210438  0.09602252]\n",
      " [ 0.38406545  0.66967255  0.5559352  -0.40530133 -1.3044695  -0.03269475\n",
      "  -0.08912004  1.85766106 -2.0674421   1.0990685 ]\n",
      " [ 0.34175598  0.49191917  0.2612672  -1.13663628 -0.89841467  1.87617084\n",
      "  -0.57690366  0.88259274  0.95042384  0.50076196]\n",
      " [-1.08106333 -1.25111358  0.31539839  1.11434941  0.32613302  0.61593561\n",
      "  -0.30954644  1.04031359  0.59310126  0.64591985]\n",
      " [-0.11453985  0.04698059  0.22747776 -1.0609667   0.0052437   1.23781631\n",
      "  -0.59937502  0.76916909 -1.59442766  0.43481105]\n",
      " [ 1.6324113  -1.43586215  0.50481307 -0.35904111  1.44127329 -1.43014138\n",
      "   0.13074058  1.68674524 -0.44004449  0.99815117]\n",
      " [-1.84087423 -0.72574381  0.93357595  2.83324852  0.51765902 -1.27957697\n",
      "   0.02609105  3.08402116 -0.62481858  1.90416896]\n",
      " [-0.47103831 -0.21344715  0.10860648 -1.47857623 -0.71844422  0.23204994\n",
      "  -1.40746377  0.37705866 -1.44808434  0.19140836]\n",
      " [-1.32023321  1.35387237  0.31032434 -1.09977558 -1.71313453  1.83145877\n",
      "  -0.46917565  1.04578316  1.17944012  0.59895596]\n",
      " [ 0.22213377 -0.43973106  0.51044698  1.63306798 -0.18687164 -0.47874862\n",
      "  -0.8946073   1.68538712  1.25575613  1.04253152]\n",
      " [ 0.92402702 -1.4084613   0.58721954  1.89910321 -0.70434369 -0.18490214\n",
      "   1.04900923  1.93866732 -0.52272302  1.199671  ]\n",
      " [-2.02514259 -0.11473644  0.29811551 -1.05172286 -0.79252074  0.18645431\n",
      "   0.85243333  1.00459142 -0.66178646  0.57547144]\n",
      " [ 1.76545424  1.03246526  0.15542234 -1.52165918  2.1221562   0.40498171\n",
      "   0.91786195  0.53358465 -1.26088395  0.28381293]\n",
      " [-2.03812454  1.67643731  0.22414719  0.82180719  0.01841838 -1.00808631\n",
      "  -0.35151348  0.73902766 -1.87079192  0.4595393 ]\n",
      " [ 1.50235705 -0.0555477   0.34484858 -0.88167436 -1.70338244  0.07409478\n",
      "  -1.38010146  1.1586864   1.62861555  0.67126053]\n",
      " [ 0.0976761   0.95927083  0.30725353 -0.85545993  1.45114361 -0.77300978\n",
      "   0.49799829  1.03307436  0.02451017  0.59691627]\n",
      " [ 0.18186626 -0.85608383 -0.02479828 -0.02861137  0.83033582  0.24822059\n",
      "  -0.84984437 -0.08239154 -0.4593609  -0.04980304]\n",
      " [-0.55364931  0.21397991  0.26028125 -1.17756932 -0.69972551 -1.19787789\n",
      "   0.03526355  0.87971932  1.96472513  0.49811914]\n",
      " [-0.76325916 -0.90431663  0.70103792  2.29519066  0.2597225  -1.8048821\n",
      "   0.04808495  2.31414829 -1.62754244  1.43266449]\n",
      " [ 0.57655696 -0.95554044  0.18804405 -1.23395477 -0.12791759  0.31125015\n",
      "   1.11957491  0.63944087  3.07888081  0.35349224]\n",
      " [ 2.13303337 -0.62269952  0.10888154 -1.5591055   0.28099187 -1.9520878\n",
      "   0.58831721  0.37878997 -0.1517851   0.19061445]\n",
      " [-0.98572605 -1.03524232  0.54277946 -0.27202012 -0.10703036  0.50404652\n",
      "  -0.79287283  1.81245044 -0.53025762  1.07511974]\n",
      " [ 1.52312408 -1.38279973  0.30067119 -0.95668044 -0.87561825  0.53891004\n",
      "  -0.19033868  1.01215141 -1.03724615  0.58213767]\n",
      " [-0.53975968 -1.7025836   0.56183824  1.77846692  0.40825276 -0.77830473\n",
      "  -0.97837278  1.85526237  0.19584526  1.1471758 ]\n",
      " [ 0.28977486 -0.40807537  0.7057632   2.25911758  1.20121392  2.0754008\n",
      "  -0.32602353  2.33026777  0.8711247   1.44146291]\n",
      " [ 0.38019785  0.45918008  0.03161553  0.21791213  0.83392215  0.61058575\n",
      "   1.08078073  0.10320711  0.55979045  0.06651566]\n",
      " [-0.2403254   1.1593298   0.3166767   0.97477665 -0.36096617 -0.37482081\n",
      "   0.44426331  1.04598687  0.71095997  0.64613829]\n",
      " [ 0.09699596 -1.21418861  0.10944289 -1.57866861 -1.00601738  0.59515703\n",
      "   2.09238728  0.3808594  -0.81822068  0.19140527]\n",
      " [ 1.02915564  1.01437007  0.66894846  2.07514881  1.66547444  0.47259748\n",
      "   0.98269098  2.20938257  0.25602973  1.36517067]\n",
      " [ 0.50498728 -0.65332923  0.56509697 -0.36699364 -0.47494531  0.86575519\n",
      "  -0.33450124  1.88782031 -1.20029641  1.11793022]\n",
      " [-0.45006547  0.51443883  0.16295502 -1.31038476  0.12029563  0.62284993\n",
      "  -0.14237949  0.55656344 -1.06762043  0.30231457]\n",
      " [-2.65096981 -0.37144087  0.17936146  0.65689322 -0.34268759  1.09150685\n",
      "  -2.07339023  0.59137345  1.24608519  0.36770919]\n",
      " [-0.97587325  0.18483612  0.22241184  0.69161946  0.4933179   1.0536418\n",
      "   2.63238206  0.73455812 -0.94939889  0.45391954]\n",
      " [-0.07016571 -1.27674858  0.43187322  1.39002959  0.27157884 -1.66096093\n",
      "   0.20768769  1.42586898  0.42961822  0.88219223]\n",
      " [ 0.36659825  0.95514232  0.22543089 -1.18691259 -0.0626791  -0.93987979\n",
      "  -1.05921352  0.76361798 -0.51386692  0.42864225]\n",
      " [ 0.52980418 -0.20304539  0.9303618   2.84564176  0.57707213  1.44156862\n",
      "  -0.79689526  3.07317945 -2.4716445   1.89798204]\n",
      " [-1.77872025 -1.12548905  0.51785673  1.56900774  0.27996863  1.49604431\n",
      "  -0.05558467  1.71073996  0.65436566  1.05620359]\n",
      " [ 0.33760266 -0.42098448  0.00413881  0.12054434  0.39445214 -0.41187697\n",
      "  -0.43255819  0.01258051 -0.48760622  0.01023994]] [1 1 1 1 0 0 0 1 0 0 0 0 1 1 1 0 1 0 0 0 1 1 0 0 1 1 0 0 0 1 1 1 0 0 0 1 1\n",
      " 1 1 1 1 0 0 0 1 1 0 1 0 1 0 1 1 1 1 0 0 1 0 0 0 0 1 0 0 1 0 0 1 0 0 1 1 0\n",
      " 0 1 0 0 1 0 1 0 0 0 0 1 1 1 1 0 1 0 0 1 1 1 0 1 1 1]\n"
     ]
    }
   ],
   "source": [
    "print(X, y)"
   ]
  },
  {
   "cell_type": "code",
   "execution_count": 53,
   "metadata": {},
   "outputs": [
    {
     "name": "stdout",
     "output_type": "stream",
     "text": [
      "(100, 10) (100, 5)\n"
     ]
    }
   ],
   "source": [
    "from sklearn.datasets import make_multilabel_classification\n",
    "X, y = make_multilabel_classification(n_samples = 100, n_features = 10, n_classes = 5, n_labels = 2, random_state = 42)\n",
    "print(X.shape, y.shape)"
   ]
  },
  {
   "cell_type": "code",
   "execution_count": 54,
   "metadata": {},
   "outputs": [
    {
     "name": "stdout",
     "output_type": "stream",
     "text": [
      "[[ 1.  8.  5.  2.  0.  1.  1.  3.  6.  6.]\n",
      " [ 4.  5.  8.  4.  3.  5.  2.  0.  2. 13.]\n",
      " [ 7.  5.  5.  1.  1.  9.  3.  2.  3.  8.]\n",
      " [10.  4.  9.  5.  7.  7.  2.  4.  4.  0.]\n",
      " [ 9. 14.  5.  0.  5.  0.  2.  0.  2. 10.]] [[0 1 0 0 0]\n",
      " [1 1 1 0 0]\n",
      " [0 0 1 0 1]\n",
      " [0 0 0 0 0]\n",
      " [0 0 1 0 0]]\n"
     ]
    }
   ],
   "source": [
    "print(X[:5], y[:5])"
   ]
  },
  {
   "cell_type": "code",
   "execution_count": 55,
   "metadata": {},
   "outputs": [
    {
     "name": "stdout",
     "output_type": "stream",
     "text": [
      "(100, 10) (100,)\n"
     ]
    }
   ],
   "source": [
    "from sklearn.datasets import make_blobs\n",
    "X, y = make_blobs(n_samples = 100, n_features = 10, centers = 3, random_state = 42)\n",
    "print(X.shape, y.shape)"
   ]
  },
  {
   "cell_type": "code",
   "execution_count": 56,
   "metadata": {},
   "outputs": [
    {
     "name": "stdout",
     "output_type": "stream",
     "text": [
      "[[  3.7404562   -6.3327605   -4.3780712   -2.6458773   -0.67021751\n",
      "    3.66178436  -6.25370174  -0.39729548   0.84667137  -9.35209204]\n",
      " [  2.82098608  -7.56941488  -3.5664522   -1.56405955  -0.05811813\n",
      "    6.21079326  -4.93984967   1.45398436   3.23045037  -8.42228186]\n",
      " [  1.40470232  -6.73870723  -4.70933007  -2.03983132  -0.67567729\n",
      "    4.18777511  -4.45901916   2.08056644   1.23550269  -9.45869331]\n",
      " [ -3.33469482   8.69290029   5.05281029   1.40944513  -7.70184759\n",
      "   -6.63642238  -8.59336119   6.81657974   1.55126193   4.39350149]\n",
      " [-11.62643465   8.39011073   4.77806089  -6.10473127  -6.34508228\n",
      "   -4.65547249  -3.58822777   0.2760281   -0.53169405  -6.38655251]] [2 2 2 0 1]\n"
     ]
    }
   ],
   "source": [
    "print(X[:5], y[:5])"
   ]
  },
  {
   "cell_type": "code",
   "execution_count": null,
   "metadata": {},
   "outputs": [],
   "source": []
  }
 ],
 "metadata": {
  "kernelspec": {
   "display_name": "Python 3",
   "language": "python",
   "name": "python3"
  },
  "language_info": {
   "codemirror_mode": {
    "name": "ipython",
    "version": 3
   },
   "file_extension": ".py",
   "mimetype": "text/x-python",
   "name": "python",
   "nbconvert_exporter": "python",
   "pygments_lexer": "ipython3",
   "version": "3.10.7"
  },
  "orig_nbformat": 4
 },
 "nbformat": 4,
 "nbformat_minor": 2
}
