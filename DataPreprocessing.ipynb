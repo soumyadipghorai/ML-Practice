{
 "cells": [
  {
   "cell_type": "markdown",
   "metadata": {},
   "source": [
    "### Data Preprocessing Techniques\n",
    "\n",
    "We have to make sure that same pre-processing should be applied to both training and test set <br>\n",
    "\n",
    "**Cleaning (sklearn.preprocessing) -->** standardization, missing value imputation\n",
    "\n",
    "**feature extraction (sklearn.feature_extraction)** <br>\n",
    "**feature reduction (sklearn.decomposition)**\n",
    "\n",
    "* Data cleaning\n",
    "    * Data Imputation\n",
    "    * Feature Scaling <br>\n",
    "* Feature transformations\n",
    "    * Polynomial Features\n",
    "    * Discretization\n",
    "    * Handling categorical variables\n",
    "    * Custom Transformers\n",
    "    * Composite Transformers\n",
    "        * Apply composite feature to diverse features\n",
    "        * TargetTransformRegressor <br>\n",
    "* Feature Selection\n",
    "    * Filter based methods\n",
    "    * Wrapper based Methods <br>\n",
    "* Feature extraction\n",
    "    * PCA"
   ]
  },
  {
   "cell_type": "code",
   "execution_count": 2,
   "metadata": {},
   "outputs": [],
   "source": [
    "import numpy as np\n",
    "import matplotlib.pyplot as plt\n",
    "import pandas as pd\n",
    "import seaborn as sns\n",
    "sns.set_theme(style=\"whitegrid\")"
   ]
  },
  {
   "cell_type": "markdown",
   "metadata": {},
   "source": [
    "### 1. Feature Extraction\n",
    "#### DictVectorizer\n",
    "DictVectorizer converts a list of dictionary objects to feature matrix"
   ]
  },
  {
   "cell_type": "code",
   "execution_count": 3,
   "metadata": {},
   "outputs": [],
   "source": [
    "data = [{'age' : 4, 'height' : 96.0},\n",
    "        {'age' : 1, 'height' : 73.9},\n",
    "        {'age' : 3, 'height' : 88.9},    \n",
    "        {'age' : 2, 'height' : 81.6}]"
   ]
  },
  {
   "cell_type": "code",
   "execution_count": 4,
   "metadata": {},
   "outputs": [
    {
     "data": {
      "text/plain": [
       "(array([[ 4. , 96. ],\n",
       "        [ 1. , 73.9],\n",
       "        [ 3. , 88.9],\n",
       "        [ 2. , 81.6]]),\n",
       " (4, 2))"
      ]
     },
     "execution_count": 4,
     "metadata": {},
     "output_type": "execute_result"
    }
   ],
   "source": [
    "from sklearn.feature_extraction import DictVectorizer\n",
    "dv = DictVectorizer(sparse=False)\n",
    "data_transformed = dv.fit_transform(data)\n",
    "data_transformed, data_transformed.shape"
   ]
  },
  {
   "cell_type": "markdown",
   "metadata": {},
   "source": [
    "### FeatureHasher \n",
    "\n",
    "* high-speed, low-memory vectorizer that uses feature hashing technique \n",
    "* instead of building a hash table of the features, as the vectorizers do, it applies a hash function to the features to determine their column index in sample matrics directly \n",
    "* this results in increased speed and reduced memory usage, at the expense of inspecability; the hasher does not remember what the input features looked like and has no inverse_transform method"
   ]
  },
  {
   "cell_type": "code",
   "execution_count": 5,
   "metadata": {},
   "outputs": [
    {
     "data": {
      "text/plain": [
       "(array([[ 0. ,  0. ,  0. , 96. ,  4. ],\n",
       "        [ 0. ,  0. ,  0. , 73.9,  1. ],\n",
       "        [ 0. ,  0. ,  0. , 88.9,  3. ],\n",
       "        [ 0. ,  0. ,  0. , 81.6,  2. ]]),\n",
       " (4, 5))"
      ]
     },
     "execution_count": 5,
     "metadata": {},
     "output_type": "execute_result"
    }
   ],
   "source": [
    "# used for text classification where we have high dimensional feature vector \n",
    "from sklearn.feature_extraction import FeatureHasher\n",
    "dv = FeatureHasher(n_features=5)\n",
    "data_transformed = dv.fit_transform(data)\n",
    "data_transformed.toarray(), data_transformed.shape # returs a sparse matrix"
   ]
  },
  {
   "cell_type": "markdown",
   "metadata": {},
   "source": [
    "* sklearn.feature_extraction.image.* --> for image \n",
    "* sklearn.feature_extraction.text.* --> for text "
   ]
  },
  {
   "cell_type": "markdown",
   "metadata": {},
   "source": [
    "### 2. Data Imputation\n",
    "* Many ML algos need full feature matrix\n",
    "* Data Imputation identifies missing values in each features and replaces them with a strategy such as\n",
    "    * Mean/Median/mode.\n",
    "    * user specified constant value. <br>\n",
    "    \n",
    "sklearn library provides `sklearn.impute.SimpleImputer` class for this purpose\n",
    "\n",
    "`add_indicator` is a boolean parameter when set to `True` returns missing value indicators\n",
    "\n",
    "**KNNImputer** \n",
    "* Use k-nearest neighbours to fill missing value \n",
    "    * The missing value of an attribute in a specific example is filled with the mean value of the same of `n_neighbors` closest neighbors \n",
    "* the nearest neighbors are decided based on Euclidean distance"
   ]
  },
  {
   "cell_type": "code",
   "execution_count": 6,
   "metadata": {},
   "outputs": [
    {
     "data": {
      "text/plain": [
       "array([[ 7.,  1.],\n",
       "       [nan,  8.],\n",
       "       [ 2., nan],\n",
       "       [ 9.,  6.]])"
      ]
     },
     "execution_count": 6,
     "metadata": {},
     "output_type": "execute_result"
    }
   ],
   "source": [
    "x = np.array([[7, 1,], [np.nan, 8], [2, np.nan], [9, 6]])\n",
    "x"
   ]
  },
  {
   "cell_type": "code",
   "execution_count": 7,
   "metadata": {},
   "outputs": [
    {
     "data": {
      "text/plain": [
       "array([[7., 1.],\n",
       "       [6., 8.],\n",
       "       [2., 5.],\n",
       "       [9., 6.]])"
      ]
     },
     "execution_count": 7,
     "metadata": {},
     "output_type": "execute_result"
    }
   ],
   "source": [
    "from sklearn.impute import SimpleImputer\n",
    "si = SimpleImputer(strategy= 'mean')\n",
    "si.fit_transform(x)"
   ]
  },
  {
   "cell_type": "code",
   "execution_count": 8,
   "metadata": {},
   "outputs": [
    {
     "data": {
      "text/plain": [
       "array([[7., 1.],\n",
       "       [7., 8.],\n",
       "       [2., 6.],\n",
       "       [9., 6.]])"
      ]
     },
     "execution_count": 8,
     "metadata": {},
     "output_type": "execute_result"
    }
   ],
   "source": [
    "si = SimpleImputer(strategy= 'median')\n",
    "si.fit_transform(x)"
   ]
  },
  {
   "cell_type": "code",
   "execution_count": 9,
   "metadata": {},
   "outputs": [
    {
     "data": {
      "text/plain": [
       "array([[7., 1.],\n",
       "       [2., 8.],\n",
       "       [2., 1.],\n",
       "       [9., 6.]])"
      ]
     },
     "execution_count": 9,
     "metadata": {},
     "output_type": "execute_result"
    }
   ],
   "source": [
    "si = SimpleImputer(strategy= 'most_frequent')\n",
    "si.fit_transform(x)"
   ]
  },
  {
   "cell_type": "code",
   "execution_count": 10,
   "metadata": {},
   "outputs": [
    {
     "data": {
      "text/plain": [
       "array([[7., 1.],\n",
       "       [0., 8.],\n",
       "       [2., 0.],\n",
       "       [9., 6.]])"
      ]
     },
     "execution_count": 10,
     "metadata": {},
     "output_type": "execute_result"
    }
   ],
   "source": [
    "si = SimpleImputer(strategy= 'constant')\n",
    "si.fit_transform(x)"
   ]
  },
  {
   "cell_type": "code",
   "execution_count": 11,
   "metadata": {},
   "outputs": [
    {
     "data": {
      "text/plain": [
       "array([[ 1.,  2., nan],\n",
       "       [ 3.,  4.,  3.],\n",
       "       [nan,  6.,  5.],\n",
       "       [ 8.,  8.,  7.]])"
      ]
     },
     "execution_count": 11,
     "metadata": {},
     "output_type": "execute_result"
    }
   ],
   "source": [
    "x = np.array([[1, 2, np.nan], [3, 4, 3], [np.nan, 6, 5], [8, 8, 7]])\n",
    "x"
   ]
  },
  {
   "cell_type": "code",
   "execution_count": 12,
   "metadata": {},
   "outputs": [
    {
     "data": {
      "text/plain": [
       "array([[1. , 2. , 4. ],\n",
       "       [3. , 4. , 3. ],\n",
       "       [5.5, 6. , 5. ],\n",
       "       [8. , 8. , 7. ]])"
      ]
     },
     "execution_count": 12,
     "metadata": {},
     "output_type": "execute_result"
    }
   ],
   "source": [
    "from sklearn.impute import KNNImputer\n",
    "# finds the nearest samples using euclidean distance. \n",
    "# we compare the points between 2 samples\n",
    "#    where we don't have missing value in the current sample \n",
    "# finally fill the value by mean of the nearest neighbors  \n",
    "ki = KNNImputer(n_neighbors=2, weights= 'uniform')\n",
    "ki.fit_transform(x)"
   ]
  },
  {
   "cell_type": "code",
   "execution_count": null,
   "metadata": {},
   "outputs": [],
   "source": []
  },
  {
   "cell_type": "markdown",
   "metadata": {},
   "source": [
    "#### Feature Scaling\n",
    "\n",
    "not required for tree based algorithms"
   ]
  },
  {
   "cell_type": "markdown",
   "metadata": {},
   "source": [
    "**StandardScaler** scales the parameter to mean = 0, sd = 1 <br>\n",
    "**MinMaxScaler** scales the parameter intp the range 0 to 1 <br>\n",
    "**MaxAbsScaler** scales the parameter intp the range -1 to 1 <br>\n",
    "max abs value = max(x.max, |x.min|) ==> mx(5, |-100|) = 100 --> X / max abs value"
   ]
  },
  {
   "cell_type": "code",
   "execution_count": 13,
   "metadata": {},
   "outputs": [],
   "source": [
    "X = np.array([[128, 2, 4, 512], [2, 256, 1, 64]])\n",
    "X1 = np.array([[-128, 2, 4, -512], [2, 256, -1, 64]])\n",
    "X2 = np.array([[1, 2, 3, 4], [5, 6, 7, 0]])\n",
    "X3 = np.array([0, 0.125, 0.25, 0.375, 0.5, 0.675, 0.75, 0.875, 1.0])\n",
    "X4 = np.array([0, 1, 2, 3, 4])"
   ]
  },
  {
   "cell_type": "code",
   "execution_count": 14,
   "metadata": {},
   "outputs": [
    {
     "data": {
      "text/plain": [
       "array([[7., 1., 2., 9.],\n",
       "       [1., 8., 0., 6.]])"
      ]
     },
     "execution_count": 14,
     "metadata": {},
     "output_type": "execute_result"
    }
   ],
   "source": [
    "from sklearn.preprocessing import FunctionTransformer\n",
    "ft = FunctionTransformer(np.log2) # any user defined function\n",
    "ft.fit_transform(X)"
   ]
  },
  {
   "cell_type": "code",
   "execution_count": 15,
   "metadata": {},
   "outputs": [
    {
     "data": {
      "text/plain": [
       "array([[11.3137085 ,  1.41421356,  2.        , 22.627417  ],\n",
       "       [ 1.41421356, 16.        ,  1.        ,  8.        ]])"
      ]
     },
     "execution_count": 15,
     "metadata": {},
     "output_type": "execute_result"
    }
   ],
   "source": [
    "ft = FunctionTransformer(np.sqrt)\n",
    "ft.fit_transform(X)"
   ]
  },
  {
   "cell_type": "code",
   "execution_count": 16,
   "metadata": {},
   "outputs": [
    {
     "data": {
      "text/plain": [
       "[0, 2, 4, 6, 8]"
      ]
     },
     "execution_count": 16,
     "metadata": {},
     "output_type": "execute_result"
    }
   ],
   "source": [
    "def myFunc(num) : \n",
    "    return [i*2 for i in num]\n",
    "\n",
    "myFunc([1, 2, 3])\n",
    "ft = FunctionTransformer(myFunc)\n",
    "ft.fit_transform(X4)"
   ]
  },
  {
   "cell_type": "code",
   "execution_count": 17,
   "metadata": {},
   "outputs": [
    {
     "data": {
      "text/plain": [
       "array([[0., 0., 1., 0.],\n",
       "       [1., 1., 0., 1.]])"
      ]
     },
     "execution_count": 17,
     "metadata": {},
     "output_type": "execute_result"
    }
   ],
   "source": [
    "from sklearn.preprocessing import MinMaxScaler\n",
    "ft = MinMaxScaler()\n",
    "ft.fit_transform(X1)"
   ]
  },
  {
   "cell_type": "code",
   "execution_count": 18,
   "metadata": {},
   "outputs": [
    {
     "data": {
      "text/plain": [
       "array([[-1.       ,  0.0078125,  1.       , -1.       ],\n",
       "       [ 0.015625 ,  1.       , -0.25     ,  0.125    ]])"
      ]
     },
     "execution_count": 18,
     "metadata": {},
     "output_type": "execute_result"
    }
   ],
   "source": [
    "from sklearn.preprocessing import MaxAbsScaler\n",
    "ft = MaxAbsScaler()\n",
    "ft.fit_transform(X1)"
   ]
  },
  {
   "cell_type": "code",
   "execution_count": 24,
   "metadata": {},
   "outputs": [
    {
     "data": {
      "text/plain": [
       "array([[ 1., -1.,  1.,  1.],\n",
       "       [-1.,  1., -1., -1.]])"
      ]
     },
     "execution_count": 24,
     "metadata": {},
     "output_type": "execute_result"
    }
   ],
   "source": [
    "from sklearn.preprocessing import StandardScaler\n",
    "ft = StandardScaler()\n",
    "ft.fit_transform(X)"
   ]
  },
  {
   "cell_type": "code",
   "execution_count": 25,
   "metadata": {},
   "outputs": [
    {
     "data": {
      "text/plain": [
       "array([[ 1., -1.,  1.,  1.],\n",
       "       [-1.,  1., -1., -1.]])"
      ]
     },
     "execution_count": 25,
     "metadata": {},
     "output_type": "execute_result"
    }
   ],
   "source": [
    "from sklearn.preprocessing import RobustScaler\n",
    "ft = RobustScaler()\n",
    "ft.fit_transform(X)"
   ]
  },
  {
   "cell_type": "code",
   "execution_count": 27,
   "metadata": {},
   "outputs": [
    {
     "data": {
      "text/plain": [
       "array([[ 1.,  1.,  2.,  3.,  4.,  1.,  2.,  3.,  4.,  4.,  6.,  8.,  9.,\n",
       "        12., 16.],\n",
       "       [ 1.,  5.,  6.,  7.,  0., 25., 30., 35.,  0., 36., 42.,  0., 49.,\n",
       "         0.,  0.]])"
      ]
     },
     "execution_count": 27,
     "metadata": {},
     "output_type": "execute_result"
    }
   ],
   "source": [
    "from sklearn.preprocessing import PolynomialFeatures\n",
    "ft = PolynomialFeatures(degree = 2) # [x1, x2, x1x2, x1^2, x2^2]\n",
    "ft.fit_transform(X2)  "
   ]
  },
  {
   "cell_type": "code",
   "execution_count": 28,
   "metadata": {},
   "outputs": [
    {
     "data": {
      "text/plain": [
       "array([[0.],\n",
       "       [0.],\n",
       "       [1.],\n",
       "       [1.],\n",
       "       [2.],\n",
       "       [3.],\n",
       "       [3.],\n",
       "       [4.],\n",
       "       [4.]])"
      ]
     },
     "execution_count": 28,
     "metadata": {},
     "output_type": "execute_result"
    }
   ],
   "source": [
    "from sklearn.preprocessing import KBinsDiscretizer\n",
    "ft = KBinsDiscretizer(n_bins = 5, strategy = 'uniform', encode = 'ordinal')\n",
    "ft.fit_transform(X3.reshape(-1, 1)) # splitted in 5 diff uniform bins "
   ]
  },
  {
   "cell_type": "markdown",
   "metadata": {},
   "source": [
    "##### Categorical Transformers "
   ]
  },
  {
   "cell_type": "code",
   "execution_count": 29,
   "metadata": {},
   "outputs": [],
   "source": [
    "X = [['Male', 1], ['Female', 3], ['Female', 2]]\n",
    "x1 = np.array([1, 2, 3, 1])\n",
    "x2 = np.array([1, 2, 6, 1, 8, 6])\n",
    "\n",
    "movie_genres = [{'action', 'comedy'},\n",
    "                {'comedy'},\n",
    "                {'action', 'thriller'},\n",
    "                {'science-fiction', 'action', 'thriller'} ]"
   ]
  },
  {
   "cell_type": "code",
   "execution_count": 30,
   "metadata": {},
   "outputs": [
    {
     "data": {
      "text/plain": [
       "array([[1., 0., 0.],\n",
       "       [0., 1., 0.],\n",
       "       [0., 0., 1.],\n",
       "       [1., 0., 0.]])"
      ]
     },
     "execution_count": 30,
     "metadata": {},
     "output_type": "execute_result"
    }
   ],
   "source": [
    "from sklearn.preprocessing import OneHotEncoder\n",
    "ft = OneHotEncoder()\n",
    "ft.fit_transform(x1.reshape(-1, 1)).toarray()"
   ]
  },
  {
   "cell_type": "code",
   "execution_count": 31,
   "metadata": {},
   "outputs": [
    {
     "name": "stderr",
     "output_type": "stream",
     "text": [
      "c:\\Users\\Computer\\AppData\\Local\\Programs\\Python\\Python310\\lib\\site-packages\\sklearn\\preprocessing\\_label.py:115: DataConversionWarning: A column-vector y was passed when a 1d array was expected. Please change the shape of y to (n_samples, ), for example using ravel().\n",
      "  y = column_or_1d(y, warn=True)\n"
     ]
    },
    {
     "data": {
      "text/plain": [
       "array([0, 1, 2, 0, 3, 2], dtype=int64)"
      ]
     },
     "execution_count": 31,
     "metadata": {},
     "output_type": "execute_result"
    }
   ],
   "source": [
    "from sklearn.preprocessing import LabelEncoder\n",
    "ft = LabelEncoder() # encodes between 0 - k-1\n",
    "# unique --> (1, 2, 6, 8) ==> (0, 1, 2, 3)\n",
    "ft.fit_transform(x2.reshape(-1, 1))"
   ]
  },
  {
   "cell_type": "markdown",
   "metadata": {},
   "source": [
    "OrdinalEncoder can operate on multi dimensional data, while LabelEncoder can transform only 1D data "
   ]
  },
  {
   "cell_type": "code",
   "execution_count": 32,
   "metadata": {},
   "outputs": [
    {
     "data": {
      "text/plain": [
       "array([[1., 0.],\n",
       "       [0., 2.],\n",
       "       [0., 1.]])"
      ]
     },
     "execution_count": 32,
     "metadata": {},
     "output_type": "execute_result"
    }
   ],
   "source": [
    "from sklearn.preprocessing import OrdinalEncoder\n",
    "ft = OrdinalEncoder()\n",
    "ft.fit_transform(X)  "
   ]
  },
  {
   "cell_type": "markdown",
   "metadata": {},
   "source": [
    "LabelBinarizer has to be used if you want to extend regression and binary classification algo that don't support multiclass setup"
   ]
  },
  {
   "cell_type": "code",
   "execution_count": 33,
   "metadata": {},
   "outputs": [
    {
     "data": {
      "text/plain": [
       "array([[1, 0, 0, 0],\n",
       "       [0, 1, 0, 0],\n",
       "       [0, 0, 1, 0],\n",
       "       [1, 0, 0, 0],\n",
       "       [0, 0, 0, 1],\n",
       "       [0, 0, 1, 0]])"
      ]
     },
     "execution_count": 33,
     "metadata": {},
     "output_type": "execute_result"
    }
   ],
   "source": [
    "from sklearn.preprocessing import LabelBinarizer\n",
    "ft = LabelBinarizer()\n",
    "ft.fit_transform(x2) # num of col == unique value "
   ]
  },
  {
   "cell_type": "code",
   "execution_count": 34,
   "metadata": {},
   "outputs": [
    {
     "data": {
      "text/plain": [
       "array([[1, 1, 0, 0],\n",
       "       [0, 1, 0, 0],\n",
       "       [1, 0, 0, 1],\n",
       "       [1, 0, 1, 1]])"
      ]
     },
     "execution_count": 34,
     "metadata": {},
     "output_type": "execute_result"
    }
   ],
   "source": [
    "from sklearn.preprocessing import MultiLabelBinarizer\n",
    "ft = MultiLabelBinarizer()\n",
    "ft.fit_transform(movie_genres) # num of col == unique value "
   ]
  },
  {
   "cell_type": "code",
   "execution_count": 35,
   "metadata": {},
   "outputs": [
    {
     "data": {
      "text/plain": [
       "array([[1., 1.],\n",
       "       [1., 2.],\n",
       "       [1., 3.],\n",
       "       [1., 1.]])"
      ]
     },
     "execution_count": 35,
     "metadata": {},
     "output_type": "execute_result"
    }
   ],
   "source": [
    "from sklearn.preprocessing import add_dummy_feature\n",
    "add_dummy_feature(x1.reshape(-1, 1))"
   ]
  },
  {
   "cell_type": "markdown",
   "metadata": {},
   "source": [
    "## Feature Selection\n",
    "\n",
    "### Filter based \n",
    "\n",
    "#### VarianceThreshold\n",
    "This transformer helps to keep only high variance features by providing a certain threshold.\n",
    "\n",
    "removes features with variance less than a certain threshold"
   ]
  },
  {
   "cell_type": "code",
   "execution_count": 36,
   "metadata": {},
   "outputs": [
    {
     "data": {
      "text/plain": [
       "array([ 1.25 , 67.735])"
      ]
     },
     "execution_count": 36,
     "metadata": {},
     "output_type": "execute_result"
    }
   ],
   "source": [
    "data = [{'age': 4, 'height': 96.0},\n",
    "        {'age': 1, 'height': 73.9},\n",
    "        {'age': 3, 'height': 88.9},\n",
    "        {'age': 2, 'height': 81.6}]\n",
    "\n",
    "from sklearn.feature_extraction import DictVectorizer\n",
    "\n",
    "dv = DictVectorizer(sparse=False)\n",
    "data_transformed = dv.fit_transform(data)\n",
    "np.var(data_transformed, axis = 0)"
   ]
  },
  {
   "cell_type": "code",
   "execution_count": 37,
   "metadata": {},
   "outputs": [
    {
     "data": {
      "text/plain": [
       "array([[96. ],\n",
       "       [73.9],\n",
       "       [88.9],\n",
       "       [81.6]])"
      ]
     },
     "execution_count": 37,
     "metadata": {},
     "output_type": "execute_result"
    }
   ],
   "source": [
    "from sklearn.feature_selection import VarianceThreshold\n",
    "\n",
    "vt = VarianceThreshold(threshold=9)\n",
    "data_new = vt.fit_transform(data_transformed)\n",
    "data_new"
   ]
  },
  {
   "cell_type": "markdown",
   "metadata": {},
   "source": [
    "**SelectFpr** --> select features based on a false positive rate <br>\n",
    "**SelectFdr** --> select features based on a estimated false discovery rate <br>\n",
    "**SelectFwr** --> select features based on a family-wise error rate "
   ]
  },
  {
   "cell_type": "markdown",
   "metadata": {},
   "source": [
    "#### univariate scoring function \n",
    "\n",
    "three classes of scoring functions are proposed <br>\n",
    "* Mutual information <br>\n",
    "    measures dependecy b/w 2 variables --> return `non -ve` value <br>\n",
    "    MI = 0 --> indp var \n",
    "    high MI --> higher dependency \n",
    "* Chi-sq <br>\n",
    "    measures dependency b/w 2 variables. <br>\n",
    "    computes chi-sq stat b/w 2 `non -ve` feature and class label <br>\n",
    "    higher chi-sq values indicates that the features and labels are likely to be correlated \n",
    "* F-statistics \n",
    "\n",
    "MI and F-stat can be used in both classification and regression problems. <br>\n",
    "Chi-sq can be used only in classification prob"
   ]
  },
  {
   "cell_type": "code",
   "execution_count": 38,
   "metadata": {},
   "outputs": [
    {
     "name": "stdout",
     "output_type": "stream",
     "text": [
      "Shape of feature matrix before feature selection:(2000, 8)\n"
     ]
    }
   ],
   "source": [
    "from sklearn.feature_selection import SelectKBest, mutual_info_regression, chi2\n",
    "from sklearn.datasets import fetch_california_housing\n",
    "\n",
    "#Download data\n",
    "X_cal, y_cal = fetch_california_housing(return_X_y=True)\n",
    "\n",
    "#Select a subset of data\n",
    "X, y = X_cal[:2000,:], y_cal[:2000]\n",
    "\n",
    "print(f'Shape of feature matrix before feature selection:{X.shape}')"
   ]
  },
  {
   "cell_type": "code",
   "execution_count": 39,
   "metadata": {},
   "outputs": [
    {
     "name": "stdout",
     "output_type": "stream",
     "text": [
      "Shape of feature matrix after feature selection:(2000, 3)\n"
     ]
    }
   ],
   "source": [
    "skb = SelectKBest(mutual_info_regression, k = 3)\n",
    "# skb = SelectKBest(chi2, k = 3)\n",
    "X_new = skb.fit_transform(X, y)\n",
    "\n",
    "print(f'Shape of feature matrix after feature selection:{X_new.shape}')"
   ]
  },
  {
   "cell_type": "code",
   "execution_count": 40,
   "metadata": {},
   "outputs": [
    {
     "name": "stdout",
     "output_type": "stream",
     "text": [
      "Shape of feature matrix after feature selection:(2000, 3)\n"
     ]
    }
   ],
   "source": [
    "from sklearn. feature_selection import SelectPercentile\n",
    "sp = SelectPercentile(mutual_info_regression, percentile = 30)\n",
    "# sp = SelectPercentile(chi2, percentile = 30)\n",
    "X_new = sp.fit_transform(X, y)\n",
    "print(f'Shape of feature matrix after feature selection:{X_new.shape}')"
   ]
  },
  {
   "cell_type": "code",
   "execution_count": 41,
   "metadata": {},
   "outputs": [
    {
     "name": "stdout",
     "output_type": "stream",
     "text": [
      "Shape of feature matrix before feature selection:(2000, 8)\n",
      "Shape of feature matrix after feature selection:(2000, 5)\n"
     ]
    }
   ],
   "source": [
    "from sklearn.feature_selection import GenericUnivariateSelect, chi2\n",
    "gus = GenericUnivariateSelect(mutual_info_regression, mode = 'k_best', param = 5)\n",
    "# gus = GenericUnivariateSelect(chi2, mode = 'k_best', param = 20)\n",
    "X_new = gus.fit_transform(X, y)\n",
    "print(f'Shape of feature matrix before feature selection:{X.shape}')\n",
    "print(f'Shape of feature matrix after feature selection:{X_new.shape}')"
   ]
  },
  {
   "cell_type": "markdown",
   "metadata": {},
   "source": [
    "> DO NOT USE REGRESSION FEATURE SCROING FUNCTION WITH CLASSIFICATION PROBLEM\n",
    "> IT WILL LEAD TO USELESS RESULTS "
   ]
  },
  {
   "cell_type": "markdown",
   "metadata": {},
   "source": [
    "### Wrapper based Methods\n",
    "\n",
    "#### RFE(Recursive Feature Elimination)\n",
    "\n",
    "STEP 1 : Fits a model.\n",
    "\n",
    "STEP 2 : Ranks the features, afterwards it removes one or more features dependent on step parameter.\n",
    "\n",
    "STEP 3 : Repeat till we reach the desired number of features\n",
    "\n",
    "> Use RFECV if you don't wanna specify num of features "
   ]
  },
  {
   "cell_type": "code",
   "execution_count": 42,
   "metadata": {},
   "outputs": [
    {
     "name": "stdout",
     "output_type": "stream",
     "text": [
      "[ True False False False False False  True  True]\n",
      "Rank of each feature is: [1 5 4 3 6 2 1 1]\n"
     ]
    }
   ],
   "source": [
    "from sklearn.datasets import make_friedman1\n",
    "from sklearn.feature_selection import RFE\n",
    "from sklearn.linear_model import LinearRegression\n",
    "\n",
    "estimator = LinearRegression()\n",
    "selector = RFE(estimator, n_features_to_select=3, step=1)\n",
    "selector = selector.fit(X, y)\n",
    "\n",
    "#support_ attribute is a boolean array\n",
    "#marking which features are selected\n",
    "print(selector.support_)\n",
    "\n",
    "#rank of each feature\n",
    "#if it's value is '1', Then it is selected\n",
    "#features with rank 2 and onwards are ranked least.\n",
    "print(f'Rank of each feature is: {selector.ranking_}')"
   ]
  },
  {
   "cell_type": "code",
   "execution_count": 43,
   "metadata": {},
   "outputs": [
    {
     "name": "stdout",
     "output_type": "stream",
     "text": [
      "Shape of feature matrix after feature selection:(2000, 3)\n"
     ]
    }
   ],
   "source": [
    "X_new = selector.transform(X)\n",
    "print(f'Shape of feature matrix after feature selection:{X_new.shape}')"
   ]
  },
  {
   "cell_type": "markdown",
   "metadata": {},
   "source": [
    "#### SelectFromModel\n",
    "Select desired number of important features above certain threshold of feature importance as obtained from the trained estimator.\n",
    "\n",
    "* The feature importance is obtained via coef_, feature_importances or an importance_getter callable from the trained estimator\n",
    "* The feature importance threshold can be specified either numerically or through string argument based on built in heuristic such as mean, median and float multiples of these like 0.1*mean"
   ]
  },
  {
   "cell_type": "code",
   "execution_count": 44,
   "metadata": {},
   "outputs": [
    {
     "name": "stdout",
     "output_type": "stream",
     "text": [
      "Coefficients of features: [ 3.64048292e-01  5.56221906e-03  5.13591243e-02 -1.64474348e-01\n",
      "  5.90411479e-05 -1.64573915e-01 -2.17724525e-01 -1.85343265e-01]\n",
      "Indices of top 3 features: [1 2 0]\n",
      "Shape of feature matrix after feature selection:(2000, 3)\n"
     ]
    }
   ],
   "source": [
    "from sklearn.feature_selection import SelectFromModel\n",
    "\n",
    "estimator = LinearRegression()\n",
    "estimator.fit(X, y)\n",
    "\n",
    "print(f'Coefficients of features: {estimator.coef_}')\n",
    "print(f'Indices of top {3} features: {np.argsort(estimator.coef_)[-3:]}')\n",
    "\n",
    "t = np.argsort(np.abs(estimator.coef_))[-3:]\n",
    "model = SelectFromModel(estimator, max_features=3, prefit=True)\n",
    "X_new = model.transform(X)\n",
    "print(f'Shape of feature matrix after feature selection:{X_new.shape}')"
   ]
  },
  {
   "cell_type": "markdown",
   "metadata": {},
   "source": [
    "#### SequentialFeatureSelector\n",
    "It performs feature selection by selecting or deselecting features one by one in a greedy manner\n",
    "\n",
    "*--> default forward*\n",
    "\n",
    "add feature that gives the best cv score \n",
    "\n",
    "remove least important feature in backward elimination\n",
    "\n",
    "> in general the results for both are not same\n",
    "\n",
    "selecting 7 out of 10 then backward <br>\n",
    "selecting 3 out of 10 then forward "
   ]
  },
  {
   "cell_type": "code",
   "execution_count": 45,
   "metadata": {},
   "outputs": [
    {
     "name": "stdout",
     "output_type": "stream",
     "text": [
      "CPU times: total: 0 ns\n",
      "Wall time: 0 ns\n",
      "[ True False False False False  True  True False]\n"
     ]
    }
   ],
   "source": [
    "from sklearn.feature_selection import SequentialFeatureSelector\n",
    "\n",
    "%time\n",
    "\n",
    "estimator = LinearRegression()\n",
    "\n",
    "sfs = SequentialFeatureSelector(estimator, n_features_to_select=3)\n",
    "sfs.fit_transform(X, y)\n",
    "print(sfs.get_support())"
   ]
  },
  {
   "cell_type": "code",
   "execution_count": 46,
   "metadata": {},
   "outputs": [
    {
     "name": "stdout",
     "output_type": "stream",
     "text": [
      "[ True False False False False  True  True False]\n"
     ]
    }
   ],
   "source": [
    "estimator = LinearRegression()\n",
    "sfs = SequentialFeatureSelector(estimator, n_features_to_select=3, direction='backward')\n",
    "sfs.fit_transform(X, y)\n",
    "print(sfs.get_support())"
   ]
  },
  {
   "cell_type": "code",
   "execution_count": 47,
   "metadata": {},
   "outputs": [
    {
     "name": "stdout",
     "output_type": "stream",
     "text": [
      "[ True False False False False  True  True False]\n"
     ]
    }
   ],
   "source": [
    "estimator = LinearRegression()\n",
    "sfs = SequentialFeatureSelector(estimator, n_features_to_select=3, direction='forward')\n",
    "sfs.fit_transform(X, y)\n",
    "print(sfs.get_support())"
   ]
  },
  {
   "cell_type": "markdown",
   "metadata": {},
   "source": [
    "### Column transformation\n",
    "\n",
    "apply different transformations on different columns "
   ]
  },
  {
   "cell_type": "code",
   "execution_count": 48,
   "metadata": {},
   "outputs": [
    {
     "data": {
      "text/plain": [
       "array([[0.        , 1.        , 0.33333333],\n",
       "       [1.        , 0.        , 1.        ],\n",
       "       [1.        , 0.        , 0.66666667]])"
      ]
     },
     "execution_count": 48,
     "metadata": {},
     "output_type": "execute_result"
    }
   ],
   "source": [
    "X = np.array([['Male', 1], ['Female', 3], ['Female', 2]])\n",
    "\n",
    "from sklearn.compose import ColumnTransformer\n",
    "column_trans = ColumnTransformer(\n",
    "    [ \n",
    "        ('genderEncoder', OneHotEncoder(dtype = 'int'), [0]), \n",
    "        ('ageScaler', MaxAbsScaler(), [1])\n",
    "    ], remainder = 'drop', verbose_feature_names_out = False\n",
    ")\n",
    "\n",
    "column_trans.fit_transform(X)"
   ]
  },
  {
   "cell_type": "markdown",
   "metadata": {},
   "source": [
    "#### Transforming Target for Regression\n",
    "\n",
    "transforms the target variable before fitting the regression <br>\n",
    "predicted values are mapped back to the original space via inv transform "
   ]
  },
  {
   "cell_type": "code",
   "execution_count": 49,
   "metadata": {},
   "outputs": [
    {
     "data": {
      "text/plain": [
       "TransformedTargetRegressor(func=<ufunc 'log'>, inverse_func=<ufunc 'exp'>,\n",
       "                           regressor=LinearRegression())"
      ]
     },
     "execution_count": 49,
     "metadata": {},
     "output_type": "execute_result"
    }
   ],
   "source": [
    "import numpy as np \n",
    "from sklearn.linear_model import LinearRegression\n",
    "from sklearn.compose import TransformedTargetRegressor\n",
    "\n",
    "tt = TransformedTargetRegressor(regressor= LinearRegression(), \n",
    "                                func = np.log, inverse_func = np.exp\n",
    "                        )\n",
    "\n",
    "X = np.arange(4).reshape(-1, 1)\n",
    "y = np.exp(2*X).ravel()\n",
    "tt.fit(X, y) "
   ]
  },
  {
   "cell_type": "markdown",
   "metadata": {},
   "source": [
    "### PCA \n",
    "unsupervised "
   ]
  },
  {
   "cell_type": "code",
   "execution_count": 77,
   "metadata": {},
   "outputs": [
    {
     "data": {
      "text/plain": [
       "(-2.7292712056271964,\n",
       " 2.5702744393352615,\n",
       " -0.9326181575178751,\n",
       " 1.004413830229183)"
      ]
     },
     "execution_count": 77,
     "metadata": {},
     "output_type": "execute_result"
    },
    {
     "data": {
      "image/png": "[encoded data removed]",
      "text/plain": [
       "<Figure size 432x288 with 1 Axes>"
      ]
     },
     "metadata": {},
     "output_type": "display_data"
    }
   ],
   "source": [
    "rand = np.random.RandomState(1)\n",
    "X = np.dot(rand.rand(2, 2), rand.randn(2, 200)).T\n",
    "\n",
    "plt.figure()\n",
    "plt.title('Data points', size=20)\n",
    "\n",
    "# set x and y labels\n",
    "plt.xlabel('$x_1$', size=15)\n",
    "plt.ylabel('$x_2$', size=15, rotation=0)\n",
    "\n",
    "# plot the data points\n",
    "plt.scatter(X[:, 0], X[:, 1], alpha=0.5)\n",
    "plt.axis('equal')"
   ]
  },
  {
   "cell_type": "code",
   "execution_count": 78,
   "metadata": {},
   "outputs": [
    {
     "data": {
      "text/html": [
       "<style>#sk-2e435979-551c-4b00-88c0-3b3fbad91a7f {color: black;background-color: white;}#sk-2e435979-551c-4b00-88c0-3b3fbad91a7f pre{padding: 0;}#sk-2e435979-551c-4b00-88c0-3b3fbad91a7f div.sk-toggleable {background-color: white;}#sk-2e435979-551c-4b00-88c0-3b3fbad91a7f label.sk-toggleable__label {cursor: pointer;display: block;width: 100%;margin-bottom: 0;padding: 0.3em;box-sizing: border-box;text-align: center;}#sk-2e435979-551c-4b00-88c0-3b3fbad91a7f label.sk-toggleable__label-arrow:before {content: \"▸\";float: left;margin-right: 0.25em;color: #696969;}#sk-2e435979-551c-4b00-88c0-3b3fbad91a7f label.sk-toggleable__label-arrow:hover:before {color: black;}#sk-2e435979-551c-4b00-88c0-3b3fbad91a7f div.sk-estimator:hover label.sk-toggleable__label-arrow:before {color: black;}#sk-2e435979-551c-4b00-88c0-3b3fbad91a7f div.sk-toggleable__content {max-height: 0;max-width: 0;overflow: hidden;text-align: left;background-color: #f0f8ff;}#sk-2e435979-551c-4b00-88c0-3b3fbad91a7f div.sk-toggleable__content pre {margin: 0.2em;color: black;border-radius: 0.25em;background-color: #f0f8ff;}#sk-2e435979-551c-4b00-88c0-3b3fbad91a7f input.sk-toggleable__control:checked~div.sk-toggleable__content {max-height: 200px;max-width: 100%;overflow: auto;}#sk-2e435979-551c-4b00-88c0-3b3fbad91a7f input.sk-toggleable__control:checked~label.sk-toggleable__label-arrow:before {content: \"▾\";}#sk-2e435979-551c-4b00-88c0-3b3fbad91a7f div.sk-estimator input.sk-toggleable__control:checked~label.sk-toggleable__label {background-color: #d4ebff;}#sk-2e435979-551c-4b00-88c0-3b3fbad91a7f div.sk-label input.sk-toggleable__control:checked~label.sk-toggleable__label {background-color: #d4ebff;}#sk-2e435979-551c-4b00-88c0-3b3fbad91a7f input.sk-hidden--visually {border: 0;clip: rect(1px 1px 1px 1px);clip: rect(1px, 1px, 1px, 1px);height: 1px;margin: -1px;overflow: hidden;padding: 0;position: absolute;width: 1px;}#sk-2e435979-551c-4b00-88c0-3b3fbad91a7f div.sk-estimator {font-family: monospace;background-color: #f0f8ff;border: 1px dotted black;border-radius: 0.25em;box-sizing: border-box;margin-bottom: 0.5em;}#sk-2e435979-551c-4b00-88c0-3b3fbad91a7f div.sk-estimator:hover {background-color: #d4ebff;}#sk-2e435979-551c-4b00-88c0-3b3fbad91a7f div.sk-parallel-item::after {content: \"\";width: 100%;border-bottom: 1px solid gray;flex-grow: 1;}#sk-2e435979-551c-4b00-88c0-3b3fbad91a7f div.sk-label:hover label.sk-toggleable__label {background-color: #d4ebff;}#sk-2e435979-551c-4b00-88c0-3b3fbad91a7f div.sk-serial::before {content: \"\";position: absolute;border-left: 1px solid gray;box-sizing: border-box;top: 2em;bottom: 0;left: 50%;}#sk-2e435979-551c-4b00-88c0-3b3fbad91a7f div.sk-serial {display: flex;flex-direction: column;align-items: center;background-color: white;padding-right: 0.2em;padding-left: 0.2em;}#sk-2e435979-551c-4b00-88c0-3b3fbad91a7f div.sk-item {z-index: 1;}#sk-2e435979-551c-4b00-88c0-3b3fbad91a7f div.sk-parallel {display: flex;align-items: stretch;justify-content: center;background-color: white;}#sk-2e435979-551c-4b00-88c0-3b3fbad91a7f div.sk-parallel::before {content: \"\";position: absolute;border-left: 1px solid gray;box-sizing: border-box;top: 2em;bottom: 0;left: 50%;}#sk-2e435979-551c-4b00-88c0-3b3fbad91a7f div.sk-parallel-item {display: flex;flex-direction: column;position: relative;background-color: white;}#sk-2e435979-551c-4b00-88c0-3b3fbad91a7f div.sk-parallel-item:first-child::after {align-self: flex-end;width: 50%;}#sk-2e435979-551c-4b00-88c0-3b3fbad91a7f div.sk-parallel-item:last-child::after {align-self: flex-start;width: 50%;}#sk-2e435979-551c-4b00-88c0-3b3fbad91a7f div.sk-parallel-item:only-child::after {width: 0;}#sk-2e435979-551c-4b00-88c0-3b3fbad91a7f div.sk-dashed-wrapped {border: 1px dashed gray;margin: 0 0.4em 0.5em 0.4em;box-sizing: border-box;padding-bottom: 0.4em;background-color: white;position: relative;}#sk-2e435979-551c-4b00-88c0-3b3fbad91a7f div.sk-label label {font-family: monospace;font-weight: bold;background-color: white;display: inline-block;line-height: 1.2em;}#sk-2e435979-551c-4b00-88c0-3b3fbad91a7f div.sk-label-container {position: relative;z-index: 2;text-align: center;}#sk-2e435979-551c-4b00-88c0-3b3fbad91a7f div.sk-container {/* jupyter's `normalize.less` sets `[hidden] { display: none; }` but bootstrap.min.css set `[hidden] { display: none !important; }` so we also need the `!important` here to be able to override the default hidden behavior on the sphinx rendered scikit-learn.org. See: https://github.com/scikit-learn/scikit-learn/issues/21755 */display: inline-block !important;position: relative;}#sk-2e435979-551c-4b00-88c0-3b3fbad91a7f div.sk-text-repr-fallback {display: none;}</style><div id=\"sk-2e435979-551c-4b00-88c0-3b3fbad91a7f\" class=\"sk-top-container\"><div class=\"sk-text-repr-fallback\"><pre>PCA(n_components=2)</pre><b>Please rerun this cell to show the HTML repr or trust the notebook.</b></div><div class=\"sk-container\" hidden><div class=\"sk-item\"><div class=\"sk-estimator sk-toggleable\"><input class=\"sk-toggleable__control sk-hidden--visually\" id=\"875ab0b9-3557-4329-a3ba-611e658aad64\" type=\"checkbox\" checked><label for=\"875ab0b9-3557-4329-a3ba-611e658aad64\" class=\"sk-toggleable__label sk-toggleable__label-arrow\">PCA</label><div class=\"sk-toggleable__content\"><pre>PCA(n_components=2)</pre></div></div></div></div></div>"
      ],
      "text/plain": [
       "PCA(n_components=2)"
      ]
     },
     "execution_count": 78,
     "metadata": {},
     "output_type": "execute_result"
    }
   ],
   "source": [
    "from sklearn.decomposition import PCA\n",
    "\n",
    "pca = PCA(n_components=2)\n",
    "pca.fit(X)"
   ]
  },
  {
   "cell_type": "code",
   "execution_count": 79,
   "metadata": {},
   "outputs": [
    {
     "name": "stdout",
     "output_type": "stream",
     "text": [
      "The 2 principle axes are :\n",
      " [[-0.94446029 -0.32862557]\n",
      " [-0.32862557  0.94446029]]\n"
     ]
    }
   ],
   "source": [
    "print(f'The {pca.n_components_} principle axes are :\\n', pca.components_)"
   ]
  },
  {
   "cell_type": "code",
   "execution_count": 80,
   "metadata": {},
   "outputs": [
    {
     "name": "stdout",
     "output_type": "stream",
     "text": [
      "Explained variance by each component :  [0.7625315 0.0184779]\n"
     ]
    }
   ],
   "source": [
    "print('Explained variance by each component : ', pca.explained_variance_)"
   ]
  },
  {
   "cell_type": "code",
   "execution_count": 81,
   "metadata": {},
   "outputs": [
    {
     "name": "stdout",
     "output_type": "stream",
     "text": [
      "(200, 2)\n",
      "(200,)\n"
     ]
    }
   ],
   "source": [
    "projections = X@pca.components_\n",
    "print(projections.shape)\n",
    "\n",
    "c3 = X[2]\n",
    "\n",
    "arbitary_projection = X@c3\n",
    "print(arbitary_projection.shape)"
   ]
  },
  {
   "cell_type": "code",
   "execution_count": 82,
   "metadata": {},
   "outputs": [
    {
     "data": {
      "image/png": "[encoded data removed]",
      "text/plain": [
       "<Figure size 864x576 with 1 Axes>"
      ]
     },
     "metadata": {},
     "output_type": "display_data"
    }
   ],
   "source": [
    "plt.figure(figsize=(12,8))\n",
    "\n",
    "plt.scatter(projections[:, 0], 1+np.zeros((200, 1)), alpha=0.3, color='r')\n",
    "plt.scatter(projections[:, 1], -1+np.zeros((200, 1)), alpha=0.3, color='b')\n",
    "plt.scatter(arbitary_projection, np.zeros((200,)), alpha=0.3, color='grey')\n",
    "\n",
    "plt.legend(['$\\mathbf{C_2}$', '$\\mathbf{C_3}$'], prop={'size': 16})\n",
    "plt.title(\"variance covered by different vectors\", size=20)\n",
    "\n",
    "plt.ylim([-1.5, 1.5])\n",
    "plt.yticks([], [])\n",
    "plt.axis('equal')\n",
    "plt.grid(True)\n",
    "plt.xlabel('$z$', size=20)\n",
    "plt.show()"
   ]
  },
  {
   "cell_type": "code",
   "execution_count": 83,
   "metadata": {},
   "outputs": [
    {
     "data": {
      "image/png": "[encoded data removed]",
      "text/plain": [
       "<Figure size 432x288 with 1 Axes>"
      ]
     },
     "metadata": {},
     "output_type": "display_data"
    }
   ],
   "source": [
    "plt.figure()\n",
    "plt.title('Data and candidate vectors', size=20)\n",
    "\n",
    "# set x and y labels\n",
    "plt.xlabel('$x_1$', size=20)\n",
    "plt.ylabel('$x_2$', size=20, rotation=0)\n",
    "\n",
    "# plot data points\n",
    "plt.scatter(X[:, 0], X[:, 1], alpha=0.3)\n",
    "\n",
    "for length, principal_axis, axis_name, i_color in zip(pca.explained_variance_,\n",
    "pca.components_,['$\\mathbf{C_1}$', '$\\mathbf{C_2}$'], ['r', 'b']):\n",
    "    v = principal_axis * np.sqrt(length)\n",
    "    v0, v1 = pca.mean_, pca.mean_ + v\n",
    "\n",
    "    # draw principal axis\n",
    "    plt.quiver(*v0, *(v1-v0), scale=0.33, scale_units='xy', color=i_color)\n",
    "\n",
    "    # label the  principal axis\n",
    "    plt.text(*(3.4*v1), axis_name, size=20)\n",
    "\n",
    "# draw 3rd component\n",
    "lengths = np.eye(2)\n",
    "np.fill_diagonal(lengths, np.sqrt(pca.explained_variance_))\n",
    "\n",
    "c3 = pca.mean_+[-0.5, 0.3]\n",
    "\n",
    "plt.quiver(*pca.mean_,*(1.1*(c3-pca.mean_)), scale=1, scale_units='xy',\n",
    "color='grey')\n",
    "\n",
    "# label the  principal axis\n",
    "plt.text(*(1.4*c3),'$\\mathbf{C_3}$',size=20,color='grey')\n",
    "\n",
    "plt.axis('equal')\n",
    "plt.show()"
   ]
  },
  {
   "cell_type": "code",
   "execution_count": 50,
   "metadata": {},
   "outputs": [],
   "source": [
    "X_cal, y_cal = fetch_california_housing(return_X_y=True)\n",
    "X, y = X_cal[:2000,:], y_cal[:2000]"
   ]
  },
  {
   "cell_type": "code",
   "execution_count": 51,
   "metadata": {},
   "outputs": [
    {
     "data": {
      "text/plain": [
       "PCA(n_components=2)"
      ]
     },
     "execution_count": 51,
     "metadata": {},
     "output_type": "execute_result"
    }
   ],
   "source": [
    "from sklearn.decomposition import PCA\n",
    "pca  = PCA(n_components=2)\n",
    "pca.fit(X)"
   ]
  },
  {
   "cell_type": "markdown",
   "metadata": {},
   "source": [
    "#### Chaining Transformers"
   ]
  },
  {
   "cell_type": "markdown",
   "metadata": {},
   "source": [
    "The preprocessing transformations are applied one after the another on the input feature matrix. It is important to apply exactly the same transformation on training, evaluation and testing sets in the same order.\n",
    "\n",
    "The sklearn.pipeline module provides utilities to build a compsite estimator, as a chain of transformers and estimators.\n",
    "\n",
    "#### Pipeline\n",
    "Sequencially apply a list if transformers and estimators.\n",
    "\n",
    "* Intermediate steps of the pipeline must be 'transformers'. i.e. They must implement fit and transform methods.\n",
    "* Final estimator only needs to implement fit\n",
    "The purpose of the pipeline is to assemble several steps that can be cross-validated together whilesetting different parameters\n",
    "\n",
    "#### Pipeline\n",
    "A Pipeline can be created with Pipeline(). It takes a list of `('estimatorName', estimator(..))` tuples. The pipeline object exposes the interrface of the last step"
   ]
  },
  {
   "cell_type": "code",
   "execution_count": 52,
   "metadata": {},
   "outputs": [
    {
     "data": {
      "text/plain": [
       "array([[ 2.32464934,  0.68980036,  0.21276093, ..., -0.2199803 ,\n",
       "        -0.28449836, -0.50730068],\n",
       "       [ 2.31218777, -0.73400966,  0.06715959, ..., -0.8085314 ,\n",
       "        -0.31499693, -0.48980483],\n",
       "       [ 1.76555431,  1.47289588,  0.46727564, ...,  0.10578509,\n",
       "        -0.33024622, -0.52479652],\n",
       "       ...,\n",
       "       [-1.10086798,  0.97456237, -0.23305201, ...,  1.11898789,\n",
       "        -2.03816656,  3.79667637],\n",
       "       [-1.23710747,  0.54741936, -0.32949325, ...,  2.38643537,\n",
       "        -2.00766798,  3.79667637],\n",
       "       [-1.22035242, -0.80520017, -0.33310863, ..., -0.34252193,\n",
       "        -2.02291727,  3.79667637]])"
      ]
     },
     "execution_count": 52,
     "metadata": {},
     "output_type": "execute_result"
    }
   ],
   "source": [
    "from sklearn.pipeline import Pipeline\n",
    "from sklearn.impute import SimpleImputer\n",
    "from sklearn.preprocessing import StandardScaler\n",
    "\n",
    "estimators = [\n",
    "    ('simpleImputer', SimpleImputer()),\n",
    "    ('standardscaler', StandardScaler())\n",
    "]\n",
    "\n",
    "pipe = Pipeline(steps=estimators)\n",
    "pipe.fit_transform(X)"
   ]
  },
  {
   "cell_type": "markdown",
   "metadata": {},
   "source": [
    "The same pipeline can als be created via `make_pipeline()` helper function, which doesn't take names of the steps and assigns them generic names based on their steps."
   ]
  },
  {
   "cell_type": "code",
   "execution_count": 53,
   "metadata": {},
   "outputs": [],
   "source": [
    "from sklearn.pipeline import make_pipeline\n",
    "pipe = make_pipeline(SimpleImputer(), \n",
    "                     StandardScaler())"
   ]
  },
  {
   "cell_type": "markdown",
   "metadata": {},
   "source": [
    "Accessing Individual steps in a pipeline"
   ]
  },
  {
   "cell_type": "code",
   "execution_count": 62,
   "metadata": {},
   "outputs": [],
   "source": [
    "from sklearn.decomposition import PCA\n",
    "\n",
    "estimators = [\n",
    "            ('simpleImputer', SimpleImputer()),\n",
    "            ('pca', PCA()),\n",
    "            ('regressor', LinearRegression())\n",
    "]\n",
    "\n",
    "pipe = Pipeline(steps=estimators)"
   ]
  },
  {
   "cell_type": "code",
   "execution_count": 63,
   "metadata": {},
   "outputs": [
    {
     "name": "stdout",
     "output_type": "stream",
     "text": [
      "3\n"
     ]
    }
   ],
   "source": [
    "# Let's print number of steps in this pipeline\n",
    "print(len(pipe.steps))"
   ]
  },
  {
   "cell_type": "code",
   "execution_count": 68,
   "metadata": {},
   "outputs": [
    {
     "data": {
      "text/plain": [
       "LinearRegression()"
      ]
     },
     "execution_count": 68,
     "metadata": {},
     "output_type": "execute_result"
    }
   ],
   "source": [
    "pipe.steps[2][1]"
   ]
  },
  {
   "cell_type": "code",
   "execution_count": 67,
   "metadata": {},
   "outputs": [
    {
     "data": {
      "text/plain": [
       "LinearRegression()"
      ]
     },
     "execution_count": 67,
     "metadata": {},
     "output_type": "execute_result"
    }
   ],
   "source": [
    "pipe[2]"
   ]
  },
  {
   "cell_type": "code",
   "execution_count": 65,
   "metadata": {},
   "outputs": [
    {
     "data": {
      "text/plain": [
       "LinearRegression()"
      ]
     },
     "execution_count": 65,
     "metadata": {},
     "output_type": "execute_result"
    }
   ],
   "source": [
    "pipe.named_steps.regressor"
   ]
  },
  {
   "cell_type": "code",
   "execution_count": 71,
   "metadata": {},
   "outputs": [
    {
     "data": {
      "text/plain": [
       "LinearRegression()"
      ]
     },
     "execution_count": 71,
     "metadata": {},
     "output_type": "execute_result"
    }
   ],
   "source": [
    "pipe['regressor']"
   ]
  },
  {
   "cell_type": "code",
   "execution_count": 56,
   "metadata": {},
   "outputs": [
    {
     "name": "stdout",
     "output_type": "stream",
     "text": [
      "[('simpleImputer', SimpleImputer()), ('pca', PCA()), ('regressor', LinearRegression())]\n"
     ]
    }
   ],
   "source": [
    "print(pipe.steps)"
   ]
  },
  {
   "cell_type": "markdown",
   "metadata": {},
   "source": [
    "`<estimator>__<parameterName>`"
   ]
  },
  {
   "cell_type": "code",
   "execution_count": 57,
   "metadata": {},
   "outputs": [
    {
     "data": {
      "text/plain": [
       "Pipeline(steps=[('simpleImputer', SimpleImputer()),\n",
       "                ('pca', PCA(n_components=2)),\n",
       "                ('regressor', LinearRegression())])"
      ]
     },
     "execution_count": 57,
     "metadata": {},
     "output_type": "execute_result"
    }
   ],
   "source": [
    "#Accessing parameters of a step\n",
    "\n",
    "pipe.set_params(pca__n_components = 2)"
   ]
  },
  {
   "cell_type": "code",
   "execution_count": 58,
   "metadata": {},
   "outputs": [
    {
     "data": {
      "text/plain": [
       "SimpleImputer()"
      ]
     },
     "execution_count": 58,
     "metadata": {},
     "output_type": "execute_result"
    }
   ],
   "source": [
    "pipe.named_steps.simpleImputer"
   ]
  },
  {
   "cell_type": "code",
   "execution_count": 59,
   "metadata": {},
   "outputs": [
    {
     "data": {
      "text/plain": [
       "PCA(n_components=2)"
      ]
     },
     "execution_count": 59,
     "metadata": {},
     "output_type": "execute_result"
    }
   ],
   "source": [
    "pipe['pca']"
   ]
  },
  {
   "cell_type": "markdown",
   "metadata": {},
   "source": [
    "#### GridSearch with pipeline\n",
    "\n",
    "By using naming convention of nested parameters, grid search can be implemented."
   ]
  },
  {
   "cell_type": "markdown",
   "metadata": {},
   "source": [
    "passthrough --> no imputation and other two imputation <br>\n",
    "2 diff models <br>\n",
    "hyperparameter c"
   ]
  },
  {
   "cell_type": "code",
   "execution_count": 76,
   "metadata": {},
   "outputs": [],
   "source": [
    "from sklearn.impute import KNNImputer\n",
    "from sklearn.linear_model import LogisticRegression\n",
    "from sklearn.svm import SVC\n",
    "from sklearn.model_selection import GridSearchCV\n",
    "\n",
    "param_grid = dict(imputer = ['passthrough',\n",
    "                             SimpleImputer(),\n",
    "                             KNNImputer()],\n",
    "                    clf = [SVC(), LogisticRegression()],\n",
    "                    clf__C = [0.1, 10, 100])\n",
    "\n",
    "grid_search = GridSearchCV(pipe, param_grid=param_grid)"
   ]
  },
  {
   "cell_type": "markdown",
   "metadata": {},
   "source": [
    "`c` is an inverse of regularization, lower its value stronger the regularisation is.\n",
    "In the example above `clf__C` provides a set of values for grid search"
   ]
  },
  {
   "cell_type": "markdown",
   "metadata": {},
   "source": [
    "#### Caching Transformers\n",
    "Transforming data is a computationally expensive step.\n",
    "\n",
    "* For grid search, transformers need not be applied for every parameter configuration. they can be applied once, and the transformed data can be reused.\n",
    "\n",
    "This can be achieved by setting memory parameter of a pipeline object."
   ]
  },
  {
   "cell_type": "code",
   "execution_count": 73,
   "metadata": {},
   "outputs": [
    {
     "data": {
      "text/plain": [
       "<TemporaryDirectory 'C:\\\\Users\\\\Computer\\\\AppData\\\\Local\\\\Temp\\\\tmp06qu_j76'>"
      ]
     },
     "execution_count": 73,
     "metadata": {},
     "output_type": "execute_result"
    }
   ],
   "source": [
    "import tempfile\n",
    "tempDirPath = tempfile.TemporaryDirectory()\n",
    "tempDirPath"
   ]
  },
  {
   "cell_type": "code",
   "execution_count": 78,
   "metadata": {},
   "outputs": [],
   "source": [
    "estimators = [ \n",
    "                ('simpleImputer', SimpleImputer()),\n",
    "                ('pca', PCA(2)),\n",
    "                ('regressor', LinearRegression())\n",
    "]\n",
    "\n",
    "pipe = Pipeline(steps=estimators, memory=tempDirPath)\n",
    "# pipe = Pipeline(steps=estimators, memory='/path/to/cache/dir')"
   ]
  },
  {
   "cell_type": "markdown",
   "metadata": {},
   "source": [
    "FeatureUnion\n",
    "Concatenates results of multiple traansformer objects.\n",
    "\n",
    "* Applies a list of transformer objects in parallel, and their outputs are concatenated side by side into a largematrix.\n",
    "\n",
    "FeatureUnion and Pipeline can be used to create complex transformers."
   ]
  },
  {
   "cell_type": "markdown",
   "metadata": {},
   "source": [
    "FeatureUnion apply transformation column wise --> \n",
    "\n",
    "pipeline apply transformation row wise ||<br>\n",
    "-------------------------------------------\\\\/"
   ]
  },
  {
   "cell_type": "code",
   "execution_count": 76,
   "metadata": {},
   "outputs": [
    {
     "data": {
      "text/html": [
       "<style>#sk-7fbf239a-6ce9-4445-9d96-fb3aa33a0370 {color: black;background-color: white;}#sk-7fbf239a-6ce9-4445-9d96-fb3aa33a0370 pre{padding: 0;}#sk-7fbf239a-6ce9-4445-9d96-fb3aa33a0370 div.sk-toggleable {background-color: white;}#sk-7fbf239a-6ce9-4445-9d96-fb3aa33a0370 label.sk-toggleable__label {cursor: pointer;display: block;width: 100%;margin-bottom: 0;padding: 0.3em;box-sizing: border-box;text-align: center;}#sk-7fbf239a-6ce9-4445-9d96-fb3aa33a0370 label.sk-toggleable__label-arrow:before {content: \"▸\";float: left;margin-right: 0.25em;color: #696969;}#sk-7fbf239a-6ce9-4445-9d96-fb3aa33a0370 label.sk-toggleable__label-arrow:hover:before {color: black;}#sk-7fbf239a-6ce9-4445-9d96-fb3aa33a0370 div.sk-estimator:hover label.sk-toggleable__label-arrow:before {color: black;}#sk-7fbf239a-6ce9-4445-9d96-fb3aa33a0370 div.sk-toggleable__content {max-height: 0;max-width: 0;overflow: hidden;text-align: left;background-color: #f0f8ff;}#sk-7fbf239a-6ce9-4445-9d96-fb3aa33a0370 div.sk-toggleable__content pre {margin: 0.2em;color: black;border-radius: 0.25em;background-color: #f0f8ff;}#sk-7fbf239a-6ce9-4445-9d96-fb3aa33a0370 input.sk-toggleable__control:checked~div.sk-toggleable__content {max-height: 200px;max-width: 100%;overflow: auto;}#sk-7fbf239a-6ce9-4445-9d96-fb3aa33a0370 input.sk-toggleable__control:checked~label.sk-toggleable__label-arrow:before {content: \"▾\";}#sk-7fbf239a-6ce9-4445-9d96-fb3aa33a0370 div.sk-estimator input.sk-toggleable__control:checked~label.sk-toggleable__label {background-color: #d4ebff;}#sk-7fbf239a-6ce9-4445-9d96-fb3aa33a0370 div.sk-label input.sk-toggleable__control:checked~label.sk-toggleable__label {background-color: #d4ebff;}#sk-7fbf239a-6ce9-4445-9d96-fb3aa33a0370 input.sk-hidden--visually {border: 0;clip: rect(1px 1px 1px 1px);clip: rect(1px, 1px, 1px, 1px);height: 1px;margin: -1px;overflow: hidden;padding: 0;position: absolute;width: 1px;}#sk-7fbf239a-6ce9-4445-9d96-fb3aa33a0370 div.sk-estimator {font-family: monospace;background-color: #f0f8ff;border: 1px dotted black;border-radius: 0.25em;box-sizing: border-box;margin-bottom: 0.5em;}#sk-7fbf239a-6ce9-4445-9d96-fb3aa33a0370 div.sk-estimator:hover {background-color: #d4ebff;}#sk-7fbf239a-6ce9-4445-9d96-fb3aa33a0370 div.sk-parallel-item::after {content: \"\";width: 100%;border-bottom: 1px solid gray;flex-grow: 1;}#sk-7fbf239a-6ce9-4445-9d96-fb3aa33a0370 div.sk-label:hover label.sk-toggleable__label {background-color: #d4ebff;}#sk-7fbf239a-6ce9-4445-9d96-fb3aa33a0370 div.sk-serial::before {content: \"\";position: absolute;border-left: 1px solid gray;box-sizing: border-box;top: 2em;bottom: 0;left: 50%;}#sk-7fbf239a-6ce9-4445-9d96-fb3aa33a0370 div.sk-serial {display: flex;flex-direction: column;align-items: center;background-color: white;padding-right: 0.2em;padding-left: 0.2em;}#sk-7fbf239a-6ce9-4445-9d96-fb3aa33a0370 div.sk-item {z-index: 1;}#sk-7fbf239a-6ce9-4445-9d96-fb3aa33a0370 div.sk-parallel {display: flex;align-items: stretch;justify-content: center;background-color: white;}#sk-7fbf239a-6ce9-4445-9d96-fb3aa33a0370 div.sk-parallel::before {content: \"\";position: absolute;border-left: 1px solid gray;box-sizing: border-box;top: 2em;bottom: 0;left: 50%;}#sk-7fbf239a-6ce9-4445-9d96-fb3aa33a0370 div.sk-parallel-item {display: flex;flex-direction: column;position: relative;background-color: white;}#sk-7fbf239a-6ce9-4445-9d96-fb3aa33a0370 div.sk-parallel-item:first-child::after {align-self: flex-end;width: 50%;}#sk-7fbf239a-6ce9-4445-9d96-fb3aa33a0370 div.sk-parallel-item:last-child::after {align-self: flex-start;width: 50%;}#sk-7fbf239a-6ce9-4445-9d96-fb3aa33a0370 div.sk-parallel-item:only-child::after {width: 0;}#sk-7fbf239a-6ce9-4445-9d96-fb3aa33a0370 div.sk-dashed-wrapped {border: 1px dashed gray;margin: 0 0.4em 0.5em 0.4em;box-sizing: border-box;padding-bottom: 0.4em;background-color: white;position: relative;}#sk-7fbf239a-6ce9-4445-9d96-fb3aa33a0370 div.sk-label label {font-family: monospace;font-weight: bold;background-color: white;display: inline-block;line-height: 1.2em;}#sk-7fbf239a-6ce9-4445-9d96-fb3aa33a0370 div.sk-label-container {position: relative;z-index: 2;text-align: center;}#sk-7fbf239a-6ce9-4445-9d96-fb3aa33a0370 div.sk-container {/* jupyter's `normalize.less` sets `[hidden] { display: none; }` but bootstrap.min.css set `[hidden] { display: none !important; }` so we also need the `!important` here to be able to override the default hidden behavior on the sphinx rendered scikit-learn.org. See: https://github.com/scikit-learn/scikit-learn/issues/21755 */display: inline-block !important;position: relative;}#sk-7fbf239a-6ce9-4445-9d96-fb3aa33a0370 div.sk-text-repr-fallback {display: none;}</style><div id=\"sk-7fbf239a-6ce9-4445-9d96-fb3aa33a0370\" class=\"sk-top-container\"><div class=\"sk-text-repr-fallback\"><pre>FeatureUnion(transformer_list=[(&#x27;num_pipeline&#x27;,\n",
       "                                Pipeline(steps=[(&#x27;selector&#x27;,\n",
       "                                                 ColumnTransformer(transformers=[(&#x27;select_first_4&#x27;,\n",
       "                                                                                  &#x27;passthrough&#x27;,\n",
       "                                                                                  slice(0, 4, None))])),\n",
       "                                                (&#x27;imputer&#x27;,\n",
       "                                                 SimpleImputer(strategy=&#x27;median&#x27;)),\n",
       "                                                (&#x27;std_scaler&#x27;,\n",
       "                                                 StandardScaler())])),\n",
       "                               (&#x27;cat_pipeline&#x27;,\n",
       "                                ColumnTransformer(transformers=[(&#x27;label_binarizer&#x27;,\n",
       "                                                                 LabelBinarizer(),\n",
       "                                                                 [4])]))])</pre><b>Please rerun this cell to show the HTML repr or trust the notebook.</b></div><div class=\"sk-container\" hidden><div class=\"sk-item sk-dashed-wrapped\"><div class=\"sk-label-container\"><div class=\"sk-label sk-toggleable\"><input class=\"sk-toggleable__control sk-hidden--visually\" id=\"e8024bf0-df24-429f-a2bd-916cea07efc7\" type=\"checkbox\" ><label for=\"e8024bf0-df24-429f-a2bd-916cea07efc7\" class=\"sk-toggleable__label sk-toggleable__label-arrow\">FeatureUnion</label><div class=\"sk-toggleable__content\"><pre>FeatureUnion(transformer_list=[(&#x27;num_pipeline&#x27;,\n",
       "                                Pipeline(steps=[(&#x27;selector&#x27;,\n",
       "                                                 ColumnTransformer(transformers=[(&#x27;select_first_4&#x27;,\n",
       "                                                                                  &#x27;passthrough&#x27;,\n",
       "                                                                                  slice(0, 4, None))])),\n",
       "                                                (&#x27;imputer&#x27;,\n",
       "                                                 SimpleImputer(strategy=&#x27;median&#x27;)),\n",
       "                                                (&#x27;std_scaler&#x27;,\n",
       "                                                 StandardScaler())])),\n",
       "                               (&#x27;cat_pipeline&#x27;,\n",
       "                                ColumnTransformer(transformers=[(&#x27;label_binarizer&#x27;,\n",
       "                                                                 LabelBinarizer(),\n",
       "                                                                 [4])]))])</pre></div></div></div><div class=\"sk-parallel\"><div class=\"sk-parallel-item\"><div class=\"sk-item\"><div class=\"sk-label-container\"><div class=\"sk-label sk-toggleable\"><label>num_pipeline</label></div></div><div class=\"sk-serial\"><div class=\"sk-item\"><div class=\"sk-serial\"><div class=\"sk-item sk-dashed-wrapped\"><div class=\"sk-label-container\"><div class=\"sk-label sk-toggleable\"><input class=\"sk-toggleable__control sk-hidden--visually\" id=\"319d46a5-bb93-43d0-8ce6-29f9008ce30e\" type=\"checkbox\" ><label for=\"319d46a5-bb93-43d0-8ce6-29f9008ce30e\" class=\"sk-toggleable__label sk-toggleable__label-arrow\">selector: ColumnTransformer</label><div class=\"sk-toggleable__content\"><pre>ColumnTransformer(transformers=[(&#x27;select_first_4&#x27;, &#x27;passthrough&#x27;,\n",
       "                                 slice(0, 4, None))])</pre></div></div></div><div class=\"sk-parallel\"><div class=\"sk-parallel-item\"><div class=\"sk-item\"><div class=\"sk-label-container\"><div class=\"sk-label sk-toggleable\"><input class=\"sk-toggleable__control sk-hidden--visually\" id=\"80cb6981-9e62-4de9-92ff-3db7dc3a3d64\" type=\"checkbox\" ><label for=\"80cb6981-9e62-4de9-92ff-3db7dc3a3d64\" class=\"sk-toggleable__label sk-toggleable__label-arrow\">select_first_4</label><div class=\"sk-toggleable__content\"><pre>slice(0, 4, None)</pre></div></div></div><div class=\"sk-serial\"><div class=\"sk-item\"><div class=\"sk-estimator sk-toggleable\"><input class=\"sk-toggleable__control sk-hidden--visually\" id=\"76ebfd3e-45ad-46cd-84ed-b66bcf8d6f05\" type=\"checkbox\" ><label for=\"76ebfd3e-45ad-46cd-84ed-b66bcf8d6f05\" class=\"sk-toggleable__label sk-toggleable__label-arrow\">passthrough</label><div class=\"sk-toggleable__content\"><pre>passthrough</pre></div></div></div></div></div></div></div></div><div class=\"sk-item\"><div class=\"sk-estimator sk-toggleable\"><input class=\"sk-toggleable__control sk-hidden--visually\" id=\"079bdfed-a47d-4b2f-92c2-1a8e1507dab7\" type=\"checkbox\" ><label for=\"079bdfed-a47d-4b2f-92c2-1a8e1507dab7\" class=\"sk-toggleable__label sk-toggleable__label-arrow\">SimpleImputer</label><div class=\"sk-toggleable__content\"><pre>SimpleImputer(strategy=&#x27;median&#x27;)</pre></div></div></div><div class=\"sk-item\"><div class=\"sk-estimator sk-toggleable\"><input class=\"sk-toggleable__control sk-hidden--visually\" id=\"e7039e84-3c5c-4385-92da-cf4fa1024cb3\" type=\"checkbox\" ><label for=\"e7039e84-3c5c-4385-92da-cf4fa1024cb3\" class=\"sk-toggleable__label sk-toggleable__label-arrow\">StandardScaler</label><div class=\"sk-toggleable__content\"><pre>StandardScaler()</pre></div></div></div></div></div></div></div></div><div class=\"sk-parallel-item\"><div class=\"sk-item\"><div class=\"sk-label-container\"><div class=\"sk-label sk-toggleable\"><label>cat_pipeline</label></div></div><div class=\"sk-serial\"><div class=\"sk-item sk-dashed-wrapped\"><div class=\"sk-parallel\"><div class=\"sk-parallel-item\"><div class=\"sk-item\"><div class=\"sk-label-container\"><div class=\"sk-label sk-toggleable\"><input class=\"sk-toggleable__control sk-hidden--visually\" id=\"803cac66-9868-471d-95d4-83b16a168443\" type=\"checkbox\" ><label for=\"803cac66-9868-471d-95d4-83b16a168443\" class=\"sk-toggleable__label sk-toggleable__label-arrow\">label_binarizer</label><div class=\"sk-toggleable__content\"><pre>[4]</pre></div></div></div><div class=\"sk-serial\"><div class=\"sk-item\"><div class=\"sk-estimator sk-toggleable\"><input class=\"sk-toggleable__control sk-hidden--visually\" id=\"95eb5788-c709-4d17-bac2-63730b641d56\" type=\"checkbox\" ><label for=\"95eb5788-c709-4d17-bac2-63730b641d56\" class=\"sk-toggleable__label sk-toggleable__label-arrow\">LabelBinarizer</label><div class=\"sk-toggleable__content\"><pre>LabelBinarizer()</pre></div></div></div></div></div></div></div></div></div></div></div></div></div></div></div>"
      ],
      "text/plain": [
       "FeatureUnion(transformer_list=[('num_pipeline',\n",
       "                                Pipeline(steps=[('selector',\n",
       "                                                 ColumnTransformer(transformers=[('select_first_4',\n",
       "                                                                                  'passthrough',\n",
       "                                                                                  slice(0, 4, None))])),\n",
       "                                                ('imputer',\n",
       "                                                 SimpleImputer(strategy='median')),\n",
       "                                                ('std_scaler',\n",
       "                                                 StandardScaler())])),\n",
       "                               ('cat_pipeline',\n",
       "                                ColumnTransformer(transformers=[('label_binarizer',\n",
       "                                                                 LabelBinarizer(),\n",
       "                                                                 [4])]))])"
      ]
     },
     "execution_count": 76,
     "metadata": {},
     "output_type": "execute_result"
    }
   ],
   "source": [
    "from sklearn.pipeline import FeatureUnion\n",
    "\n",
    "num_pipeline = Pipeline([\n",
    "    ('selector', ColumnTransformer([('select_first_4', 'passthrough', slice(0, 4))])), \n",
    "    ('imputer', SimpleImputer(strategy='median')), \n",
    "    ('std_scaler', StandardScaler())\n",
    "])\n",
    "\n",
    "cat_pipeline = ColumnTransformer([\n",
    "        ('label_binarizer', LabelBinarizer(), [4])\n",
    "    ])\n",
    "\n",
    "full_pipeline = FeatureUnion(transformer_list = [\n",
    "    ('num_pipeline', num_pipeline), \n",
    "    ('cat_pipeline', cat_pipeline)\n",
    "])\n",
    "\n",
    "from sklearn import set_config\n",
    "set_config(display='diagram')\n",
    "full_pipeline"
   ]
  },
  {
   "cell_type": "code",
   "execution_count": 84,
   "metadata": {},
   "outputs": [],
   "source": []
  }
 ],
 "metadata": {
  "kernelspec": {
   "display_name": "Python 3.7.9 64-bit (microsoft store)",
   "language": "python",
   "name": "python3"
  },
  "language_info": {
   "codemirror_mode": {
    "name": "ipython",
    "version": 3
   },
   "file_extension": ".py",
   "mimetype": "text/x-python",
   "name": "python",
   "nbconvert_exporter": "python",
   "pygments_lexer": "ipython3",
   "version": "3.10.7"
  },
  "orig_nbformat": 4,
  "vscode": {
   "interpreter": {
    "hash": "49deadb19ec3199b19c2e07bd674ab90037832d683175982dd3cb88bf7cb6cf2"
   }
  }
 },
 "nbformat": 4,
 "nbformat_minor": 2
}
