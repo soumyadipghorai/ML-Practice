{
 "cells": [
  {
   "cell_type": "markdown",
   "metadata": {},
   "source": [
    "### Generic API \n",
    "* SGD classifier \n",
    "\n",
    "### Specific API \n",
    "* Logistic Regression \n",
    "* Ridge Classifier\n",
    "* Perceptron \n",
    "* KNN\n",
    "* SVM\n",
    "* Naive Bayes \n",
    "\n",
    "### Modeling \n",
    "* Model training --> `fit`\n",
    "* Prediction --> \n",
    "    * `predict(X)` --> class label \n",
    "    * `decision_function(X)` --> confidence score for samples\n",
    "* Evaluation --> `score` --> accuracy\n",
    "\n",
    "#### Miscellaneous methods \n",
    "* **get_params** --> gets parameter for this estimator \n",
    "* **set_params** --> sets parameter for this estimator \n",
    "* **densify** --> converts coefficient matrix to dense array format  \n",
    "* **sparsify** --> converts coefficient matrix to sparse format \n"
   ]
  },
  {
   "cell_type": "markdown",
   "metadata": {},
   "source": [
    "------------\n",
    "#### Ridge Classifier \n",
    "##### Binary Classification \n",
    "converts binary targets to {-1, 1} and then treats the problem as regression task.\n",
    "* sklearn provides different solvers for this optimization \n",
    "* alpha is the reg rate\n",
    "     \n",
    "##### Multiclass Classification \n",
    "treated as multioutput regression \n",
    "* predicted class corresponds to the output with the highest value\n",
    "\n",
    "> default alpha value = 0.1"
   ]
  },
  {
   "cell_type": "code",
   "execution_count": null,
   "metadata": {},
   "outputs": [],
   "source": [
    "from sklearn.linear_model import RidgeClassifier \n",
    "ridge_classifier = RidgeClassifier(alpha = 0.01)\n",
    "\n",
    "ridge_classifier.fit(X_train, y_train)"
   ]
  },
  {
   "cell_type": "markdown",
   "metadata": {},
   "source": [
    "#### Optimization \n",
    "* solver \n",
    "    * **SVD** --> uses SVD of the feature matrix to compute the ridge coefficient \n",
    "    * **cholesky** --> uses `scipy.linalg.solve` function to obtain the closed form solution \n",
    "    * **sparse_cg** --> uses conjugate gradient solver of `scipy.sparse.linalg.cg`\n",
    "    * **lsqr** --> uses dedicated regularized least-sq routine `scipy.sparse.linalg.lsqr` and *its the fastest*.\n",
    "    * **sag, saga** --> sag uses stochastic avg gradient descent iterative procedure saga is unbiased and more flexible version of sag \n",
    "    * **lbfgs** --> uses L-GFGS-B algo implemention in scipy.optimize.minimize . can be used *only when coefficients are forced to be positive.*\n",
    "\n",
    "```py\n",
    "from scipy.linalg import solve\n",
    "from scipy.sparse.linalg import cg\n",
    "from scipy.sparse.linalg import lsqr\n",
    "from scipy.optimize import minimize\n",
    "```\n",
    "\n",
    "> * for large scale data use `sparse_cg` solver.\n",
    "> * when both num of features and num of samples are large use `sag` or `saga` solver. <br>\n",
    "    > NOTE that fast convergence is only guranteed on features with approx the same scale \n",
    "\n",
    "> `solver = auto` chooses the solver automatically based on the type of data so the default choice is always auto "
   ]
  },
  {
   "cell_type": "code",
   "execution_count": null,
   "metadata": {},
   "outputs": [],
   "source": [
    "if solver == 'auto' : \n",
    "    if return_intercept : \n",
    "        solver = 'sag'\n",
    "    elif not sparse.issparse(X) :\n",
    "        solver = 'cholesky'\n",
    "    else : \n",
    "        solver = 'sparse_cg'"
   ]
  },
  {
   "cell_type": "markdown",
   "metadata": {},
   "source": [
    "\n",
    "\n",
    "> ##### Is intercept estimation necessary for RidgeClassifier? \n",
    "> if the data is already centered, set `fit_intercept` as false, so that no intercept will be used in calculation. by default its true \n",
    "\n",
    "\n"
   ]
  },
  {
   "cell_type": "code",
   "execution_count": null,
   "metadata": {},
   "outputs": [],
   "source": [
    "ridge_classifier = RidgeClassifier(alpha = 0.01, fit_intercept = False)\n",
    "ridge_classifier.fit(X_train, y_train)\n",
    "\n",
    "y_pred = ridge_classifier.predict(X_test)"
   ]
  },
  {
   "cell_type": "markdown",
   "metadata": {},
   "source": [
    "ridgeClassifierCV implements RidgeClassifier with cross validation "
   ]
  },
  {
   "cell_type": "markdown",
   "metadata": {},
   "source": [
    "------------\n",
    "#### Perceptron Classifier \n",
    "\n",
    "* its the simplest classification algo suitable for large scale learning \n",
    "* it shares the same underlying implementation with `SGDClassifier` \n",
    "\n",
    "```py\n",
    "Perceptron() == SGDClassifier(\n",
    "    loss = 'perceptron', eta0 = 1, \n",
    "    learning_rate = 'constant', penalty = None\n",
    ")\n",
    "```\n",
    "\n",
    "Hyperparameter \n",
    "* penalty = l2/l1 (default l2)\n",
    "* l1_ratio = 0.1 (default 0.15)\n",
    "* alpha = 0.01 (default 0.0001)\n",
    "* early_stopping = True/False (default False)\n",
    "* fit_intercept = True/False (default True)\n",
    "* max_iter = 500 (default 1000)\n",
    "* n_iter_no_change = 5 (default 5)\n",
    "* tol = 0.001 (default 1e-3)\n",
    "* eta0 = 3 (default 1)\n",
    "* validation_fraction = 0.001 (default 0.1)\n",
    "\n",
    "--> can be trained iterative manner with `partial_fit`  <br>\n",
    "--> can be initialized to the weights of the prev run by specifying `warm_start = True`\n",
    "\n"
   ]
  },
  {
   "cell_type": "code",
   "execution_count": 1,
   "metadata": {},
   "outputs": [],
   "source": [
    "from sklearn.linear_model import Perceptron\n",
    "perceptron_classifier = Perceptron()\n",
    "\n",
    "perceptron_classifier.fit(X_train, y_train)"
   ]
  },
  {
   "cell_type": "markdown",
   "metadata": {},
   "source": [
    "\n",
    "------------\n",
    "#### LogisticRegression / logit regression, max entropy classifer / log-linear clf\n",
    "\n",
    "optimizes : argmin (w, C) reg penalty + C cross entropy loss \n",
    "\n",
    "C is inverse of lambda (regularization rate)\n",
    "\n",
    "* solvers \n",
    "    * `newton-cg` --> [l2, None]\n",
    "    * `lbfgs` --> default --> [l2, None]\n",
    "    * `liblinear` --> [l1, l2]\n",
    "    * `sag` --> [l2, None]\n",
    "    * `saga` --> [elasticnet, l1, l2, None]\n",
    "\n",
    "> * For small datasets `liblinear` is a good choice. `sag` and `saga` are faster for large ones\n",
    "> * for unscaled datasets `liblinear` `lbfgs` and `newton-cg` are robust. sag and saga uses SGD for optimization so they are not suitable for unscaled data  \n",
    "> * multiclass only `newton-cg`, `sag`, `saga` and `lbfgs` handle multinomial loss. \n",
    "> * `liblinear` is limited to one-versus-rest schemes. \n",
    "\n",
    "\n",
    "* Regularization \n",
    "    * l1 \n",
    "    * l2 --> default \n",
    "    * elasticent\n",
    "    * None\n",
    "\n",
    "> not all solvers support l1 penalty\n",
    "\n",
    "##### How to control amount of reg in logistic regression? \n",
    "\n",
    "C is specified in the constructor and must be positve. \n",
    "* smaller value leads to stronger reg \n",
    "* larger value leads to weaker reg \n",
    "\n",
    "`class_weight` \n",
    "* helps to handle class imbalance with differential class weights \n",
    "* mistakes in a class are penalized by the class weight. \n",
    "    * high value here would mean higher emphasis on the class\n",
    "\n",
    "LogisticRegressionCV helps to find best values of C and l1_ratio according to the specified scoring attribute "
   ]
  },
  {
   "cell_type": "code",
   "execution_count": 2,
   "metadata": {},
   "outputs": [],
   "source": [
    "# basic fit with default solver and penalty\n",
    "from sklearn.linear_model import LogisticRegression \n",
    "logistic_classifier = LogisticRegression(solver = 'lbfgs', penalty= 'l2')\n",
    "\n",
    "logistic_classifier.fit(X_train, y_train)"
   ]
  },
  {
   "cell_type": "code",
   "execution_count": null,
   "metadata": {},
   "outputs": [],
   "source": []
  },
  {
   "cell_type": "markdown",
   "metadata": {},
   "source": [
    "------------\n",
    "#### SGD Classifier \n",
    "\n",
    "Efficient approach to fitting linear classifier under convex loss function. \n",
    "\n",
    "* Easily scales up to large scale problems with more than 10^5 training examples and 10^5 features. It also works with sparse ML problems. \n",
    "    * text classification and NLP.\n",
    "* It supports multiclass classificaiton by combining multiple binary clfs in a one vs all scheme.\n",
    "\n",
    "* loss \n",
    "    * hinge --> linear SVM  (default)\n",
    "    * log --> logistic regression \n",
    "    * modified_huber --> smoothed hinge loss brings tol to outliers as well as prob estimates \n",
    "    * squared_hinge --> like hinge but is quadratically penalized \n",
    "    * perceptron --> linear loss used by the perceptron algo \n",
    "    * squared_error, huber, epsilon_insensitive, squared_epsilon_insensitive --> regression loss\n",
    "\n",
    "```py\n",
    "SGDClassifier(loss = 'log') == LogisticReg(solver = 'sgd')\n",
    "SGDClassifier(loss = 'hinge') == linearSVC()\n",
    "```\n",
    "\n",
    "it uses plain SGD. \n",
    "\n",
    "Pros : \n",
    "* efficient \n",
    "* Ease of implement \n",
    "\n",
    "Cons : \n",
    "* requires a num of hyperparameter \n",
    "* sensitive to feature scaling \n",
    "\n",
    "> * Its important to shuffle the training data before fitting the model.\n",
    "> * standardized features "
   ]
  },
  {
   "cell_type": "code",
   "execution_count": null,
   "metadata": {},
   "outputs": [],
   "source": [
    "from sklearn.linear_model import SGDClassifier\n",
    "sgd_classifier = SGDClassifier(\n",
    "    loss = 'log', penalty = 'l2', alpha = 0.0001, max_iter = 1000\n",
    ")\n",
    "\n",
    "sgd_classifier.fit(X_train, y_train)"
   ]
  },
  {
   "cell_type": "markdown",
   "metadata": {},
   "source": [
    "### Multi learning  \n",
    "\n",
    "Multiclass classification has exactly one output label and total number of labels > 2. <br>\n",
    "For more than one output there are two types of classification models : \n",
    "* multilabel --> more than one label & #labels = 2\n",
    "* multiclass multioutput --> more than one label & #labels > 2\n",
    "\n",
    "\n",
    "#### Multiclass \n",
    "* OneVsRestClassifier\n",
    "* OneVsOneClassifier\n",
    "* OutputCodeClassifier\n",
    "\n",
    "#### Multilabel\n",
    "* MultiOutputClassifier\n",
    "* ClassifierChain\n",
    "\n",
    "```py \n",
    "from sklearn import multiclass\n",
    "from sklear n import multioutput\n",
    "```\n",
    "\n",
    "Some estimator are inherently multiclass, other implements OVO(1v1) or OVR(1vR). also there are multilabel.\n"
   ]
  },
  {
   "cell_type": "code",
   "execution_count": null,
   "metadata": {},
   "outputs": [],
   "source": [
    "# inherently multiclass \n",
    "from sklearn.linear_model import LogisticRegression, LogisticRegressionCV\n",
    "lr = LogisticRegression(multi_class= 'multinomial')\n",
    "lr_cv = LogisticRegressionCV(multi_class= 'multinomial')\n",
    "# same for ridgeClassifier "
   ]
  },
  {
   "cell_type": "code",
   "execution_count": null,
   "metadata": {},
   "outputs": [],
   "source": [
    "# multiclass as ovr \n",
    "from sklearn.linear_model import LogisticRegression, LogisticRegressionCV\n",
    "lr = LogisticRegression(multi_class= 'ovr')\n",
    "lr_cv = LogisticRegressionCV(multi_class= 'ovr')\n",
    "# same for sgdClassifier and perceptron "
   ]
  },
  {
   "cell_type": "code",
   "execution_count": null,
   "metadata": {},
   "outputs": [],
   "source": [
    "# ridgeClassifier is inherently multilabel "
   ]
  },
  {
   "cell_type": "markdown",
   "metadata": {},
   "source": [
    "for multiclass classification 1st we encode the dependent feature using `LabelBinarizer` (n, k) format "
   ]
  },
  {
   "cell_type": "code",
   "execution_count": 4,
   "metadata": {},
   "outputs": [
    {
     "name": "stdout",
     "output_type": "stream",
     "text": [
      "[[1 0 0]\n",
      " [0 0 1]\n",
      " [1 0 0]\n",
      " [0 1 0]]\n"
     ]
    }
   ],
   "source": [
    "from sklearn.preprocessing import LabelBinarizer\n",
    "import numpy as np\n",
    "\n",
    "y = np.array(['apple', 'pear', 'apple', 'orange'])\n",
    "\n",
    "lbz = LabelBinarizer()\n",
    "y_dense = lbz.fit_transform(y)\n",
    "print(y_dense)"
   ]
  },
  {
   "cell_type": "markdown",
   "metadata": {},
   "source": [
    "`sklearn.utils.multiclass import type_of_target` gives the type of classification"
   ]
  },
  {
   "cell_type": "code",
   "execution_count": 7,
   "metadata": {},
   "outputs": [
    {
     "data": {
      "text/plain": [
       "'multiclass'"
      ]
     },
     "execution_count": 7,
     "metadata": {},
     "output_type": "execute_result"
    }
   ],
   "source": [
    "from sklearn.utils.multiclass import type_of_target \n",
    "type_of_target(y)"
   ]
  },
  {
   "cell_type": "markdown",
   "metadata": {},
   "source": [
    "regression"
   ]
  },
  {
   "cell_type": "code",
   "execution_count": 17,
   "metadata": {},
   "outputs": [
    {
     "name": "stdout",
     "output_type": "stream",
     "text": [
      "continuous\n"
     ]
    }
   ],
   "source": [
    "print(type_of_target([1.0, 0.0, 23.0, 1, 2, 4, 1.1, 2.1]))"
   ]
  },
  {
   "cell_type": "code",
   "execution_count": 18,
   "metadata": {},
   "outputs": [
    {
     "name": "stdout",
     "output_type": "stream",
     "text": [
      "continuous-multioutput\n"
     ]
    }
   ],
   "source": [
    "print(type_of_target([[1.0, 2.1], [0.0, 3.2], [23.0, 21.2], [1, 3.4]]))"
   ]
  },
  {
   "cell_type": "markdown",
   "metadata": {},
   "source": [
    "classification"
   ]
  },
  {
   "cell_type": "code",
   "execution_count": 19,
   "metadata": {},
   "outputs": [
    {
     "name": "stdout",
     "output_type": "stream",
     "text": [
      "binary\n"
     ]
    }
   ],
   "source": [
    "print(type_of_target([1, 0, 1, 1, 0]))"
   ]
  },
  {
   "cell_type": "code",
   "execution_count": 8,
   "metadata": {},
   "outputs": [
    {
     "name": "stdout",
     "output_type": "stream",
     "text": [
      "multiclass\n",
      "multiclass\n",
      "multiclass\n"
     ]
    }
   ],
   "source": [
    "print(type_of_target([1, 0, 2]))\n",
    "print(type_of_target([1.0, 0.0, 23.0]))\n",
    "print(type_of_target(['c', 'a', 'b']))"
   ]
  },
  {
   "cell_type": "code",
   "execution_count": 15,
   "metadata": {},
   "outputs": [
    {
     "name": "stdout",
     "output_type": "stream",
     "text": [
      "multiclass-multioutput\n",
      "multiclass-multioutput\n"
     ]
    }
   ],
   "source": [
    "print(type_of_target([[1, 2], [3, 1]]))\n",
    "print(type_of_target([[1, 2], [3, 1], [0, 4]]))"
   ]
  },
  {
   "cell_type": "code",
   "execution_count": 12,
   "metadata": {},
   "outputs": [
    {
     "name": "stdout",
     "output_type": "stream",
     "text": [
      "multilabel-indicator\n",
      "multilabel-indicator\n",
      "multilabel-indicator\n"
     ]
    }
   ],
   "source": [
    "# exactly 2 classes \n",
    "print(type_of_target([[0, 1], [1, 0], [1, 1]]))\n",
    "print(type_of_target([[0, 2], [2, 0], [2, 2]]))\n",
    "print(type_of_target([[0, 2]]))"
   ]
  },
  {
   "attachments": {},
   "cell_type": "markdown",
   "metadata": {},
   "source": [
    "\n",
    "\n",
    "* multiclass --> more than 2 discrete values | 1d or col vector --> [1, 2, 3]\n",
    "* multiclass-multioutput --> 2d array that contains more than 2 discrete values --> [[1, 2], [2, 3]]\n",
    "* multilabel-indicator --> an array of 2 dim with at least 2 cols, and at most 2 unique values. --> [[0, 1], [1, 1]]\n",
    "* unknown --> array-like but none of the above, s.t. 3d array \n",
    "\n",
    "there are 2 more types \n",
    "* continuous --> regression target \n",
    "* continuous-multioutput --> multi-output target \n",
    "* binary --> classification \n",
    "\n",
    "#### OVR vs OVO \n",
    "\n",
    "**OVR** \n",
    "* fits one classifier per class --> *c* vs *not c*\n",
    "* this is efficient and requires only k classifiers for k classes \n",
    "* easily interpretable \n",
    "* supports methods like - fit, predict, predict_proba, partial_fit \n",
    "* for multilabel classification we need to supply labels as indicator matrix of shape (n, k)\n",
    "\n"
   ]
  },
  {
   "cell_type": "code",
   "execution_count": null,
   "metadata": {},
   "outputs": [],
   "source": [
    "from sklearn.multiclass import OneVsRestClassifier\n",
    "OneVsRestClassifier(LinearSVC(random_state = 42)).fit(X_train, y_train)"
   ]
  },
  {
   "cell_type": "markdown",
   "metadata": {},
   "source": [
    "**OVO**\n",
    "* fits one classifier per pair of classes. Total classifier = kC2 \n",
    "* predicts class that recieves max votes \n",
    "    * the tie among the classes is broken by selecting the class with the highest aggregate classificaiton confidence \n",
    "* supports methods like - fit, predict, predict_proba, partial_fit \n",
    "* processes subset of data at a time and is useful in cases where the classifier does not scale with the data "
   ]
  },
  {
   "cell_type": "code",
   "execution_count": null,
   "metadata": {},
   "outputs": [],
   "source": [
    "from sklearn.multiclass import OneVsOneClassifier\n",
    "OneVsOneClassifier(LinearSVC(random_state = 42)).fit(X_train, y_train)"
   ]
  },
  {
   "attachments": {},
   "cell_type": "markdown",
   "metadata": {},
   "source": [
    "### Evaluating classifier \n",
    "\n",
    "#### stratified cross validation iterators \n",
    "there may be issues like class imbalance in classification, which tend to impact the cross validation folds.\n",
    "\n",
    "* stratifiedKFold\n",
    "* RepeatedStratifiedKFold\n",
    "* stratifiedShuffleSplit\n",
    "\n",
    "stratifiedKFold and RepeatedStratifiedKFold are almost similar. stratifiedShuffleSplit is similar to ShuffleSplit without stratification.\n",
    "\n",
    "#### LogisticRegressionCV \n",
    "* refit = True ==> scores averaged across folds, values corresponding to the best score are selected and final refit with these parameters. \n",
    "* refit = False ==> the coefs, intercepts and C that correspond to the best scores across folds are averaged. \n",
    "\n",
    "##### Metrics : \n",
    "* balanced_accuracy_score ==> for imbalanced dataset "
   ]
  },
  {
   "cell_type": "code",
   "execution_count": 22,
   "metadata": {},
   "outputs": [
    {
     "data": {
      "text/plain": [
       "array([[2, 2, 0],\n",
       "       [1, 2, 0],\n",
       "       [0, 1, 2]], dtype=int64)"
      ]
     },
     "execution_count": 22,
     "metadata": {},
     "output_type": "execute_result"
    }
   ],
   "source": [
    "y_true = [0, 1, 2, 1, 1, 2, 0, 0, 0, 2]\n",
    "y_pred = [1, 1, 2, 0, 1, 1, 0, 0, 1, 2]\n",
    "\n",
    "from sklearn.metrics import confusion_matrix\n",
    "cm = confusion_matrix(y_true, y_pred)\n",
    "cm"
   ]
  },
  {
   "cell_type": "code",
   "execution_count": 33,
   "metadata": {},
   "outputs": [
    {
     "data": {
      "image/png": "[encoded data removed]",
      "text/plain": [
       "<Figure size 432x288 with 2 Axes>"
      ]
     },
     "metadata": {
      "needs_background": "light"
     },
     "output_type": "display_data"
    }
   ],
   "source": [
    "from sklearn.metrics import ConfusionMatrixDisplay\n",
    "fig = ConfusionMatrixDisplay(\n",
    "    confusion_matrix = cm, display_labels = np.array(list(set(y_true))) # clf.classes_\n",
    ");\n",
    "\n",
    "# fig = ConfusionMatrixDisplay.from_estimator(clf, X_test, y_test)\n",
    "# fig = ConfusionMatrixDisplay.from_predictions(y_test, y_pred)\n",
    "fig.plot();"
   ]
  },
  {
   "cell_type": "code",
   "execution_count": 34,
   "metadata": {},
   "outputs": [
    {
     "name": "stdout",
     "output_type": "stream",
     "text": [
      "              precision    recall  f1-score   support\n",
      "\n",
      "           0       0.67      0.50      0.57         4\n",
      "           1       0.40      0.67      0.50         3\n",
      "           2       1.00      0.67      0.80         3\n",
      "\n",
      "    accuracy                           0.60        10\n",
      "   macro avg       0.69      0.61      0.62        10\n",
      "weighted avg       0.69      0.60      0.62        10\n",
      "\n"
     ]
    }
   ],
   "source": [
    "from sklearn.metrics import classification_report\n",
    "print(classification_report(y_true, y_pred))"
   ]
  },
  {
   "cell_type": "code",
   "execution_count": 57,
   "metadata": {},
   "outputs": [
    {
     "name": "stdout",
     "output_type": "stream",
     "text": [
      "[0.55       0.71428571 1.        ] [1.         0.90909091 0.        ] [0 1]\n"
     ]
    },
    {
     "data": {
      "image/png": "[encoded data removed]",
      "text/plain": [
       "<Figure size 432x288 with 1 Axes>"
      ]
     },
     "metadata": {
      "needs_background": "light"
     },
     "output_type": "display_data"
    }
   ],
   "source": [
    "from sklearn.metrics import precision_recall_curve, PrecisionRecallDisplay\n",
    "# multiclass format is not supported\n",
    "y_true = [0, 1, 1, 1, 1, 0, 0, 1, 0, 1, 1, 1, 0, 0, 1, 0, 0, 0, 1, 1]\n",
    "y_pred = [1, 1, 1, 1, 1, 1, 0, 1, 0, 1, 1, 1, 0, 1, 1, 0, 0, 1, 0, 1]\n",
    "precision, recall, threshold = precision_recall_curve(y_true, y_pred)\n",
    "\n",
    "print(precision, recall, threshold)\n",
    "pr_display = PrecisionRecallDisplay(precision=precision, recall=recall); \n",
    "pr_display.plot();"
   ]
  },
  {
   "cell_type": "code",
   "execution_count": 58,
   "metadata": {},
   "outputs": [
    {
     "name": "stdout",
     "output_type": "stream",
     "text": [
      "[0.         0.44444444 1.        ] [0.         0.90909091 1.        ] [2 1 0]\n"
     ]
    }
   ],
   "source": [
    "from sklearn.metrics import roc_curve, RocCurveDisplay\n",
    "fpr, tpr, threshold = roc_curve(y_true, y_pred)\n",
    "\n",
    "print(fpr, tpr, threshold)"
   ]
  },
  {
   "cell_type": "code",
   "execution_count": 61,
   "metadata": {},
   "outputs": [
    {
     "data": {
      "image/png": "[encoded data removed]",
      "text/plain": [
       "<Figure size 432x288 with 1 Axes>"
      ]
     },
     "metadata": {
      "needs_background": "light"
     },
     "output_type": "display_data"
    }
   ],
   "source": [
    "RocCurveDisplay(fpr = fpr, tpr = tpr, estimator_name='test estimator').plot();"
   ]
  },
  {
   "cell_type": "markdown",
   "metadata": {},
   "source": [
    "##### How to extend into multiclass or multilabel problems? \n",
    "Can be done using average parameters. \n",
    "\n",
    "* **macro** --> calculate the mean of binary metrics \n",
    "* **weighted** --> computes the avg of binary metrics in which each class's score is weighted by its presence in the true data sample \n",
    "* **micro** --> gives each sample-class pair an equal contribution to the overall metric. \n",
    "* **samples** --> calculates the metric over the true and predicted classes or each sample in the evaluation data, and returns their avg. \n",
    "* **None** --> an array with the score for each class. "
   ]
  },
  {
   "cell_type": "code",
   "execution_count": null,
   "metadata": {},
   "outputs": [],
   "source": []
  }
 ],
 "metadata": {
  "kernelspec": {
   "display_name": "Python 3.10.7 64-bit",
   "language": "python",
   "name": "python3"
  },
  "language_info": {
   "codemirror_mode": {
    "name": "ipython",
    "version": 3
   },
   "file_extension": ".py",
   "mimetype": "text/x-python",
   "name": "python",
   "nbconvert_exporter": "python",
   "pygments_lexer": "ipython3",
   "version": "3.10.7"
  },
  "orig_nbformat": 4,
  "vscode": {
   "interpreter": {
    "hash": "e4ba08aa27a50dfc4411e691f4a22a11e700bce603ba8e16cecc3bc830c9da89"
   }
  }
 },
 "nbformat": 4,
 "nbformat_minor": 2
}
