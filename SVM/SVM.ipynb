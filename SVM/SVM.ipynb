{
 "cells": [
  {
   "cell_type": "markdown",
   "metadata": {},
   "source": [
    "## SVM \n",
    "Can be used for classification, regression and outlier detection. Constructs a hyper-plane or set of hyper-planes in a high or ifinite dimensional space, which can be used for classificaiton, regression or oher tasks.\n",
    "\n",
    "based on libsvm\n",
    "* SVC \n",
    "* NuSVC\n",
    "\n",
    "based on liblinear \n",
    "* LinearSVC\n",
    "\n",
    "##### SVC\n",
    "* C -> regularization parameter (default C = 1.0)\n",
    "* kernel -> linear, poly, rbf, sigmoid, precomputed (default kernel = rbf)\n",
    "    * if kernel = poly, set degree \n",
    "    * kernel = callable is given its used to pre-compute the kernel matrix from data matrices \n",
    "* descision_function_shape = ovo, ovr"
   ]
  },
  {
   "cell_type": "code",
   "execution_count": 7,
   "metadata": {},
   "outputs": [
    {
     "data": {
      "text/plain": [
       "SVC(coef0=2, degree=2, kernel='poly')"
      ]
     },
     "execution_count": 7,
     "metadata": {},
     "output_type": "execute_result"
    }
   ],
   "source": [
    "from sklearn.svm import SVC\n",
    "\n",
    "X_train = [[0, 0], [1, 1]]\n",
    "y_train = [0, 1]\n",
    "\n",
    "svc_classifier = SVC(\n",
    "    C = 1.0, kernel = 'poly', degree = 2, coef0 = 2, gamma = 'scale'\n",
    ")\n",
    "svc_classifier.fit(X_train, y_train)"
   ]
  },
  {
   "cell_type": "code",
   "execution_count": 8,
   "metadata": {},
   "outputs": [
    {
     "data": {
      "text/plain": [
       "array([0, 1])"
      ]
     },
     "execution_count": 8,
     "metadata": {},
     "output_type": "execute_result"
    }
   ],
   "source": [
    "# to view indices of the support vector \n",
    "svc_classifier.support_"
   ]
  },
  {
   "cell_type": "code",
   "execution_count": 9,
   "metadata": {},
   "outputs": [
    {
     "data": {
      "text/plain": [
       "array([[0., 0.],\n",
       "       [1., 1.]])"
      ]
     },
     "execution_count": 9,
     "metadata": {},
     "output_type": "execute_result"
    }
   ],
   "source": [
    "# to view the support vectors \n",
    "svc_classifier.support_vectors_"
   ]
  },
  {
   "cell_type": "code",
   "execution_count": 10,
   "metadata": {},
   "outputs": [
    {
     "data": {
      "text/plain": [
       "array([1, 1])"
      ]
     },
     "execution_count": 10,
     "metadata": {},
     "output_type": "execute_result"
    }
   ],
   "source": [
    "# to view the number of support vectors for each class \n",
    "svc_classifier.n_support_"
   ]
  },
  {
   "cell_type": "markdown",
   "metadata": {},
   "source": [
    "##### NuSVC / v-support vector classifier \n",
    "\n",
    "* nu = (0, 1] ; default nu = 0.5\n",
    "* nu is used to control the number of support vectors and margin errors. nu is an upperbound on the fraction of margin errors and a lower bound of the fraction of support vectors \n",
    "* descision_function_shape = ovo, ovr"
   ]
  },
  {
   "cell_type": "code",
   "execution_count": 15,
   "metadata": {},
   "outputs": [
    {
     "data": {
      "text/plain": [
       "NuSVC()"
      ]
     },
     "execution_count": 15,
     "metadata": {},
     "output_type": "execute_result"
    }
   ],
   "source": [
    "from sklearn.svm import NuSVC\n",
    "NuSVC_clf = NuSVC(nu = 0.5)\n",
    "NuSVC_clf.fit(X_train, y_train)"
   ]
  },
  {
   "cell_type": "markdown",
   "metadata": {},
   "source": [
    "##### Linear SVC \n",
    "* penalty = l1, l2 \n",
    "* loss = hinge, squared_hinge \n",
    "* C = regularization parameter \n",
    "* dual = selects algo to either solve the dual or primal optimization; where n_samples > n_features prefer dual = False \n",
    "* fit_intercept = calculate intercept of the model \n",
    "* multiclass = ovr, creammer_singer(slower so rarely used in practice)\n",
    "> can't user penalty = l1 + loss = hinge"
   ]
  },
  {
   "cell_type": "code",
   "execution_count": 20,
   "metadata": {},
   "outputs": [
    {
     "data": {
      "text/plain": [
       "LinearSVC()"
      ]
     },
     "execution_count": 20,
     "metadata": {},
     "output_type": "execute_result"
    }
   ],
   "source": [
    "from sklearn.svm import LinearSVC\n",
    "LinearSVC_clf = LinearSVC(penalty= 'l2', loss = 'squared_hinge')\n",
    "LinearSVC_clf.fit(X_train, y_train)"
   ]
  },
  {
   "cell_type": "markdown",
   "metadata": {},
   "source": [
    "multiclass classification "
   ]
  },
  {
   "cell_type": "code",
   "execution_count": null,
   "metadata": {},
   "outputs": [],
   "source": []
  }
 ],
 "metadata": {
  "kernelspec": {
   "display_name": "Python 3",
   "language": "python",
   "name": "python3"
  },
  "language_info": {
   "codemirror_mode": {
    "name": "ipython",
    "version": 3
   },
   "file_extension": ".py",
   "mimetype": "text/x-python",
   "name": "python",
   "nbconvert_exporter": "python",
   "pygments_lexer": "ipython3",
   "version": "3.10.7"
  }
 },
 "nbformat": 4,
 "nbformat_minor": 2
}
