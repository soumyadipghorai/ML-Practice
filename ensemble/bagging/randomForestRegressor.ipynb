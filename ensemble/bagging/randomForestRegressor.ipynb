{
  "nbformat": 4,
  "nbformat_minor": 0,
  "metadata": {
    "colab": {
      "provenance": []
    },
    "kernelspec": {
      "name": "python3",
      "display_name": "Python 3"
    },
    "language_info": {
      "name": "python"
    }
  },
  "cells": [
    {
      "cell_type": "code",
      "execution_count": 1,
      "metadata": {
        "id": "8m_iry0B96DA"
      },
      "outputs": [],
      "source": [
        "import numpy as np\n",
        "import pandas as pd\n",
        "\n",
        "from sklearn.datasets import fetch_california_housing\n",
        "from sklearn.ensemble import BaggingRegressor, RandomForestRegressor\n",
        "\n",
        "from sklearn.model_selection import cross_validate, train_test_split, RandomizedSearchCV, ShuffleSplit\n",
        "from sklearn.metrics import mean_absolute_error\n",
        "\n",
        "from sklearn.tree import DecisionTreeRegressor"
      ]
    },
    {
      "cell_type": "code",
      "source": [
        "np.random.seed(306)"
      ],
      "metadata": {
        "id": "hlXojY4Q9-Nt"
      },
      "execution_count": 2,
      "outputs": []
    },
    {
      "cell_type": "code",
      "source": [
        "cv = ShuffleSplit(n_splits=10, test_size=0.2, random_state=42)"
      ],
      "metadata": {
        "id": "s_mNpavy9_W5"
      },
      "execution_count": 3,
      "outputs": []
    },
    {
      "cell_type": "code",
      "source": [
        "features, labels = fetch_california_housing(as_frame=True, return_X_y = True)\n",
        "# to get values in $1000\n",
        "labels *= 100\n",
        "\n",
        "com_train_features, test_features, com_train_labels, test_labels = train_test_split(features, labels, random_state=42)\n",
        "\n",
        "train_features, dev_features, train_labels, dev_labels =  train_test_split(com_train_features, com_train_labels, random_state=42)"
      ],
      "metadata": {
        "id": "9DfEmOpj-BP7"
      },
      "execution_count": 4,
      "outputs": []
    },
    {
      "cell_type": "markdown",
      "source": [
        "helper functions"
      ],
      "metadata": {
        "id": "IdbwxtvK-AjB"
      }
    },
    {
      "cell_type": "code",
      "source": [
        "def train_regressor(estimator, X_train, y_train, cv, name):\n",
        "    cv_results = cross_validate(\n",
        "        estimator, X_train, y_train, cv=cv,\n",
        "        scoring=\"neg_mean_absolute_error\",\n",
        "        return_train_score=True, return_estimator=True\n",
        "    )\n",
        "\n",
        "    cv_train_error = -1*cv_results['train_score']\n",
        "    cv_test_error = -1*cv_results['test_score']\n",
        "\n",
        "    print(f\"On an average, {name} makes an error of \"\n",
        "            f\"{cv_train_error.mean():.3f}k +/- {cv_train_error.std():.3f}k on the training set.\")\n",
        "\n",
        "    print(f\"On an average, {name} makes an error of \"\n",
        "            f\"{cv_test_error.mean():.3f}k +/- {cv_test_error.std():.3f}k on the training set.\")"
      ],
      "metadata": {
        "id": "jzbHPkAI-De4"
      },
      "execution_count": 6,
      "outputs": []
    },
    {
      "cell_type": "markdown",
      "source": [
        "Decision tree regressor"
      ],
      "metadata": {
        "id": "hnhMsTVC-c4p"
      }
    },
    {
      "cell_type": "code",
      "source": [
        "# overfitting\n",
        "train_regressor(\n",
        "    DecisionTreeRegressor(), com_train_features,\n",
        "    com_train_labels, cv, 'decision tree regressor'\n",
        ")"
      ],
      "metadata": {
        "colab": {
          "base_uri": "https://localhost:8080/"
        },
        "id": "WrtMybx3-Ky_",
        "outputId": "23721973-6fcf-45d7-99c7-6a0b5b794b49"
      },
      "execution_count": 7,
      "outputs": [
        {
          "output_type": "stream",
          "name": "stdout",
          "text": [
            "On an average, decision tree regressor makes an error of 0.000k +/- 0.000k on the training set.\n",
            "On an average, decision tree regressor makes an error of 47.259k +/- 1.142k on the training set.\n"
          ]
        }
      ]
    },
    {
      "cell_type": "markdown",
      "source": [
        "Bagging regressor"
      ],
      "metadata": {
        "id": "S70hjBqA-eSV"
      }
    },
    {
      "cell_type": "code",
      "source": [
        "# bagging helps us to reduce variance / overfitting in the base classifier\n",
        "train_regressor(\n",
        "    BaggingRegressor(), com_train_features,\n",
        "    com_train_labels, cv, 'bagging regressor'\n",
        ")"
      ],
      "metadata": {
        "colab": {
          "base_uri": "https://localhost:8080/"
        },
        "id": "ErVpUh6d-aVz",
        "outputId": "d8cb0046-506e-4db5-b657-24209f2105cb"
      },
      "execution_count": 8,
      "outputs": [
        {
          "output_type": "stream",
          "name": "stdout",
          "text": [
            "On an average, bagging regressor makes an error of 14.377k +/- 0.196k on the training set.\n",
            "On an average, bagging regressor makes an error of 35.217k +/- 0.608k on the training set.\n"
          ]
        }
      ]
    },
    {
      "cell_type": "markdown",
      "source": [
        "random forest regressor"
      ],
      "metadata": {
        "id": "eEvhXTRt-Wvp"
      }
    },
    {
      "cell_type": "code",
      "source": [
        "train_regressor(\n",
        "    RandomForestRegressor(), com_train_features,\n",
        "    com_train_labels, cv, 'random forest regressor'\n",
        ")"
      ],
      "metadata": {
        "colab": {
          "base_uri": "https://localhost:8080/"
        },
        "id": "mU3rLrCN-b26",
        "outputId": "745956e6-6df9-49da-b763-beb6b0836687"
      },
      "execution_count": 9,
      "outputs": [
        {
          "output_type": "stream",
          "name": "stdout",
          "text": [
            "On an average, random forest regressor makes an error of 12.642k +/- 0.071k on the training set.\n",
            "On an average, random forest regressor makes an error of 33.198k +/- 0.718k on the training set.\n"
          ]
        }
      ]
    },
    {
      "cell_type": "markdown",
      "source": [
        "Parameter search for random forest regressor"
      ],
      "metadata": {
        "id": "PshMM6sq-j2L"
      }
    },
    {
      "cell_type": "code",
      "source": [
        "parameter_distributions = {\n",
        "    \"n_estimators\": [1, 2, 5, 10, 20, 50, 100, 200, 500],\n",
        "    \"max_leaf_nodes\": [2, 5, 10, 20, 50, 100]\n",
        "}\n",
        "\n",
        "search_cv = RandomizedSearchCV(\n",
        "    RandomForestRegressor(n_jobs=2), param_distributions=parameter_distributions,\n",
        "    scoring=\"neg_mean_absolute_error\", n_iter=10, random_state=0, n_jobs=2\n",
        ")\n",
        "\n",
        "search_cv.fit(com_train_features, com_train_labels)\n",
        "\n",
        "columns = [f\"param_{name}\" for name in parameter_distributions.keys()]\n",
        "columns += [\"mean_test_error\", \"std_test_error\"]\n",
        "cv_results = pd.DataFrame(search_cv.cv_results_)\n",
        "cv_results[\"mean_test_error\"] = -cv_results[\"mean_test_score\"]\n",
        "cv_results[\"std_test_error\"] = -cv_results[\"std_test_score\"]\n",
        "cv_results[columns].sort_values(by=\"mean_test_error\")"
      ],
      "metadata": {
        "colab": {
          "base_uri": "https://localhost:8080/",
          "height": 382
        },
        "id": "JXJn6Akx-gLc",
        "outputId": "1b067ff4-f4de-4225-f527-415634e0e464"
      },
      "execution_count": 10,
      "outputs": [
        {
          "output_type": "execute_result",
          "data": {
            "text/plain": [
              "  param_n_estimators param_max_leaf_nodes  mean_test_error  std_test_error\n",
              "0                500                  100        40.616043       -0.764210\n",
              "2                 10                  100        41.167172       -0.880918\n",
              "7                100                   50        43.660362       -0.856177\n",
              "8                  1                  100        46.733375       -0.996448\n",
              "1                100                   20        49.504730       -1.103308\n",
              "6                 50                   20        49.553503       -1.071306\n",
              "9                 10                   20        49.960918       -0.981662\n",
              "3                500                   10        55.027453       -1.038467\n",
              "4                  5                    5        61.461462       -1.305595\n",
              "5                  5                    2        73.047106       -1.107615"
            ],
            "text/html": [
              "\n",
              "  <div id=\"df-3be1505a-37b4-427c-9526-e733c0b50843\" class=\"colab-df-container\">\n",
              "    <div>\n",
              "<style scoped>\n",
              "    .dataframe tbody tr th:only-of-type {\n",
              "        vertical-align: middle;\n",
              "    }\n",
              "\n",
              "    .dataframe tbody tr th {\n",
              "        vertical-align: top;\n",
              "    }\n",
              "\n",
              "    .dataframe thead th {\n",
              "        text-align: right;\n",
              "    }\n",
              "</style>\n",
              "<table border=\"1\" class=\"dataframe\">\n",
              "  <thead>\n",
              "    <tr style=\"text-align: right;\">\n",
              "      <th></th>\n",
              "      <th>param_n_estimators</th>\n",
              "      <th>param_max_leaf_nodes</th>\n",
              "      <th>mean_test_error</th>\n",
              "      <th>std_test_error</th>\n",
              "    </tr>\n",
              "  </thead>\n",
              "  <tbody>\n",
              "    <tr>\n",
              "      <th>0</th>\n",
              "      <td>500</td>\n",
              "      <td>100</td>\n",
              "      <td>40.616043</td>\n",
              "      <td>-0.764210</td>\n",
              "    </tr>\n",
              "    <tr>\n",
              "      <th>2</th>\n",
              "      <td>10</td>\n",
              "      <td>100</td>\n",
              "      <td>41.167172</td>\n",
              "      <td>-0.880918</td>\n",
              "    </tr>\n",
              "    <tr>\n",
              "      <th>7</th>\n",
              "      <td>100</td>\n",
              "      <td>50</td>\n",
              "      <td>43.660362</td>\n",
              "      <td>-0.856177</td>\n",
              "    </tr>\n",
              "    <tr>\n",
              "      <th>8</th>\n",
              "      <td>1</td>\n",
              "      <td>100</td>\n",
              "      <td>46.733375</td>\n",
              "      <td>-0.996448</td>\n",
              "    </tr>\n",
              "    <tr>\n",
              "      <th>1</th>\n",
              "      <td>100</td>\n",
              "      <td>20</td>\n",
              "      <td>49.504730</td>\n",
              "      <td>-1.103308</td>\n",
              "    </tr>\n",
              "    <tr>\n",
              "      <th>6</th>\n",
              "      <td>50</td>\n",
              "      <td>20</td>\n",
              "      <td>49.553503</td>\n",
              "      <td>-1.071306</td>\n",
              "    </tr>\n",
              "    <tr>\n",
              "      <th>9</th>\n",
              "      <td>10</td>\n",
              "      <td>20</td>\n",
              "      <td>49.960918</td>\n",
              "      <td>-0.981662</td>\n",
              "    </tr>\n",
              "    <tr>\n",
              "      <th>3</th>\n",
              "      <td>500</td>\n",
              "      <td>10</td>\n",
              "      <td>55.027453</td>\n",
              "      <td>-1.038467</td>\n",
              "    </tr>\n",
              "    <tr>\n",
              "      <th>4</th>\n",
              "      <td>5</td>\n",
              "      <td>5</td>\n",
              "      <td>61.461462</td>\n",
              "      <td>-1.305595</td>\n",
              "    </tr>\n",
              "    <tr>\n",
              "      <th>5</th>\n",
              "      <td>5</td>\n",
              "      <td>2</td>\n",
              "      <td>73.047106</td>\n",
              "      <td>-1.107615</td>\n",
              "    </tr>\n",
              "  </tbody>\n",
              "</table>\n",
              "</div>\n",
              "    <div class=\"colab-df-buttons\">\n",
              "\n",
              "  <div class=\"colab-df-container\">\n",
              "    <button class=\"colab-df-convert\" onclick=\"convertToInteractive('df-3be1505a-37b4-427c-9526-e733c0b50843')\"\n",
              "            title=\"Convert this dataframe to an interactive table.\"\n",
              "            style=\"display:none;\">\n",
              "\n",
              "  <svg xmlns=\"http://www.w3.org/2000/svg\" height=\"24px\" viewBox=\"0 -960 960 960\">\n",
              "    <path d=\"M120-120v-720h720v720H120Zm60-500h600v-160H180v160Zm220 220h160v-160H400v160Zm0 220h160v-160H400v160ZM180-400h160v-160H180v160Zm440 0h160v-160H620v160ZM180-180h160v-160H180v160Zm440 0h160v-160H620v160Z\"/>\n",
              "  </svg>\n",
              "    </button>\n",
              "\n",
              "  <style>\n",
              "    .colab-df-container {\n",
              "      display:flex;\n",
              "      gap: 12px;\n",
              "    }\n",
              "\n",
              "    .colab-df-convert {\n",
              "      background-color: #E8F0FE;\n",
              "      border: none;\n",
              "      border-radius: 50%;\n",
              "      cursor: pointer;\n",
              "      display: none;\n",
              "      fill: #1967D2;\n",
              "      height: 32px;\n",
              "      padding: 0 0 0 0;\n",
              "      width: 32px;\n",
              "    }\n",
              "\n",
              "    .colab-df-convert:hover {\n",
              "      background-color: #E2EBFA;\n",
              "      box-shadow: 0px 1px 2px rgba(60, 64, 67, 0.3), 0px 1px 3px 1px rgba(60, 64, 67, 0.15);\n",
              "      fill: #174EA6;\n",
              "    }\n",
              "\n",
              "    .colab-df-buttons div {\n",
              "      margin-bottom: 4px;\n",
              "    }\n",
              "\n",
              "    [theme=dark] .colab-df-convert {\n",
              "      background-color: #3B4455;\n",
              "      fill: #D2E3FC;\n",
              "    }\n",
              "\n",
              "    [theme=dark] .colab-df-convert:hover {\n",
              "      background-color: #434B5C;\n",
              "      box-shadow: 0px 1px 3px 1px rgba(0, 0, 0, 0.15);\n",
              "      filter: drop-shadow(0px 1px 2px rgba(0, 0, 0, 0.3));\n",
              "      fill: #FFFFFF;\n",
              "    }\n",
              "  </style>\n",
              "\n",
              "    <script>\n",
              "      const buttonEl =\n",
              "        document.querySelector('#df-3be1505a-37b4-427c-9526-e733c0b50843 button.colab-df-convert');\n",
              "      buttonEl.style.display =\n",
              "        google.colab.kernel.accessAllowed ? 'block' : 'none';\n",
              "\n",
              "      async function convertToInteractive(key) {\n",
              "        const element = document.querySelector('#df-3be1505a-37b4-427c-9526-e733c0b50843');\n",
              "        const dataTable =\n",
              "          await google.colab.kernel.invokeFunction('convertToInteractive',\n",
              "                                                    [key], {});\n",
              "        if (!dataTable) return;\n",
              "\n",
              "        const docLinkHtml = 'Like what you see? Visit the ' +\n",
              "          '<a target=\"_blank\" href=https://colab.research.google.com/notebooks/data_table.ipynb>data table notebook</a>'\n",
              "          + ' to learn more about interactive tables.';\n",
              "        element.innerHTML = '';\n",
              "        dataTable['output_type'] = 'display_data';\n",
              "        await google.colab.output.renderOutput(dataTable, element);\n",
              "        const docLink = document.createElement('div');\n",
              "        docLink.innerHTML = docLinkHtml;\n",
              "        element.appendChild(docLink);\n",
              "      }\n",
              "    </script>\n",
              "  </div>\n",
              "\n",
              "\n",
              "<div id=\"df-7770eaca-67f9-4e83-8228-bcddcd0a583f\">\n",
              "  <button class=\"colab-df-quickchart\" onclick=\"quickchart('df-7770eaca-67f9-4e83-8228-bcddcd0a583f')\"\n",
              "            title=\"Suggest charts\"\n",
              "            style=\"display:none;\">\n",
              "\n",
              "<svg xmlns=\"http://www.w3.org/2000/svg\" height=\"24px\"viewBox=\"0 0 24 24\"\n",
              "     width=\"24px\">\n",
              "    <g>\n",
              "        <path d=\"M19 3H5c-1.1 0-2 .9-2 2v14c0 1.1.9 2 2 2h14c1.1 0 2-.9 2-2V5c0-1.1-.9-2-2-2zM9 17H7v-7h2v7zm4 0h-2V7h2v10zm4 0h-2v-4h2v4z\"/>\n",
              "    </g>\n",
              "</svg>\n",
              "  </button>\n",
              "\n",
              "<style>\n",
              "  .colab-df-quickchart {\n",
              "      --bg-color: #E8F0FE;\n",
              "      --fill-color: #1967D2;\n",
              "      --hover-bg-color: #E2EBFA;\n",
              "      --hover-fill-color: #174EA6;\n",
              "      --disabled-fill-color: #AAA;\n",
              "      --disabled-bg-color: #DDD;\n",
              "  }\n",
              "\n",
              "  [theme=dark] .colab-df-quickchart {\n",
              "      --bg-color: #3B4455;\n",
              "      --fill-color: #D2E3FC;\n",
              "      --hover-bg-color: #434B5C;\n",
              "      --hover-fill-color: #FFFFFF;\n",
              "      --disabled-bg-color: #3B4455;\n",
              "      --disabled-fill-color: #666;\n",
              "  }\n",
              "\n",
              "  .colab-df-quickchart {\n",
              "    background-color: var(--bg-color);\n",
              "    border: none;\n",
              "    border-radius: 50%;\n",
              "    cursor: pointer;\n",
              "    display: none;\n",
              "    fill: var(--fill-color);\n",
              "    height: 32px;\n",
              "    padding: 0;\n",
              "    width: 32px;\n",
              "  }\n",
              "\n",
              "  .colab-df-quickchart:hover {\n",
              "    background-color: var(--hover-bg-color);\n",
              "    box-shadow: 0 1px 2px rgba(60, 64, 67, 0.3), 0 1px 3px 1px rgba(60, 64, 67, 0.15);\n",
              "    fill: var(--button-hover-fill-color);\n",
              "  }\n",
              "\n",
              "  .colab-df-quickchart-complete:disabled,\n",
              "  .colab-df-quickchart-complete:disabled:hover {\n",
              "    background-color: var(--disabled-bg-color);\n",
              "    fill: var(--disabled-fill-color);\n",
              "    box-shadow: none;\n",
              "  }\n",
              "\n",
              "  .colab-df-spinner {\n",
              "    border: 2px solid var(--fill-color);\n",
              "    border-color: transparent;\n",
              "    border-bottom-color: var(--fill-color);\n",
              "    animation:\n",
              "      spin 1s steps(1) infinite;\n",
              "  }\n",
              "\n",
              "  @keyframes spin {\n",
              "    0% {\n",
              "      border-color: transparent;\n",
              "      border-bottom-color: var(--fill-color);\n",
              "      border-left-color: var(--fill-color);\n",
              "    }\n",
              "    20% {\n",
              "      border-color: transparent;\n",
              "      border-left-color: var(--fill-color);\n",
              "      border-top-color: var(--fill-color);\n",
              "    }\n",
              "    30% {\n",
              "      border-color: transparent;\n",
              "      border-left-color: var(--fill-color);\n",
              "      border-top-color: var(--fill-color);\n",
              "      border-right-color: var(--fill-color);\n",
              "    }\n",
              "    40% {\n",
              "      border-color: transparent;\n",
              "      border-right-color: var(--fill-color);\n",
              "      border-top-color: var(--fill-color);\n",
              "    }\n",
              "    60% {\n",
              "      border-color: transparent;\n",
              "      border-right-color: var(--fill-color);\n",
              "    }\n",
              "    80% {\n",
              "      border-color: transparent;\n",
              "      border-right-color: var(--fill-color);\n",
              "      border-bottom-color: var(--fill-color);\n",
              "    }\n",
              "    90% {\n",
              "      border-color: transparent;\n",
              "      border-bottom-color: var(--fill-color);\n",
              "    }\n",
              "  }\n",
              "</style>\n",
              "\n",
              "  <script>\n",
              "    async function quickchart(key) {\n",
              "      const quickchartButtonEl =\n",
              "        document.querySelector('#' + key + ' button');\n",
              "      quickchartButtonEl.disabled = true;  // To prevent multiple clicks.\n",
              "      quickchartButtonEl.classList.add('colab-df-spinner');\n",
              "      try {\n",
              "        const charts = await google.colab.kernel.invokeFunction(\n",
              "            'suggestCharts', [key], {});\n",
              "      } catch (error) {\n",
              "        console.error('Error during call to suggestCharts:', error);\n",
              "      }\n",
              "      quickchartButtonEl.classList.remove('colab-df-spinner');\n",
              "      quickchartButtonEl.classList.add('colab-df-quickchart-complete');\n",
              "    }\n",
              "    (() => {\n",
              "      let quickchartButtonEl =\n",
              "        document.querySelector('#df-7770eaca-67f9-4e83-8228-bcddcd0a583f button');\n",
              "      quickchartButtonEl.style.display =\n",
              "        google.colab.kernel.accessAllowed ? 'block' : 'none';\n",
              "    })();\n",
              "  </script>\n",
              "</div>\n",
              "    </div>\n",
              "  </div>\n"
            ]
          },
          "metadata": {},
          "execution_count": 10
        }
      ]
    },
    {
      "cell_type": "code",
      "source": [
        "error = -search_cv.score(test_features, test_labels)\n",
        "print(f\"On average, our random forest regressor makes an error of {error:.2f}k$\")"
      ],
      "metadata": {
        "colab": {
          "base_uri": "https://localhost:8080/"
        },
        "id": "AUB8hwrd-iwU",
        "outputId": "a8946399-9a53-402a-ba47-5057eeb6374c"
      },
      "execution_count": 11,
      "outputs": [
        {
          "output_type": "stream",
          "name": "stdout",
          "text": [
            "On average, our random forest regressor makes an error of 40.46k$\n"
          ]
        }
      ]
    },
    {
      "cell_type": "code",
      "source": [],
      "metadata": {
        "id": "wN18wZie-mNK"
      },
      "execution_count": null,
      "outputs": []
    }
  ]
}