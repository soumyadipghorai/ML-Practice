{
  "nbformat": 4,
  "nbformat_minor": 0,
  "metadata": {
    "colab": {
      "provenance": []
    },
    "kernelspec": {
      "name": "python3",
      "display_name": "Python 3"
    },
    "language_info": {
      "name": "python"
    }
  },
  "cells": [
    {
      "cell_type": "code",
      "execution_count": 4,
      "metadata": {
        "id": "MtNGhlOf15l_"
      },
      "outputs": [],
      "source": [
        "import numpy as np\n",
        "import matplotlib.pyplot as plt\n",
        "\n",
        "from sklearn.datasets import fetch_california_housing\n",
        "\n",
        "from sklearn.ensemble import AdaBoostRegressor\n",
        "from sklearn.ensemble import GradientBoostingRegressor\n",
        "from xgboost import XGBRegressor\n",
        "\n",
        "from sklearn.model_selection import train_test_split, cross_validate, cross_val_score, ShuffleSplit\n",
        "from sklearn.metrics import confusion_matrix, ConfusionMatrixDisplay, classification_report\n",
        "\n",
        "from sklearn.pipeline import Pipeline"
      ]
    },
    {
      "cell_type": "code",
      "source": [
        "np.random.seed(306)"
      ],
      "metadata": {
        "id": "k2wVqOY52S8f"
      },
      "execution_count": 5,
      "outputs": []
    },
    {
      "cell_type": "code",
      "source": [
        "cv = ShuffleSplit(n_splits=10, test_size=0.2, random_state=42)"
      ],
      "metadata": {
        "id": "_RttPVph2NQr"
      },
      "execution_count": 2,
      "outputs": []
    },
    {
      "cell_type": "code",
      "source": [
        "features, labels = fetch_california_housing(as_frame=True, return_X_y = True)\n",
        "# to get values in $1000\n",
        "labels *= 100\n",
        "\n",
        "com_train_features, test_features, com_train_labels, test_labels = train_test_split(features, labels, random_state=42)\n",
        "\n",
        "train_features, dev_features, train_labels, dev_labels =  train_test_split(com_train_features, com_train_labels, random_state=42)"
      ],
      "metadata": {
        "id": "1gXP26Ee2Qu5"
      },
      "execution_count": 6,
      "outputs": []
    },
    {
      "cell_type": "markdown",
      "source": [
        "helper functions"
      ],
      "metadata": {
        "id": "xwTxGBM02jsx"
      }
    },
    {
      "cell_type": "code",
      "source": [
        "def train_regressor(estimator, X_train, y_train, cv, name):\n",
        "    cv_results = cross_validate(\n",
        "        estimator, X_train, y_train, cv=cv,\n",
        "        scoring=\"neg_mean_absolute_error\",\n",
        "        return_train_score=True, return_estimator=True\n",
        "    )\n",
        "\n",
        "    cv_train_error = -1*cv_results['train_score']\n",
        "    cv_test_error = -1*cv_results['test_score']\n",
        "\n",
        "    print(f\"On an average, {name} makes an error of \"\n",
        "            f\"{cv_train_error.mean():.3f}k +/- {cv_train_error.std():.3f}k on the training set.\")\n",
        "\n",
        "    print(f\"On an average, {name} makes an error of \"\n",
        "            f\"{cv_test_error.mean():.3f}k +/- {cv_test_error.std():.3f}k on the training set.\")"
      ],
      "metadata": {
        "id": "hd7rJyzh2eUb"
      },
      "execution_count": 8,
      "outputs": []
    },
    {
      "cell_type": "markdown",
      "source": [
        "#### AdaBoost"
      ],
      "metadata": {
        "id": "uX_VnElf2nqd"
      }
    },
    {
      "cell_type": "code",
      "source": [
        "train_regressor(\n",
        "    AdaBoostRegressor(), com_train_features,\n",
        "    com_train_labels, cv, 'decision tree regressor'\n",
        ")"
      ],
      "metadata": {
        "colab": {
          "base_uri": "https://localhost:8080/"
        },
        "id": "xZuiQcnQ2hK7",
        "outputId": "bd2b42a7-eaf3-45ef-abd0-d291eb55235d"
      },
      "execution_count": 9,
      "outputs": [
        {
          "output_type": "stream",
          "name": "stdout",
          "text": [
            "On an average, decision tree regressor makes an error of 73.263k +/- 6.031k on the training set.\n",
            "On an average, decision tree regressor makes an error of 73.623k +/- 6.057k on the training set.\n"
          ]
        }
      ]
    },
    {
      "cell_type": "markdown",
      "source": [
        "#### Gradient Boosting\n",
        "\n"
      ],
      "metadata": {
        "id": "-RG8AGhv22bT"
      }
    },
    {
      "cell_type": "code",
      "source": [
        "train_regressor(\n",
        "    GradientBoostingRegressor(\n",
        "        loss = 'squared_error', learning_rate = 0.1, n_estimators = 100,\n",
        "        criterion = 'friedman_mse'\n",
        "    ), com_train_features,\n",
        "    com_train_labels, cv, 'decision tree regressor'\n",
        ")"
      ],
      "metadata": {
        "colab": {
          "base_uri": "https://localhost:8080/"
        },
        "id": "4Wzsdgce2sM9",
        "outputId": "ce326998-8693-4d80-b65b-aecac58054c6"
      },
      "execution_count": 11,
      "outputs": [
        {
          "output_type": "stream",
          "name": "stdout",
          "text": [
            "On an average, decision tree regressor makes an error of 35.394k +/- 0.273k on the training set.\n",
            "On an average, decision tree regressor makes an error of 36.771k +/- 0.722k on the training set.\n"
          ]
        }
      ]
    },
    {
      "cell_type": "markdown",
      "source": [
        "#### XGBoost"
      ],
      "metadata": {
        "id": "4G1DtHHS3b5-"
      }
    },
    {
      "cell_type": "code",
      "source": [
        "?XGBRegressor"
      ],
      "metadata": {
        "id": "I93KywRt3mbs"
      },
      "execution_count": 12,
      "outputs": []
    },
    {
      "cell_type": "code",
      "source": [
        "train_regressor(\n",
        "    XGBRegressor(objective = 'reg:squarederror'), com_train_features,\n",
        "    com_train_labels, cv, 'decision tree regressor'\n",
        ")"
      ],
      "metadata": {
        "colab": {
          "base_uri": "https://localhost:8080/"
        },
        "id": "FatQROEG216l",
        "outputId": "36aabddd-42ee-44f9-ff24-20a9e94fbbbb"
      },
      "execution_count": 13,
      "outputs": [
        {
          "output_type": "stream",
          "name": "stdout",
          "text": [
            "On an average, decision tree regressor makes an error of 17.660k +/- 0.246k on the training set.\n",
            "On an average, decision tree regressor makes an error of 31.340k +/- 0.791k on the training set.\n"
          ]
        }
      ]
    },
    {
      "cell_type": "code",
      "source": [],
      "metadata": {
        "id": "-jvPI9aK317x"
      },
      "execution_count": null,
      "outputs": []
    }
  ]
}