{
 "cells": [
  {
   "cell_type": "markdown",
   "metadata": {},
   "source": [
    "Two boosting estimators present in sklearn \n",
    "* AdaBoost \n",
    "* Gradient Boosting \n",
    "\n",
    "### AdaBoostClassifier \n",
    "* **base_estimator** -> default estimator is DecisionTreeClassifier with depth = 1. \n",
    "* **n_estimators** -> max number of estimators where boosting is terminated. default is 50.\n",
    "* **learning_rate** -> weight applied to each classifier during boosting. higher value would increase contribution of individual classifier.\n",
    "\n",
    "### AdaBoostRegressor \n",
    "* **base_estimator** -> default estimator is DecisionTreeRegressor with depth = 3. \n",
    "* **n_estimators** -> max number of estimators where boosting is terminated. default is 50.\n",
    "* **learning_rate** -> weight applied to each classifier during boosting. higher value would increase contribution of individual classifier.\n",
    "\n",
    "> there is a trade off between n_estimators and learning_rate \n",
    "\n",
    "#### Parameters to tune : \n",
    "* n_estimator \n",
    "* complexity of the base estimators(e.g its max_depth or min_samples_split)\n",
    "\n",
    "#### Arrtibutes \n",
    "* **base_estimator_** -> base estimator of ensemble \n",
    "* **estimators_** -> collection of fitted sub_estimators \n",
    "* **estimator_weights_** -> weights for each estimator in ensemble \n",
    "* **estimator_errors_** -> errors for each estimator in ensemble \n",
    "\n",
    "### Gradient Boosting \n",
    "* **n_estimators** -> max number of estimators where boosting is terminated. \n",
    "* **learning_rates**\n",
    "\n",
    "classifier supports both binary and multiclass classification. "
   ]
  },
  {
   "cell_type": "code",
   "execution_count": null,
   "metadata": {},
   "outputs": [],
   "source": []
  }
 ],
 "metadata": {
  "language_info": {
   "name": "python"
  }
 },
 "nbformat": 4,
 "nbformat_minor": 2
}
