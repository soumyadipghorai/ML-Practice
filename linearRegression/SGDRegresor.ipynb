{
 "cells": [
  {
   "cell_type": "markdown",
   "metadata": {},
   "source": [
    "SGD Regressor offers a lot of control over optimization procedure "
   ]
  },
  {
   "cell_type": "code",
   "execution_count": 1,
   "metadata": {},
   "outputs": [],
   "source": [
    "#Imports\n",
    "import pandas as pd\n",
    "import numpy as np\n",
    "import matplotlib.pyplot as plt\n",
    "\n",
    "from sklearn.datasets import fetch_california_housing\n",
    "from sklearn.linear_model import SGDRegressor\n",
    "\n",
    "from sklearn.metrics import mean_squared_error\n",
    "from sklearn.metrics import mean_absolute_error\n",
    "\n",
    "from sklearn.model_selection import cross_validate\n",
    "from sklearn.model_selection import cross_val_score\n",
    "from sklearn.model_selection import train_test_split\n",
    "from sklearn.model_selection import ShuffleSplit\n",
    "from sklearn.model_selection import validation_curve\n",
    "\n",
    "from sklearn.pipeline import Pipeline\n",
    "from sklearn.preprocessing import StandardScaler"
   ]
  },
  {
   "cell_type": "code",
   "execution_count": 2,
   "metadata": {},
   "outputs": [],
   "source": [
    "np.random.seed(306)\n",
    "\n",
    "shuffle_split_cv = ShuffleSplit(n_splits=10, test_size=0.2, random_state=0)"
   ]
  },
  {
   "cell_type": "code",
   "execution_count": 3,
   "metadata": {},
   "outputs": [],
   "source": [
    "features, labels = fetch_california_housing(as_frame=True, return_X_y=True)\n",
    "com_train_features, test_features, com_train_labels, test_labels = train_test_split(features, labels, random_state=42)"
   ]
  },
  {
   "cell_type": "markdown",
   "metadata": {},
   "source": [
    "dev part will be used for hyperparameter tuning "
   ]
  },
  {
   "cell_type": "code",
   "execution_count": 4,
   "metadata": {},
   "outputs": [],
   "source": [
    "train_features, dev_features, train_labels, dev_labels = train_test_split(com_train_features, com_train_labels, random_state=42)"
   ]
  },
  {
   "cell_type": "markdown",
   "metadata": {},
   "source": [
    "### Baseline SGDRegressor\n",
    "\n",
    "* STEP 1: Instantiate baseline SGDRegressor with default parameters.\n",
    "* STEP 2: Train the model with training feature matrix and labels.\n",
    "* STEP 3: Obtain the score on the train and dev data"
   ]
  },
  {
   "cell_type": "code",
   "execution_count": 5,
   "metadata": {},
   "outputs": [
    {
     "name": "stdout",
     "output_type": "stream",
     "text": [
      "Mean Absolute Error on Training set:  309190327803747.2\n",
      "Mean Absolute Error on development set:  311959782899622.1\n"
     ]
    }
   ],
   "source": [
    "sgd = SGDRegressor(random_state=42)\n",
    "sgd.fit(train_features, train_labels)\n",
    "\n",
    "train_mae = mean_absolute_error(train_labels, sgd.predict(train_features))\n",
    "dev_mae = mean_absolute_error(dev_labels, sgd.predict(dev_features))\n",
    "\n",
    "print(\"Mean Absolute Error on Training set: \", train_mae)\n",
    "print(\"Mean Absolute Error on development set: \", dev_mae)"
   ]
  },
  {
   "cell_type": "markdown",
   "metadata": {},
   "source": [
    "### Adding a feature scaling step\n",
    "\n",
    "SGD is sensitive to feature scaling so we do scaling"
   ]
  },
  {
   "cell_type": "code",
   "execution_count": 6,
   "metadata": {},
   "outputs": [
    {
     "name": "stdout",
     "output_type": "stream",
     "text": [
      "Mean Absolute Error on Training set:  0.5135804404077051\n",
      "Mean Absolute Error on development set:  0.6373131245753217\n"
     ]
    }
   ],
   "source": [
    "sgd_pipeline = Pipeline([(\"feature_scaling\", StandardScaler()),\n",
    "                        (\"sgd\", SGDRegressor())])\n",
    "\n",
    "sgd_pipeline.fit(train_features, train_labels)\n",
    "\n",
    "train_mae = mean_absolute_error(train_labels, sgd_pipeline.predict(train_features))\n",
    "dev_mae = mean_absolute_error(dev_labels, sgd_pipeline.predict(dev_features))\n",
    "\n",
    "print(\"Mean Absolute Error on Training set: \", train_mae)\n",
    "print(\"Mean Absolute Error on development set: \", dev_mae)"
   ]
  },
  {
   "cell_type": "markdown",
   "metadata": {},
   "source": [
    "As we can see that the error has reduced drastically "
   ]
  },
  {
   "cell_type": "markdown",
   "metadata": {},
   "source": [
    "### Step-wise training of SGDRegressor\n",
    "\n",
    "* STEP 1: Instantiate SGDRegressor with warm_start=True and tol=-np.infty\n",
    "* STEP 2: Train SGD step by step and recod regression loss in each step.\n",
    "* STEP 3: Plot learning curve and see if there are any issues in training."
   ]
  },
  {
   "cell_type": "code",
   "execution_count": 12,
   "metadata": {},
   "outputs": [
    {
     "data": {
      "text/plain": [
       "Text(0.5, 1.0, 'Learning curve: eta0= 0.0100')"
      ]
     },
     "execution_count": 12,
     "metadata": {},
     "output_type": "execute_result"
    },
    {
     "data": {
      "image/png": "[encoded data removed]",
      "text/plain": [
       "<Figure size 432x288 with 1 Axes>"
      ]
     },
     "metadata": {
      "needs_background": "light"
     },
     "output_type": "display_data"
    }
   ],
   "source": [
    "eta0 = 1e-2 # default \n",
    "sgd_pipeline = Pipeline([(\"feature_scaling\", StandardScaler()),\n",
    "                        (\"sgd\", SGDRegressor(max_iter=1, tol=-np.infty,\n",
    "                                                warm_start=True,\n",
    "                                                random_state=42))])\n",
    "\n",
    "loss = []\n",
    "\n",
    "for epoch in range(100):\n",
    "    \"\"\"\n",
    "    warm_start = True \n",
    "    --> it uses param values that were learned in the prev itr \n",
    "    and update those values in the fit function \n",
    "    \"\"\"\n",
    "    sgd_pipeline.fit(train_features, train_labels)\n",
    "    loss.append(mean_squared_error(train_labels, sgd_pipeline.predict(train_features)))\n",
    "\n",
    "plt.plot(np.arange(len(loss)), loss, 'b-')\n",
    "plt.xlabel('Iteration #')\n",
    "plt.ylabel('MSE')\n",
    "plt.title(f'Learning curve: eta0={eta0: .4f}')"
   ]
  },
  {
   "cell_type": "markdown",
   "metadata": {},
   "source": [
    "The loss reduced intially and then increased. This could be due to large training rates. We will reduce the rate by a factor of 10 and repeat the process."
   ]
  },
  {
   "cell_type": "code",
   "execution_count": 13,
   "metadata": {},
   "outputs": [
    {
     "data": {
      "text/plain": [
       "Text(0.5, 1.0, 'Learning curve: eta0= 0.0010')"
      ]
     },
     "execution_count": 13,
     "metadata": {},
     "output_type": "execute_result"
    },
    {
     "data": {
      "image/png": "[encoded data removed]",
      "text/plain": [
       "<Figure size 432x288 with 1 Axes>"
      ]
     },
     "metadata": {
      "needs_background": "light"
     },
     "output_type": "display_data"
    }
   ],
   "source": [
    "# optimal learning rate \n",
    "eta0 = 1e-3\n",
    "sgd_pipeline = Pipeline([(\"feature_scaling\", StandardScaler()),\n",
    "                        (\"sgd\", SGDRegressor(max_iter=1, tol=-np.infty,\n",
    "                                                warm_start=True, eta0=eta0,\n",
    "                                                random_state=42))])\n",
    "\n",
    "loss = []\n",
    "\n",
    "for epoch in range(100):\n",
    "    sgd_pipeline.fit(train_features, train_labels)\n",
    "    loss.append(mean_squared_error(train_labels, sgd_pipeline.predict(train_features)))\n",
    "\n",
    "plt.plot(np.arange(len(loss)), loss, 'b-')\n",
    "plt.xlabel('Iteration #')\n",
    "plt.ylabel('MSE')\n",
    "plt.title(f'Learning curve: eta0={eta0: .4f}')"
   ]
  },
  {
   "cell_type": "markdown",
   "metadata": {},
   "source": [
    "we get an expected learning curve. but still the loss is not 0 this could be because of underfitting "
   ]
  },
  {
   "cell_type": "code",
   "execution_count": 14,
   "metadata": {},
   "outputs": [
    {
     "data": {
      "text/plain": [
       "Text(0.5, 1.0, 'Learning curve: eta0= 0.0001')"
      ]
     },
     "execution_count": 14,
     "metadata": {},
     "output_type": "execute_result"
    },
    {
     "data": {
      "image/png": "[encoded data removed]",
      "text/plain": [
       "<Figure size 432x288 with 1 Axes>"
      ]
     },
     "metadata": {
      "needs_background": "light"
     },
     "output_type": "display_data"
    }
   ],
   "source": [
    "# moderately small learning rate \n",
    "eta0 = 1e-4\n",
    "sgd_pipeline_ms = Pipeline([(\"feature_scaling\", StandardScaler()),\n",
    "                        (\"sgd\", SGDRegressor(max_iter=1, tol=-np.infty,\n",
    "                                                warm_start=True, eta0=eta0,\n",
    "                                                random_state=42))])\n",
    "\n",
    "loss = []\n",
    "\n",
    "for epoch in range(100):\n",
    "    sgd_pipeline_ms.fit(train_features, train_labels)\n",
    "    loss.append(mean_squared_error(train_labels, sgd_pipeline_ms.predict(train_features)))\n",
    "\n",
    "plt.plot(np.arange(len(loss)), loss, 'b-')\n",
    "plt.xlabel('Iteration #')\n",
    "plt.ylabel('MSE')\n",
    "plt.title(f'Learning curve: eta0={eta0: .4f}')"
   ]
  },
  {
   "cell_type": "code",
   "execution_count": 15,
   "metadata": {},
   "outputs": [
    {
     "data": {
      "text/plain": [
       "Text(0.5, 1.0, 'Learning curve: eta0= 0.0000')"
      ]
     },
     "execution_count": 15,
     "metadata": {},
     "output_type": "execute_result"
    },
    {
     "data": {
      "image/png": "[encoded data removed]",
      "text/plain": [
       "<Figure size 432x288 with 1 Axes>"
      ]
     },
     "metadata": {
      "needs_background": "light"
     },
     "output_type": "display_data"
    }
   ],
   "source": [
    "# very small learning rate \n",
    "eta0 = 1e-5\n",
    "sgd_pipeline_vs = Pipeline([(\"feature_scaling\", StandardScaler()),\n",
    "                        (\"sgd\", SGDRegressor(max_iter=1, tol=-np.infty,\n",
    "                                                warm_start=True, eta0=eta0,\n",
    "                                                random_state=42))])\n",
    "\n",
    "loss = []\n",
    "\n",
    "for epoch in range(100):\n",
    "    sgd_pipeline_vs.fit(train_features, train_labels)\n",
    "    loss.append(mean_squared_error(train_labels, sgd_pipeline_vs.predict(train_features)))\n",
    "\n",
    "plt.plot(np.arange(len(loss)), loss, 'b-')\n",
    "plt.xlabel('Iteration #')\n",
    "plt.ylabel('MSE')\n",
    "plt.title(f'Learning curve: eta0={eta0: .4f}')"
   ]
  },
  {
   "cell_type": "markdown",
   "metadata": {},
   "source": [
    "for very small learning rate as we can see that the loss reduces very slowly and not yet reached to the global minima. We can increase the num of epoch to give it more space to converge or try giving further smaller learning rate "
   ]
  },
  {
   "cell_type": "code",
   "execution_count": 16,
   "metadata": {},
   "outputs": [
    {
     "name": "stdout",
     "output_type": "stream",
     "text": [
      "# iteration before reaching convergence criteria:  1\n",
      "#Weight updated: 11611.0\n"
     ]
    }
   ],
   "source": [
    "print('# iteration before reaching convergence criteria: ', \n",
    "        sgd_pipeline[-1].n_iter_)\n",
    "\n",
    "print (\"#Weight updated:\", sgd_pipeline[-1].t_)\n"
   ]
  },
  {
   "cell_type": "code",
   "execution_count": 20,
   "metadata": {},
   "outputs": [
    {
     "data": {
      "text/plain": [
       "11611"
      ]
     },
     "execution_count": 20,
     "metadata": {},
     "output_type": "execute_result"
    }
   ],
   "source": [
    "len(train_features) + 1 # num of weight updates "
   ]
  },
  {
   "cell_type": "code",
   "execution_count": 21,
   "metadata": {},
   "outputs": [
    {
     "name": "stdout",
     "output_type": "stream",
     "text": [
      "Mean Absolute Error on Training set:  0.5333732983042573\n",
      "Mean Absolute Error on development set:  0.5190150280908042\n"
     ]
    }
   ],
   "source": [
    "train_mae = mean_absolute_error(train_labels, sgd_pipeline.predict(train_features))\n",
    "dev_mae = mean_absolute_error(dev_labels, sgd_pipeline.predict(dev_features))\n",
    "\n",
    "print(\"Mean Absolute Error on Training set: \", train_mae)\n",
    "print(\"Mean Absolute Error on development set: \", dev_mae)"
   ]
  },
  {
   "cell_type": "markdown",
   "metadata": {},
   "source": [
    "### Fixing learning rate through validation curves\n",
    "\n",
    "* STEP 1: Provide the list of values to be tried for a hyper=parameter.\n",
    "* STEP 2: Instantiate an object of validation_curve with estimator, training features and label. Set scoring parameter to relevant score.\n",
    "* STEP 3: Convert sccores to error.\n",
    "* STEP 4: Fix the hyper parameter value where the test error is the least."
   ]
  },
  {
   "cell_type": "code",
   "execution_count": 22,
   "metadata": {},
   "outputs": [
    {
     "name": "stdout",
     "output_type": "stream",
     "text": [
      "CPU times: total: 93.8 ms\n",
      "Wall time: 4.24 s\n"
     ]
    }
   ],
   "source": [
    "%%time\n",
    "\n",
    "eta0 = [1e-6, 1e-5, 1e-4, 1e-3, 1e-2]\n",
    "train_scores, test_scores = validation_curve(\n",
    "    sgd_pipeline, com_train_features, com_train_labels, \n",
    "    param_name=\"sgd__eta0\", param_range=eta0, cv = shuffle_split_cv, \n",
    "    scoring=\"neg_mean_squared_error\", n_jobs=2\n",
    ")\n",
    "\n",
    "train_errors, test_errors = -train_scores, -test_scores"
   ]
  },
  {
   "cell_type": "code",
   "execution_count": 23,
   "metadata": {},
   "outputs": [
    {
     "data": {
      "image/png": "[encoded data removed]",
      "text/plain": [
       "<Figure size 432x288 with 1 Axes>"
      ]
     },
     "metadata": {
      "needs_background": "light"
     },
     "output_type": "display_data"
    }
   ],
   "source": [
    "plt.plot(eta0, train_errors.mean(axis=1), 'b-x', label='Training error')\n",
    "plt.plot(eta0, test_errors.mean(axis=1), 'r-x', label='Test error')\n",
    "plt.legend()\n",
    "plt.xlabel(\"eta0\")\n",
    "plt.ylabel(\"Mean absolute error ($k$)\")\n",
    "_ = plt.title(\"Validation curve for SGD\")"
   ]
  },
  {
   "cell_type": "markdown",
   "metadata": {},
   "source": [
    "* Training and test error reduced initially but beyond a point it just shot up. \n",
    "* So the third point is the optimal point \n",
    "> NOTE : for values more than 1e-1 you will get simialr curve and the loss will be so high that 1e-2 might seem the right choice. <br> So we should not go beyond 1e-2 usually.\n",
    "> * For 1st and second point the change in loss is insignificant so we should not go beyond 1e-5 as well"
   ]
  },
  {
   "cell_type": "code",
   "execution_count": 24,
   "metadata": {},
   "outputs": [
    {
     "data": {
      "text/plain": [
       "Text(0.5, 1.0, 'Validation curve for SGD')"
      ]
     },
     "execution_count": 24,
     "metadata": {},
     "output_type": "execute_result"
    },
    {
     "data": {
      "image/png": "[encoded data removed]",
      "text/plain": [
       "<Figure size 432x288 with 1 Axes>"
      ]
     },
     "metadata": {
      "needs_background": "light"
     },
     "output_type": "display_data"
    }
   ],
   "source": [
    "plt.errorbar(eta0, train_errors.mean(axis = 1), \n",
    "            yerr=train_errors.std(axis=1),\n",
    "            label = 'Training error')\n",
    "plt.errorbar(eta0, test_errors.mean(axis = 1), \n",
    "            yerr=test_errors.std(axis=1),\n",
    "            label = 'Training error')\n",
    "\n",
    "plt.legend()\n",
    "plt.xlabel('eta0')\n",
    "plt.ylabel('MAE')\n",
    "plt.title('Validation curve for SGD')"
   ]
  },
  {
   "cell_type": "markdown",
   "metadata": {},
   "source": [
    "if we plot the sd of error we can see that at the end the sd is too high this might lead to unstable prediction"
   ]
  },
  {
   "cell_type": "markdown",
   "metadata": {},
   "source": [
    "### SGDRegressor"
   ]
  },
  {
   "cell_type": "code",
   "execution_count": 25,
   "metadata": {},
   "outputs": [
    {
     "name": "stdout",
     "output_type": "stream",
     "text": [
      "Mean Absolute Error on Training set:  0.579376454514559\n",
      "Mean Absolute Error on development set:  0.5689180241137523\n"
     ]
    }
   ],
   "source": [
    "# avg sgd \n",
    "sgd_pipeline = Pipeline([(\"feature_scaling\", StandardScaler()),\n",
    "                        (\"sgd\", SGDRegressor(max_iter=500,\n",
    "                                            early_stopping=True,\n",
    "                                            eta0 = 1e-3,\n",
    "                                            tol=1e-3,\n",
    "                                            validation_fraction=0.2, # for early stopping \n",
    "                                            n_iter_no_change=5,\n",
    "                                            average=10, # will start avging SGD after it sees 10 samples \n",
    "                                            random_state=42))])\n",
    "\n",
    "sgd_pipeline.fit(train_features, train_labels)\n",
    "\n",
    "train_mae = mean_absolute_error(train_labels, sgd_pipeline.predict(train_features))\n",
    "dev_mae = mean_absolute_error(dev_labels, sgd_pipeline.predict(dev_features))\n",
    "\n",
    "print(\"Mean Absolute Error on Training set: \", train_mae)\n",
    "print(\"Mean Absolute Error on development set: \", dev_mae)"
   ]
  },
  {
   "cell_type": "code",
   "execution_count": 28,
   "metadata": {},
   "outputs": [
    {
     "name": "stdout",
     "output_type": "stream",
     "text": [
      "# iteration before reaching convergence criteria:  7\n",
      "#Weight updated: 81271.0\n"
     ]
    }
   ],
   "source": [
    "\n",
    "print('# iteration before reaching convergence criteria: ', \n",
    "        sgd_pipeline[-1].n_iter_)\n",
    "\n",
    "print (\"#Weight updated:\", sgd_pipeline[-1].t_)"
   ]
  },
  {
   "cell_type": "code",
   "execution_count": 27,
   "metadata": {},
   "outputs": [
    {
     "data": {
      "text/plain": [
       "81271"
      ]
     },
     "execution_count": 27,
     "metadata": {},
     "output_type": "execute_result"
    }
   ],
   "source": [
    "len(train_features) * 7 + 1 # num of weight updates"
   ]
  },
  {
   "cell_type": "code",
   "execution_count": 29,
   "metadata": {},
   "outputs": [
    {
     "name": "stdout",
     "output_type": "stream",
     "text": [
      "Mean Absolute Error on Training set:  0.5359339681114987\n",
      "Mean Absolute Error on development set:  0.5151099728924144\n",
      "\n",
      "# iteration before reaching convergence criteria:  8\n",
      "#Weight updated: 92881.0\n"
     ]
    }
   ],
   "source": [
    "#learning rate changed to constant from inverse scaling(default)\n",
    "\n",
    "# eta0 = 1e-3 will be used accross all itr \n",
    "sgd_pipeline = Pipeline([(\"feature_scaling\", StandardScaler()),\n",
    "                        (\"sgd\", SGDRegressor(max_iter=500,\n",
    "                                            early_stopping=True,\n",
    "                                            eta0 = 1e-3,\n",
    "                                            tol=1e-3,\n",
    "                                            learning_rate='constant', # default inv_scaling\n",
    "                                            validation_fraction=0.2,\n",
    "                                            n_iter_no_change=5,\n",
    "                                            average=10,\n",
    "                                            random_state=42))])\n",
    "\n",
    "sgd_pipeline.fit(train_features, train_labels)\n",
    "\n",
    "train_mae = mean_absolute_error(train_labels, sgd_pipeline.predict(train_features))\n",
    "dev_mae = mean_absolute_error(dev_labels, sgd_pipeline.predict(dev_features))\n",
    "\n",
    "print(\"Mean Absolute Error on Training set: \", train_mae)\n",
    "print(\"Mean Absolute Error on development set: \", dev_mae)\n",
    "\n",
    "print('\\n# iteration before reaching convergence criteria: ', \n",
    "        sgd_pipeline[-1].n_iter_)\n",
    "\n",
    "print (\"#Weight updated:\", sgd_pipeline[-1].t_)"
   ]
  },
  {
   "cell_type": "code",
   "execution_count": 33,
   "metadata": {},
   "outputs": [
    {
     "name": "stdout",
     "output_type": "stream",
     "text": [
      "Mean Absolute Error on Training set:  0.5340193046836148\n",
      "Mean Absolute Error on development set:  0.5198356196858102\n",
      "\n",
      "# iteration before reaching convergence criteria:  33\n",
      "#Weight updated: 383131.0\n"
     ]
    }
   ],
   "source": [
    "#learning rate changed to adaptive from inverse scaling(default)\n",
    "\n",
    "# in adaptive learning rate it uses the initial learning rate as long as it reaches the conv criteria\n",
    "# as the conv criteria is made it reduces the learning rate /5 and again continues till convergence \n",
    "# it will continue until the lr drops below 1e-6\n",
    "sgd_pipeline = Pipeline([(\"feature_scaling\", StandardScaler()),\n",
    "                        (\"sgd\", SGDRegressor(max_iter=500,\n",
    "                                            early_stopping=True,\n",
    "                                            eta0 = 1e-3,\n",
    "                                            tol=1e-3,\n",
    "                                            learning_rate='adaptive',\n",
    "                                            validation_fraction=0.2,\n",
    "                                            n_iter_no_change=5,\n",
    "                                            average=10,\n",
    "                                            random_state=42))])\n",
    "\n",
    "sgd_pipeline.fit(train_features, train_labels)\n",
    "\n",
    "train_mae = mean_absolute_error(train_labels, sgd_pipeline.predict(train_features))\n",
    "dev_mae = mean_absolute_error(dev_labels, sgd_pipeline.predict(dev_features))\n",
    "\n",
    "print(\"Mean Absolute Error on Training set: \", train_mae)\n",
    "print(\"Mean Absolute Error on development set: \", dev_mae)\n",
    "\n",
    "print('\\n# iteration before reaching convergence criteria: ', \n",
    "        sgd_pipeline[-1].n_iter_)\n",
    "\n",
    "print (\"#Weight updated:\", sgd_pipeline[-1].t_)"
   ]
  },
  {
   "cell_type": "markdown",
   "metadata": {},
   "source": [
    "#### Setting max_iters\n",
    "\n",
    "imperically SGD converges after seeing about 1 million examples "
   ]
  },
  {
   "cell_type": "code",
   "execution_count": 34,
   "metadata": {},
   "outputs": [
    {
     "data": {
      "text/plain": [
       "65.0"
      ]
     },
     "execution_count": 34,
     "metadata": {},
     "output_type": "execute_result"
    }
   ],
   "source": [
    "max_iter = np.ceil(1e6/com_train_features.shape[0])\n",
    "max_iter"
   ]
  },
  {
   "cell_type": "code",
   "execution_count": 37,
   "metadata": {},
   "outputs": [
    {
     "name": "stdout",
     "output_type": "stream",
     "text": [
      "Mean Absolute Error on Training set:  0.5359339681114987\n",
      "Mean Absolute Error on development set:  0.5151099728924144\n",
      "\n",
      "# iteration before reaching convergence criteria:  8\n",
      "#Weight updated: 92881.0\n"
     ]
    }
   ],
   "source": [
    "sgd_pipeline = Pipeline([(\"feature_scaling\", StandardScaler()),\n",
    "                        (\"sgd\", SGDRegressor(max_iter=max_iter,\n",
    "                                            early_stopping=True,\n",
    "                                            eta0 = 1e-3,\n",
    "                                            tol=1e-3,\n",
    "                                            learning_rate='constant',\n",
    "                                            validation_fraction=0.2,\n",
    "                                            n_iter_no_change=5,\n",
    "                                            average=10,\n",
    "                                            random_state=42))])\n",
    "\n",
    "sgd_pipeline.fit(train_features, train_labels)\n",
    "\n",
    "train_mae = mean_absolute_error(train_labels, sgd_pipeline.predict(train_features))\n",
    "dev_mae = mean_absolute_error(dev_labels, sgd_pipeline.predict(dev_features))\n",
    "\n",
    "print(\"Mean Absolute Error on Training set: \", train_mae)\n",
    "print(\"Mean Absolute Error on development set: \", dev_mae)\n",
    "\n",
    "print('\\n# iteration before reaching convergence criteria: ', \n",
    "        sgd_pipeline[-1].n_iter_)\n",
    "\n",
    "print (\"#Weight updated:\", sgd_pipeline[-1].t_)"
   ]
  },
  {
   "cell_type": "markdown",
   "metadata": {},
   "source": [
    "even though max_itr is 65 but SGD converges after 8 itr "
   ]
  },
  {
   "cell_type": "code",
   "execution_count": null,
   "metadata": {},
   "outputs": [],
   "source": []
  },
  {
   "cell_type": "code",
   "execution_count": null,
   "metadata": {},
   "outputs": [],
   "source": []
  }
 ],
 "metadata": {
  "kernelspec": {
   "display_name": "Python 3.7.9 64-bit (microsoft store)",
   "language": "python",
   "name": "python3"
  },
  "language_info": {
   "codemirror_mode": {
    "name": "ipython",
    "version": 3
   },
   "file_extension": ".py",
   "mimetype": "text/x-python",
   "name": "python",
   "nbconvert_exporter": "python",
   "pygments_lexer": "ipython3",
   "version": "3.10.7"
  },
  "orig_nbformat": 4,
  "vscode": {
   "interpreter": {
    "hash": "49deadb19ec3199b19c2e07bd674ab90037832d683175982dd3cb88bf7cb6cf2"
   }
  }
 },
 "nbformat": 4,
 "nbformat_minor": 2
}
