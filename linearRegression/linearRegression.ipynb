{
 "cells": [
  {
   "cell_type": "markdown",
   "metadata": {},
   "source": [
    "`Dummy Regressor` helps in creating a baseline model for regression. <br>\n",
    "we can either set it to `mean`, `median`, `quantile` (can be specified) or  `constant` (can be specified)\n",
    "\n",
    "* LinearRegression() uses normal equation \n",
    "* SGDRegressor() uses iterative optimization --> uses stochastic gradient descent and used for large data (>10k)\n"
   ]
  },
  {
   "cell_type": "markdown",
   "metadata": {},
   "source": [
    "### SGDRegressor \n",
    "#### hyperparameter\n",
    "* **Loss :** it has two types of loss as hyperparameter. `squared error` and `huber` (used tyo make linear regressor robust to the outliers).\n",
    "* **Penalty :** it has different penalty like `l1`, `l2`, `elasticnet`.\n",
    "* **Learning rate :** learning rate can be `constant`, `optimal`, `invscaling` and `adaptive`. By default it uses invscaling.\n",
    "* **Early stopping** : stopping criteria or `early_stopping` can be True or False.\n",
    "\n",
    "#### Feature scaling for SGDRegressor \n",
    "SGDRegressor is sensitive to feature scaling. \n",
    "\n",
    "> * Feature scaling is not needed for word freq and indicator features as they have intrinsic scale. \n",
    "> * Feature extracted using PCA should be scaled by some constant c such that the avg L2 norm of the training data equals one.\n",
    "\n",
    "#### Shufle \n",
    "`SGDRegressor(shuffle = True)` will shuffle the training data after each epoch. default True \n",
    "\n",
    "##### WHY?\n",
    "In Stochastic Gradient Descent (SGD) and its variants like `SGDRegressor`, shuffling the training data after each epoch is recommended for several important reasons:\n",
    "\n",
    "1. **Avoiding Bias**: When training a machine learning model, the order in which you present training examples to the model can have an impact on the model's performance. If you feed the examples to the model in a specific order, it may start to learn and adapt primarily to the patterns in that order, which can introduce bias into the model. Shuffling the data helps break any potential patterns or biases in the order of examples.\n",
    "\n",
    "2. **Promoting Generalization**: Shuffling the training data at the beginning of each epoch ensures that the model is exposed to a diverse set of examples in each epoch. This diversity helps the model generalize better because it prevents the model from memorizing the specific order of the examples. Generalization is crucial for the model's ability to make accurate predictions on new, unseen data.\n",
    "\n",
    "3. **Converging Faster**: Shuffling the data introduces randomness into the training process. This randomness can help the optimization algorithm escape local minima and converge faster to a global minimum of the loss function. Without shuffling, the optimizer might get stuck in a suboptimal solution.\n",
    "\n",
    "4. **Reducing Overfitting**: By shuffling the data, you make it less likely that the model will overfit to specific patterns or outliers in the training data. Overfitting occurs when a model becomes too specialized in capturing the noise or idiosyncrasies of the training data, which results in poor generalization to new data.\n",
    "\n",
    "5. **Ensuring Fairness**: In some cases, the data might be ordered in a way that represents a particular class distribution or pattern that changes over time. Shuffling the data ensures that each class or pattern has an equal chance to be represented in each epoch, which can be important for fairness and balanced learning.\n",
    "\n",
    "##### Learning Rate : \n",
    "\n",
    "\n",
    "##### invscaling : \n",
    "\n",
    "* default setting for learning rate is `invscaling` and we use `eta0 = 1e-2` and `power_t = 0.25` which can be optimized to speed up or slow down the learning process \n",
    "\n",
    "* SGDRegressor uses different learning rate in different iterations. \n",
    "Learning rate reduces after every itertion and the learning rate is defined by `eta = eta0/pow(t, power_t)` t is the current iteration. \n",
    "\n",
    "```py\n",
    "from sklearn.linear_model import SGDRegressor\n",
    "\n",
    "# Set the initial learning rate (eta0) and power_t\n",
    "sgd_regressor = SGDRegressor(eta0=0.01, power_t=0.5, max_iter=1000, tol=1e-3)\n",
    "\n",
    "# Fit the model to your training data\n",
    "sgd_regressor.fit(X_train, y_train)\n",
    "\n",
    "# Make predictions or evaluate the model\n",
    "predictions = sgd_regressor.predict(X_test)\n",
    "\n",
    "```\n",
    "`eta` is the current learning rate for the particular iteration. for t = 1 `eta = eta0`\n",
    "\n",
    "`eta0` is the initial learning rate which remains constant. \n",
    "* speed up : initialize with a large value \n",
    "* slow down : inititalize with a small value. \n",
    "\n",
    "power_t is the power of t. t = 1, 2, 3, ... \n",
    "* speed up : initialize with a small value \n",
    "* slow down : initialize with a large value"
   ]
  },
  {
   "cell_type": "code",
   "execution_count": 4,
   "metadata": {},
   "outputs": [
    {
     "name": "stdout",
     "output_type": "stream",
     "text": [
      "0.01\n",
      "0.009330329915368075\n",
      "0.008959584598407623\n",
      "0.008705505632961241\n",
      "0.008513399225207847\n",
      "0.008359588020779369\n",
      "0.008231712539930443\n",
      "0.008122523963562354\n",
      "0.008027415617602307\n",
      "0.007943282347242816\n"
     ]
    }
   ],
   "source": [
    "# speed up training \n",
    "initial_learning_rate = 0.01 # et0 \n",
    "powert_t = 0.1\n",
    "\n",
    "for i in range(10) : \n",
    "    eta = (initial_learning_rate/ pow(i+1, powert_t))\n",
    "    print(eta)"
   ]
  },
  {
   "cell_type": "code",
   "execution_count": 6,
   "metadata": {},
   "outputs": [
    {
     "name": "stdout",
     "output_type": "stream",
     "text": [
      "0.01\n",
      "0.005946035575013606\n",
      "0.004386913376508308\n",
      "0.0035355339059327372\n",
      "0.002990697562442441\n",
      "0.0026084743001221454\n",
      "0.002323680802425408\n",
      "0.0021022410381342864\n",
      "0.0019245008972987524\n",
      "0.0017782794100389228\n"
     ]
    }
   ],
   "source": [
    "# slow down training \n",
    "initial_learning_rate = 0.01 # et0 \n",
    "powert_t = 0.75\n",
    "\n",
    "for i in range(10) : \n",
    "    eta = (initial_learning_rate/ pow(i+1, powert_t))\n",
    "    print(eta)"
   ]
  },
  {
   "cell_type": "markdown",
   "metadata": {},
   "source": [
    "##### constant : \n",
    "keeps the learning rate constant through out all iterations \n",
    "##### adaptive : \n",
    "* learning rate to kept to initial value as long as the loss keep decreasing.\n",
    "* once the stopping criteria is hit learning rate is divided by 5 and the training loop continues.\n",
    "* algo stops when learning rate goes below 10^-6\n",
    "\n",
    "#### Max iterations \n",
    "* `max_itr` is number of epochs. By default its 1000. \n",
    "\n",
    "> **Practical Tip** : \n",
    "> Its observed that SGD converges after observing approx 10^6 training samples. <br>\n",
    "> so the best guess for `max_itr` = np.ceil(10^6/n), where n is the number of samples in training set "
   ]
  },
  {
   "cell_type": "code",
   "execution_count": 16,
   "metadata": {},
   "outputs": [
    {
     "name": "stdout",
     "output_type": "stream",
     "text": [
      "reasonable guess for max_itr for 100 samples --> 10000.0\n",
      "reasonable guess for max_itr for 1000 samples --> 1000.0\n",
      "reasonable guess for max_itr for 10000 samples --> 100.0\n",
      "reasonable guess for max_itr for 100000 samples --> 10.0\n",
      "reasonable guess for max_itr for 1000000 samples --> 1.0\n",
      "reasonable guess for max_itr for 10000000 samples --> 1.0\n"
     ]
    }
   ],
   "source": [
    "import numpy as np \n",
    "\n",
    "for i in range(6) : \n",
    "    trainig_data_len = 100 * pow(10, i)\n",
    "    max_itr = np.ceil(pow(10, 6)/trainig_data_len)\n",
    "    print(f'reasonable guess for max_itr for {trainig_data_len} samples --> {max_itr}')"
   ]
  },
  {
   "cell_type": "markdown",
   "metadata": {},
   "source": [
    "### How to set stopping criteria in SGDRegressor? \n",
    "\n",
    "* Option 1 : `tol = 1e-3`, `n_iter_no_change = 5`, `max_iter = 500` it stops \n",
    "    * when the training loss does  n't improve (loss > best_loss - tol) for n_iter_no_change consecutive epochs \n",
    "    * else after a max num of iteration `max_iter`\n",
    "\n",
    "* Option 2 : `early_stoppin = True`, `validation_fraction = 0.2` along with the prev parameters, it stops \n",
    "    * when validation_score doesn't improve by at least tol for n_iter_no_change consecutive epochs \n",
    "    * else after a max num of iteration `max_iter` \n",
    "\n",
    "### Avgeraged SGD\n",
    "updating weight just based on the last sample weight can be a bit unstable so we can take avg of previous weights to make it more stable and it helps avoiding the local minima trap. \n",
    "\n",
    "* `average = True` gives the avg weights from prev updates \n",
    "* `average = 10` gives the avg weights from prev updates starting after 10 samples, works best with large num of features and high value of `eta0` \n",
    "\n",
    "sometimes we do multiple runs of SGD and we want to use the value of the prev weight vector as initialization for the next SGD run. `warm_start = True` does the same. By default its Flase. "
   ]
  },
  {
   "cell_type": "code",
   "execution_count": 28,
   "metadata": {},
   "outputs": [
    {
     "data": {
      "image/png": "[encoded data removed]",
      "text/plain": [
       "<Figure size 432x288 with 1 Axes>"
      ]
     },
     "metadata": {
      "needs_background": "light"
     },
     "output_type": "display_data"
    }
   ],
   "source": [
    "from sklearn.linear_model import SGDRegressor\n",
    "from sklearn.metrics import  mean_absolute_error\n",
    "from sklearn.datasets import make_regression\n",
    "from sklearn.model_selection import train_test_split\n",
    "import seaborn as sns\n",
    "import matplotlib.pyplot as plt  \n",
    "\n",
    "X, y = make_regression(n_samples=1000, n_features=10, noise=0.1, random_state=42)\n",
    "\n",
    "X_train, X_test, y_train, y_test = train_test_split(X, y, test_size=0.2, random_state=42)\n",
    "X_train, X_val, y_train, y_val = train_test_split(X_train, y_train, test_size=0.2, random_state=42)\n",
    "\n",
    "\n",
    "sgd_reg = SGDRegressor(\n",
    "    max_iter= 1, tol = -np.infty, warm_start= True, \n",
    "    penalty = None, learning_rate = 'constant', eta0 = 0.0005\n",
    ")\n",
    "\n",
    "error = []\n",
    "epoch_ = [i+1 for i in range(1000)]\n",
    "for epoch in range(1000) : \n",
    "    # in each iteration the we use the value of weight from the prev itr to start with \n",
    "    sgd_reg.fit(X_train, y_train) \n",
    "    y_val_predict = sgd_reg.predict(X_val)\n",
    "    val_error = mean_absolute_error(y_val, y_val_predict)\n",
    "    error.append(val_error)\n",
    "\n",
    "sns.lineplot(x = epoch_, y = error);\n",
    "plt.xlabel('epoch');\n",
    "plt.ylabel('error');"
   ]
  },
  {
   "cell_type": "markdown",
   "metadata": {},
   "source": [
    "## Model evaluation : \n",
    "`.coef_` gives coefficients of regression and `.intercept_` gives the intercept and this works for all regression methods \n",
    "\n",
    "* training error or empirical error \n",
    "* test error or generalization error \n",
    "\n",
    "`lr.score(x_test, y_test)` gives the R2 score \n",
    "\n",
    "common evaluation matrix \n",
    "* `mean_absolute_error` \n",
    "* `mean_squarred_error` \n",
    "* `r2_score` \n",
    "\n",
    "special evaluation matrix \n",
    "* `mean_squared_log_error` useful for targets with exponential growths like population --> penalizes under-estimation heavier than the over-estimation\n",
    "* `mean_absolute_percentage_error` --> sensitive to relative error \n",
    "* `median_absolute_error` --> robust to outliers\n",
    "* `max_error` --> worst case error (only used in single output regression, doesn't support multi-output regression)\n",
    "\n",
    "> * For scores higher is better \n",
    "> * For error lower is better \n",
    "\n",
    "to convert error metric to score metric use `neg_` as suffix\n",
    "\n",
    "\n",
    "### cross validation \n",
    "In case, we get comparable performance on train and test with a specific split, is this performance guranteed on other splits???\n",
    "\n",
    "* If the test set is small then test error obtained is unstable and would not reflect the true error on larger test set \n",
    "* if only easier samples are kept aside as test set then this would lead to optimistic estimation of the true test error \n",
    "\n",
    "To avoid this we use cross validation. It creates multiple train and test sets and train on different sets and this way we ensure robust performance evaluation.\n",
    "\n",
    "* KFold --> k-1 for training and 1 for test \n",
    "```\n",
    "KFold(n_splits=2, random_state=None, shuffle=False)\n",
    "for train_index, test_index in kf.split(X):\n",
    "    print(\"TRAIN:\", train_index, \"TEST:\", test_index)\n",
    "    X_train, X_test = X[train_index], X[test_index]\n",
    "    y_train, y_test = y[train_index], y[test_index]\n",
    "TRAIN: [2 3] TEST: [0 1]\n",
    "TRAIN: [0 1] TEST: [2 3]\n",
    "```\n",
    "\n",
    "* RepeatedKfold --> repeats the KFold \n",
    "* LeaveOneOut --> will leave exactly one out as test \n",
    "* ShuffleSplit --> Shuffles the training data before splitting --> robust for class distribution so even if the class distributions are not uniform it works well \n",
    "\n",
    "```\n",
    "ShuffleSplit(n_splits=5, random_state=0, test_size=0.25, train_size=None)\n",
    "for train_index, test_index in rs.split(X):\n",
    "    print(\"TRAIN:\", train_index, \"TEST:\", test_index)\n",
    "TRAIN: [1 3 0 4] TEST: [5 2]\n",
    "TRAIN: [4 0 2 5] TEST: [1 3]\n",
    "TRAIN: [1 2 4 0] TEST: [3 5]\n",
    "TRAIN: [3 4 1 0] TEST: [5 2]\n",
    "TRAIN: [3 5 1 0] TEST: [2 4]\n",
    "```\n",
    "\n",
    "for different scoring methods we use `cross_validate` class and pass different `scoring` parameters to it and you can also pass a list of scores to be considered. \n",
    "\n",
    "\n",
    "### Learning curve \n",
    "helps us to study the effect of #samples on training and test errors. we can plot this and check.\n",
    "\n",
    "### Overfitting/Underfitting \n",
    "1. fit linear model with diff num of features \n",
    "2. for each model, obtain training and test errors \n",
    "3. plot #features vs error graph - one each for training and test error \n",
    "4. examine the graphs to detect underfitting/overfitting "
   ]
  },
  {
   "cell_type": "code",
   "execution_count": null,
   "metadata": {},
   "outputs": [],
   "source": []
  },
  {
   "cell_type": "code",
   "execution_count": null,
   "metadata": {},
   "outputs": [],
   "source": []
  }
 ],
 "metadata": {
  "kernelspec": {
   "display_name": "Python 3.10.7 64-bit",
   "language": "python",
   "name": "python3"
  },
  "language_info": {
   "codemirror_mode": {
    "name": "ipython",
    "version": 3
   },
   "file_extension": ".py",
   "mimetype": "text/x-python",
   "name": "python",
   "nbconvert_exporter": "python",
   "pygments_lexer": "ipython3",
   "version": "3.10.7"
  },
  "orig_nbformat": 4,
  "vscode": {
   "interpreter": {
    "hash": "e4ba08aa27a50dfc4411e691f4a22a11e700bce603ba8e16cecc3bc830c9da89"
   }
  }
 },
 "nbformat": 4,
 "nbformat_minor": 2
}
