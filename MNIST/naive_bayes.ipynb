{
 "cells": [
  {
   "cell_type": "markdown",
   "metadata": {},
   "source": [
    "#### Naive Bayes \n",
    "* GaussianNB -> Continuous feature\n",
    "* BernoulliNB -> binary feature\n",
    "* CategoricalNB -> if feature follows categorical distribution\n",
    "* MultinomialNB -> text classification\n",
    "* ComplementNB -> if we have class imbalance in the dataset \n",
    "\n",
    "\n",
    "**categorical distribution**\n",
    "A categorical distribution is a discrete probability distribution that represents the probability of an outcome falling into one of several categories. It is also known as a multinoulli or a generalization of the Bernoulli distribution for more than two categories. The categorical distribution is often used when dealing with categorical or nominal data, where each category has a specific probability associated with it.\n",
    "\n",
    "**Probability Density Function (PDF)**:\n",
    "The PDF of the categorical distribution can be defined as follows:\n",
    "\n",
    "\\[P(X=k) = p_k\\]\n",
    "\n",
    "Where:\n",
    "- \\(P(X=k)\\) is the probability of the random variable \\(X\\) taking on the value \\(k\\).\n",
    "- \\(p_k\\) is the probability of category \\(k\\)."
   ]
  },
  {
   "cell_type": "code",
   "execution_count": 1,
   "metadata": {},
   "outputs": [
    {
     "data": {
      "image/png": "[encoded data removed]",
      "text/plain": [
       "<Figure size 432x288 with 1 Axes>"
      ]
     },
     "metadata": {
      "needs_background": "light"
     },
     "output_type": "display_data"
    }
   ],
   "source": [
    "import numpy as np\n",
    "import matplotlib.pyplot as plt\n",
    "\n",
    "# Define categories and their probabilities\n",
    "categories = ['A', 'B', 'C', 'D']\n",
    "probabilities = [0.2, 0.3, 0.1, 0.4]\n",
    "\n",
    "# Plot the categorical distribution\n",
    "plt.bar(categories, probabilities)\n",
    "plt.title(\"Categorical Distribution\")\n",
    "plt.xlabel(\"Categories\")\n",
    "plt.ylabel(\"Probabilities\")\n",
    "plt.show()"
   ]
  },
  {
   "cell_type": "code",
   "execution_count": null,
   "metadata": {},
   "outputs": [],
   "source": []
  }
 ],
 "metadata": {
  "kernelspec": {
   "display_name": "Python 3",
   "language": "python",
   "name": "python3"
  },
  "language_info": {
   "codemirror_mode": {
    "name": "ipython",
    "version": 3
   },
   "file_extension": ".py",
   "mimetype": "text/x-python",
   "name": "python",
   "nbconvert_exporter": "python",
   "pygments_lexer": "ipython3",
   "version": "3.10.7"
  }
 },
 "nbformat": 4,
 "nbformat_minor": 2
}
